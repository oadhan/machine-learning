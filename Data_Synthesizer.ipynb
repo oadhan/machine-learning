{
  "nbformat": 4,
  "nbformat_minor": 0,
  "metadata": {
    "kernelspec": {
      "name": "python3",
      "display_name": "Python 3"
    },
    "colab": {
      "name": "Data Synthesizer.ipynb",
      "provenance": [],
      "collapsed_sections": []
    }
  },
  "cells": [
    {
      "cell_type": "markdown",
      "metadata": {
        "id": "clfRTaEBUoCb"
      },
      "source": [
        "# RDS Lab 8 and 9: DataSynthesizer\n",
        "\n",
        "Today we will be talking about a privacy-preserving way to create synthetic data that (optionally) retains some useful characteristics of the original dataset. You can read about the DataSynthesizer in [Ping, Stoyanovich, and Howe (2017)](https://faculty.washington.edu/billhowe/publications/pdfs/ping17datasynthesizer.pdf). From the abstract:\n",
        "\n",
        "> To facilitate collaboration over sensitive data, we present DataSynthesizer, a tool that takes a sensitive dataset as input and generates a structurally and statistically similar synthetic dataset with strong privacy guarantees. The data owners need not release their data, while potential collaborators can begin developing models and methods with some confidence that their results will work similarly on the real dataset.\n",
        "\n",
        "We will cover three modes for generating synthetic data:\n",
        "  1. random mode\n",
        "  2. independent attribute mode\n",
        "  3. correlated attribute mode\n",
        "\n",
        "These modes are described in Ping, Stoyanovich, and Howe (2017, p.2):\n",
        "\n",
        "> DataSynthesizer can operate in one of three modes: In correlated attribute mode, we learn a differentially private Bayesian network capturing the correlation structure between attributes, then draw samples from this model to construct the result dataset. In cases where the correlated attribute mode is too computationally expensive or when there is insufficient data to derive a reasonable model, one can use independent attribute mode. In this mode, a histogram is derived for each attribute, noise is added to the histogram to achieve differential privacy, and then samples are drawn for each attribute. Finally, for cases of extremely sensitive data, one can use random mode that simply generates type-consistent random values for each attribute.\n",
        "\n",
        "\n"
      ]
    },
    {
      "cell_type": "code",
      "metadata": {
        "id": "mPFNHTWOUoCh",
        "colab": {
          "base_uri": "https://localhost:8080/"
        },
        "outputId": "348a40cb-57d4-4edb-91e3-3a38f4e41e2e"
      },
      "source": [
        "# Install DataSynthesizer\n",
        "!pip install DataSynthesizer"
      ],
      "execution_count": 1,
      "outputs": [
        {
          "output_type": "stream",
          "text": [
            "Collecting DataSynthesizer\n",
            "  Downloading https://files.pythonhosted.org/packages/89/a4/0a36034212aebcb2aaf1519d71ab1a8239743b449fdf84026026373b26dd/DataSynthesizer-0.1.6-py2.py3-none-any.whl\n",
            "Requirement already satisfied: numpy>=1.18.5 in /usr/local/lib/python3.7/dist-packages (from DataSynthesizer) (1.19.5)\n",
            "Collecting scikit-learn>=0.23.1\n",
            "\u001b[?25l  Downloading https://files.pythonhosted.org/packages/f3/74/eb899f41d55f957e2591cde5528e75871f817d9fb46d4732423ecaca736d/scikit_learn-0.24.1-cp37-cp37m-manylinux2010_x86_64.whl (22.3MB)\n",
            "\u001b[K     |████████████████████████████████| 22.3MB 1.4MB/s \n",
            "\u001b[?25hRequirement already satisfied: python-dateutil>=2.8.1 in /usr/local/lib/python3.7/dist-packages (from DataSynthesizer) (2.8.1)\n",
            "Requirement already satisfied: seaborn>=0.10.1 in /usr/local/lib/python3.7/dist-packages (from DataSynthesizer) (0.11.1)\n",
            "Requirement already satisfied: matplotlib>=3.2.2 in /usr/local/lib/python3.7/dist-packages (from DataSynthesizer) (3.2.2)\n",
            "Requirement already satisfied: pandas>=1.0.5 in /usr/local/lib/python3.7/dist-packages (from DataSynthesizer) (1.1.5)\n",
            "Collecting threadpoolctl>=2.0.0\n",
            "  Downloading https://files.pythonhosted.org/packages/f7/12/ec3f2e203afa394a149911729357aa48affc59c20e2c1c8297a60f33f133/threadpoolctl-2.1.0-py3-none-any.whl\n",
            "Requirement already satisfied: joblib>=0.11 in /usr/local/lib/python3.7/dist-packages (from scikit-learn>=0.23.1->DataSynthesizer) (1.0.1)\n",
            "Requirement already satisfied: scipy>=0.19.1 in /usr/local/lib/python3.7/dist-packages (from scikit-learn>=0.23.1->DataSynthesizer) (1.4.1)\n",
            "Requirement already satisfied: six>=1.5 in /usr/local/lib/python3.7/dist-packages (from python-dateutil>=2.8.1->DataSynthesizer) (1.15.0)\n",
            "Requirement already satisfied: pyparsing!=2.0.4,!=2.1.2,!=2.1.6,>=2.0.1 in /usr/local/lib/python3.7/dist-packages (from matplotlib>=3.2.2->DataSynthesizer) (2.4.7)\n",
            "Requirement already satisfied: cycler>=0.10 in /usr/local/lib/python3.7/dist-packages (from matplotlib>=3.2.2->DataSynthesizer) (0.10.0)\n",
            "Requirement already satisfied: kiwisolver>=1.0.1 in /usr/local/lib/python3.7/dist-packages (from matplotlib>=3.2.2->DataSynthesizer) (1.3.1)\n",
            "Requirement already satisfied: pytz>=2017.2 in /usr/local/lib/python3.7/dist-packages (from pandas>=1.0.5->DataSynthesizer) (2018.9)\n",
            "Installing collected packages: threadpoolctl, scikit-learn, DataSynthesizer\n",
            "  Found existing installation: scikit-learn 0.22.2.post1\n",
            "    Uninstalling scikit-learn-0.22.2.post1:\n",
            "      Successfully uninstalled scikit-learn-0.22.2.post1\n",
            "Successfully installed DataSynthesizer-0.1.6 scikit-learn-0.24.1 threadpoolctl-2.1.0\n"
          ],
          "name": "stdout"
        }
      ]
    },
    {
      "cell_type": "code",
      "metadata": {
        "id": "l0QcZb4pUoCi"
      },
      "source": [
        "# Import packages\n",
        "import json\n",
        "import pandas as pd\n",
        "import matplotlib.pyplot as plt\n",
        "%matplotlib inline\n",
        "from IPython.display import Image\n",
        "\n",
        "from DataSynthesizer.DataDescriber import DataDescriber\n",
        "from DataSynthesizer.DataGenerator import DataGenerator\n",
        "from DataSynthesizer.ModelInspector import ModelInspector\n",
        "from DataSynthesizer.lib.utils import read_json_file, display_bayesian_network"
      ],
      "execution_count": 2,
      "outputs": []
    },
    {
      "cell_type": "code",
      "metadata": {
        "id": "lwi1-t0EUoCj"
      },
      "source": [
        "# Intialize a describer and a generator\n",
        "describer = DataDescriber()\n",
        "generator = DataGenerator()"
      ],
      "execution_count": 3,
      "outputs": []
    },
    {
      "cell_type": "markdown",
      "metadata": {
        "id": "3slyik8nUoCj"
      },
      "source": [
        "## Preparation\n"
      ]
    },
    {
      "cell_type": "code",
      "metadata": {
        "id": "uUk_ukGuBQVW"
      },
      "source": [
        "# Packages for reading csv file into Colaboratory:\n",
        "!pip install -U -q PyDrive==1.3.1\n",
        "\n",
        "from pydrive.auth import GoogleAuth\n",
        "from pydrive.drive import GoogleDrive\n",
        "from google.colab import auth\n",
        "from oauth2client.client import GoogleCredentials\n",
        "\n",
        "# Authenticate and create the PyDrive client. \n",
        "# Please follow the steps as instructed when you run the following commands. \n",
        "\n",
        "auth.authenticate_user()\n",
        "gauth = GoogleAuth()\n",
        "gauth.credentials = GoogleCredentials.get_application_default()\n",
        "drive = GoogleDrive(gauth)"
      ],
      "execution_count": 4,
      "outputs": []
    },
    {
      "cell_type": "code",
      "metadata": {
        "id": "HAm_FkQjBV_a"
      },
      "source": [
        "fileid_compas = '1TDNwGAEwzqODunv-MkQvKNU2b_JgjzB2'    \n",
        "sensitive_data_file = 'adult_reduced.csv'\n",
        "\n",
        "downloaded = drive.CreateFile({'id':fileid_compas}) \n",
        "downloaded.GetContentFile(sensitive_data_file)\n",
        "# df_real = pd.read_csv(real_data_file)"
      ],
      "execution_count": 5,
      "outputs": []
    },
    {
      "cell_type": "code",
      "metadata": {
        "id": "ddP04yrzUoCk"
      },
      "source": [
        "# Set up some paths\n",
        "description_files = {'random mode':                   'description(random).json', \n",
        "                     'independent attribute mode':    'description(independent).json', \n",
        "                     'correlated attribute mode':     'description(correlated).json'}\n",
        "synthetic_data_files = {'random mode':                'synthetic data(random).csv', \n",
        "                        'independent attribute mode': 'synthetic data(independent).csv', \n",
        "                        'correlated attribute mode':  'synthetic data(correlated).csv'}\n",
        "\n",
        "output_data_size = 1000"
      ],
      "execution_count": 6,
      "outputs": []
    },
    {
      "cell_type": "code",
      "metadata": {
        "id": "MYpK70FUUoCk",
        "colab": {
          "base_uri": "https://localhost:8080/",
          "height": 204
        },
        "outputId": "389fcaca-3ba9-4aeb-9527-b96da0d27315"
      },
      "source": [
        "# Read in the data\n",
        "real_data = pd.read_csv(sensitive_data_file)\n",
        "real_data.head()"
      ],
      "execution_count": 7,
      "outputs": [
        {
          "output_type": "execute_result",
          "data": {
            "text/html": [
              "<div>\n",
              "<style scoped>\n",
              "    .dataframe tbody tr th:only-of-type {\n",
              "        vertical-align: middle;\n",
              "    }\n",
              "\n",
              "    .dataframe tbody tr th {\n",
              "        vertical-align: top;\n",
              "    }\n",
              "\n",
              "    .dataframe thead th {\n",
              "        text-align: right;\n",
              "    }\n",
              "</style>\n",
              "<table border=\"1\" class=\"dataframe\">\n",
              "  <thead>\n",
              "    <tr style=\"text-align: right;\">\n",
              "      <th></th>\n",
              "      <th>age</th>\n",
              "      <th>education</th>\n",
              "      <th>sex</th>\n",
              "      <th>relationship</th>\n",
              "      <th>marital-status</th>\n",
              "      <th>income</th>\n",
              "    </tr>\n",
              "  </thead>\n",
              "  <tbody>\n",
              "    <tr>\n",
              "      <th>0</th>\n",
              "      <td>39</td>\n",
              "      <td>Bachelors</td>\n",
              "      <td>Male</td>\n",
              "      <td>Not-in-family</td>\n",
              "      <td>Never-married</td>\n",
              "      <td>&lt;=50K</td>\n",
              "    </tr>\n",
              "    <tr>\n",
              "      <th>1</th>\n",
              "      <td>50</td>\n",
              "      <td>Bachelors</td>\n",
              "      <td>Male</td>\n",
              "      <td>Husband</td>\n",
              "      <td>Married-civ-spouse</td>\n",
              "      <td>&lt;=50K</td>\n",
              "    </tr>\n",
              "    <tr>\n",
              "      <th>2</th>\n",
              "      <td>38</td>\n",
              "      <td>HS-grad</td>\n",
              "      <td>Male</td>\n",
              "      <td>Not-in-family</td>\n",
              "      <td>Divorced</td>\n",
              "      <td>&lt;=50K</td>\n",
              "    </tr>\n",
              "    <tr>\n",
              "      <th>3</th>\n",
              "      <td>53</td>\n",
              "      <td>11th</td>\n",
              "      <td>Male</td>\n",
              "      <td>Husband</td>\n",
              "      <td>Married-civ-spouse</td>\n",
              "      <td>&lt;=50K</td>\n",
              "    </tr>\n",
              "    <tr>\n",
              "      <th>4</th>\n",
              "      <td>28</td>\n",
              "      <td>Bachelors</td>\n",
              "      <td>Female</td>\n",
              "      <td>Wife</td>\n",
              "      <td>Married-civ-spouse</td>\n",
              "      <td>&lt;=50K</td>\n",
              "    </tr>\n",
              "  </tbody>\n",
              "</table>\n",
              "</div>"
            ],
            "text/plain": [
              "   age  education     sex   relationship      marital-status income\n",
              "0   39  Bachelors    Male  Not-in-family       Never-married  <=50K\n",
              "1   50  Bachelors    Male        Husband  Married-civ-spouse  <=50K\n",
              "2   38    HS-grad    Male  Not-in-family            Divorced  <=50K\n",
              "3   53       11th    Male        Husband  Married-civ-spouse  <=50K\n",
              "4   28  Bachelors  Female           Wife  Married-civ-spouse  <=50K"
            ]
          },
          "metadata": {
            "tags": []
          },
          "execution_count": 7
        }
      ]
    },
    {
      "cell_type": "markdown",
      "metadata": {
        "id": "s66z6S0Bhp1z"
      },
      "source": [
        "Take a moment to familiarize yourself with the above data."
      ]
    },
    {
      "cell_type": "markdown",
      "metadata": {
        "id": "qQqbrN5LUoCk"
      },
      "source": [
        "## Random mode\n",
        "\n",
        "In random mode, we replace the feature(s) that we want to protect with random values drawn from a uniform distribution:"
      ]
    },
    {
      "cell_type": "code",
      "metadata": {
        "id": "IUtKY-t3UoCl"
      },
      "source": [
        "describer.describe_dataset_in_random_mode(sensitive_data_file)"
      ],
      "execution_count": 8,
      "outputs": []
    },
    {
      "cell_type": "code",
      "metadata": {
        "id": "B__i_IeuUoCl"
      },
      "source": [
        "describer.save_dataset_description_to_file(description_files['random mode'])"
      ],
      "execution_count": 9,
      "outputs": []
    },
    {
      "cell_type": "markdown",
      "metadata": {
        "id": "BzsnFv6uUoCl"
      },
      "source": [
        "#### Important parameters in random mode\n",
        "\n",
        "Let's generate synthetic data in random mode. Pay attention to these parameters:\n",
        "\n",
        "- __seed__: initialize the random number generator for both `random` and `np.random`\n",
        "- __mininum__, __maximum__: determines the min and max of the random distribution from which we will draw the new values"
      ]
    },
    {
      "cell_type": "code",
      "metadata": {
        "id": "bOUP3RS5UoCl"
      },
      "source": [
        "generator.generate_dataset_in_random_mode(n=output_data_size, \n",
        "                                          description_file=description_files['random mode'], \n",
        "                                          seed=0, \n",
        "                                          minimum=0, \n",
        "                                          maximum=100)"
      ],
      "execution_count": 10,
      "outputs": []
    },
    {
      "cell_type": "markdown",
      "metadata": {
        "id": "-3hPX3VEMhDn"
      },
      "source": [
        "Now let's save the synthetic data, read it as a pandas dataframe, and look at the data:"
      ]
    },
    {
      "cell_type": "code",
      "metadata": {
        "id": "YVbIBDFOUoCm"
      },
      "source": [
        "generator.save_synthetic_data(synthetic_data_files['random mode'])"
      ],
      "execution_count": 11,
      "outputs": []
    },
    {
      "cell_type": "code",
      "metadata": {
        "id": "CEWufzwbUoCm"
      },
      "source": [
        "synthetic_random = pd.read_csv(synthetic_data_files['random mode'])"
      ],
      "execution_count": 12,
      "outputs": []
    },
    {
      "cell_type": "code",
      "metadata": {
        "id": "AzJIHgITUoCm",
        "colab": {
          "base_uri": "https://localhost:8080/",
          "height": 204
        },
        "outputId": "7da26a4d-2526-4411-89aa-a0267b26ae05"
      },
      "source": [
        "real_data.head()"
      ],
      "execution_count": 13,
      "outputs": [
        {
          "output_type": "execute_result",
          "data": {
            "text/html": [
              "<div>\n",
              "<style scoped>\n",
              "    .dataframe tbody tr th:only-of-type {\n",
              "        vertical-align: middle;\n",
              "    }\n",
              "\n",
              "    .dataframe tbody tr th {\n",
              "        vertical-align: top;\n",
              "    }\n",
              "\n",
              "    .dataframe thead th {\n",
              "        text-align: right;\n",
              "    }\n",
              "</style>\n",
              "<table border=\"1\" class=\"dataframe\">\n",
              "  <thead>\n",
              "    <tr style=\"text-align: right;\">\n",
              "      <th></th>\n",
              "      <th>age</th>\n",
              "      <th>education</th>\n",
              "      <th>sex</th>\n",
              "      <th>relationship</th>\n",
              "      <th>marital-status</th>\n",
              "      <th>income</th>\n",
              "    </tr>\n",
              "  </thead>\n",
              "  <tbody>\n",
              "    <tr>\n",
              "      <th>0</th>\n",
              "      <td>39</td>\n",
              "      <td>Bachelors</td>\n",
              "      <td>Male</td>\n",
              "      <td>Not-in-family</td>\n",
              "      <td>Never-married</td>\n",
              "      <td>&lt;=50K</td>\n",
              "    </tr>\n",
              "    <tr>\n",
              "      <th>1</th>\n",
              "      <td>50</td>\n",
              "      <td>Bachelors</td>\n",
              "      <td>Male</td>\n",
              "      <td>Husband</td>\n",
              "      <td>Married-civ-spouse</td>\n",
              "      <td>&lt;=50K</td>\n",
              "    </tr>\n",
              "    <tr>\n",
              "      <th>2</th>\n",
              "      <td>38</td>\n",
              "      <td>HS-grad</td>\n",
              "      <td>Male</td>\n",
              "      <td>Not-in-family</td>\n",
              "      <td>Divorced</td>\n",
              "      <td>&lt;=50K</td>\n",
              "    </tr>\n",
              "    <tr>\n",
              "      <th>3</th>\n",
              "      <td>53</td>\n",
              "      <td>11th</td>\n",
              "      <td>Male</td>\n",
              "      <td>Husband</td>\n",
              "      <td>Married-civ-spouse</td>\n",
              "      <td>&lt;=50K</td>\n",
              "    </tr>\n",
              "    <tr>\n",
              "      <th>4</th>\n",
              "      <td>28</td>\n",
              "      <td>Bachelors</td>\n",
              "      <td>Female</td>\n",
              "      <td>Wife</td>\n",
              "      <td>Married-civ-spouse</td>\n",
              "      <td>&lt;=50K</td>\n",
              "    </tr>\n",
              "  </tbody>\n",
              "</table>\n",
              "</div>"
            ],
            "text/plain": [
              "   age  education     sex   relationship      marital-status income\n",
              "0   39  Bachelors    Male  Not-in-family       Never-married  <=50K\n",
              "1   50  Bachelors    Male        Husband  Married-civ-spouse  <=50K\n",
              "2   38    HS-grad    Male  Not-in-family            Divorced  <=50K\n",
              "3   53       11th    Male        Husband  Married-civ-spouse  <=50K\n",
              "4   28  Bachelors  Female           Wife  Married-civ-spouse  <=50K"
            ]
          },
          "metadata": {
            "tags": []
          },
          "execution_count": 13
        }
      ]
    },
    {
      "cell_type": "code",
      "metadata": {
        "id": "BtXKVWt-UoCm",
        "colab": {
          "base_uri": "https://localhost:8080/",
          "height": 204
        },
        "outputId": "7cdd1d0c-eb9a-43dc-fc1f-5b82177ea386"
      },
      "source": [
        "synthetic_random.head()"
      ],
      "execution_count": 14,
      "outputs": [
        {
          "output_type": "execute_result",
          "data": {
            "text/html": [
              "<div>\n",
              "<style scoped>\n",
              "    .dataframe tbody tr th:only-of-type {\n",
              "        vertical-align: middle;\n",
              "    }\n",
              "\n",
              "    .dataframe tbody tr th {\n",
              "        vertical-align: top;\n",
              "    }\n",
              "\n",
              "    .dataframe thead th {\n",
              "        text-align: right;\n",
              "    }\n",
              "</style>\n",
              "<table border=\"1\" class=\"dataframe\">\n",
              "  <thead>\n",
              "    <tr style=\"text-align: right;\">\n",
              "      <th></th>\n",
              "      <th>age</th>\n",
              "      <th>education</th>\n",
              "      <th>sex</th>\n",
              "      <th>relationship</th>\n",
              "      <th>marital-status</th>\n",
              "      <th>income</th>\n",
              "    </tr>\n",
              "  </thead>\n",
              "  <tbody>\n",
              "    <tr>\n",
              "      <th>0</th>\n",
              "      <td>44</td>\n",
              "      <td>Preschool</td>\n",
              "      <td>Male</td>\n",
              "      <td>Husband</td>\n",
              "      <td>Married-civ-spouse</td>\n",
              "      <td>&lt;=50K</td>\n",
              "    </tr>\n",
              "    <tr>\n",
              "      <th>1</th>\n",
              "      <td>47</td>\n",
              "      <td>Some-college</td>\n",
              "      <td>Female</td>\n",
              "      <td>Husband</td>\n",
              "      <td>Separated</td>\n",
              "      <td>&gt;50K</td>\n",
              "    </tr>\n",
              "    <tr>\n",
              "      <th>2</th>\n",
              "      <td>64</td>\n",
              "      <td>Assoc-acdm</td>\n",
              "      <td>Female</td>\n",
              "      <td>Not-in-family</td>\n",
              "      <td>Separated</td>\n",
              "      <td>&lt;=50K</td>\n",
              "    </tr>\n",
              "    <tr>\n",
              "      <th>3</th>\n",
              "      <td>67</td>\n",
              "      <td>Masters</td>\n",
              "      <td>Male</td>\n",
              "      <td>Other-relative</td>\n",
              "      <td>Married-civ-spouse</td>\n",
              "      <td>&lt;=50K</td>\n",
              "    </tr>\n",
              "    <tr>\n",
              "      <th>4</th>\n",
              "      <td>67</td>\n",
              "      <td>12th</td>\n",
              "      <td>Male</td>\n",
              "      <td>Own-child</td>\n",
              "      <td>Never-married</td>\n",
              "      <td>&gt;50K</td>\n",
              "    </tr>\n",
              "  </tbody>\n",
              "</table>\n",
              "</div>"
            ],
            "text/plain": [
              "   age     education     sex    relationship      marital-status income\n",
              "0   44     Preschool    Male         Husband  Married-civ-spouse  <=50K\n",
              "1   47  Some-college  Female         Husband           Separated   >50K\n",
              "2   64    Assoc-acdm  Female   Not-in-family           Separated  <=50K\n",
              "3   67       Masters    Male  Other-relative  Married-civ-spouse  <=50K\n",
              "4   67          12th    Male       Own-child       Never-married   >50K"
            ]
          },
          "metadata": {
            "tags": []
          },
          "execution_count": 14
        }
      ]
    },
    {
      "cell_type": "markdown",
      "metadata": {
        "id": "uUD2ZWzok6vh"
      },
      "source": [
        "__Compare the two dataframes above (the real data and synthetic data we just generated):__\n",
        "1. Look at the rows; how do the values of the real data and synthetic data compare? \n",
        "2. Do we need to consider something else apart from whether a particular value differs?"
      ]
    },
    {
      "cell_type": "code",
      "metadata": {
        "id": "VpeqBitBUoCn",
        "colab": {
          "base_uri": "https://localhost:8080/",
          "height": 602
        },
        "outputId": "7a30872b-bf82-4eb0-ce67-ca614b36b274"
      },
      "source": [
        "# plot the distribution of age in real_data and in synthetic_random\n",
        "# write your code here\n",
        "plt.figure(1)\n",
        "real = plt.hist(real_data['age'])\n",
        "plt.xlabel('Age')\n",
        "plt.ylabel('Frequency')\n",
        "plt.title('Real Data')\n",
        "\n",
        "plt.figure(2)\n",
        "random = plt.hist(synthetic_random['age'])\n",
        "plt.xlabel('Age')\n",
        "plt.ylabel('Frequency')\n",
        "plt.title('Random Mode')"
      ],
      "execution_count": 15,
      "outputs": [
        {
          "output_type": "execute_result",
          "data": {
            "text/plain": [
              "Text(0.5, 1.0, 'Random Mode')"
            ]
          },
          "metadata": {
            "tags": []
          },
          "execution_count": 15
        },
        {
          "output_type": "display_data",
          "data": {
            "image/png": "[encoded data removed]",
            "text/plain": [
              "<Figure size 432x288 with 1 Axes>"
            ]
          },
          "metadata": {
            "tags": []
          }
        },
        {
          "output_type": "display_data",
          "data": {
            "image/png": "[encoded data removed]",
            "text/plain": [
              "<Figure size 432x288 with 1 Axes>"
            ]
          },
          "metadata": {
            "tags": []
          }
        }
      ]
    },
    {
      "cell_type": "code",
      "metadata": {
        "id": "4HL9B-0QUoCn",
        "colab": {
          "base_uri": "https://localhost:8080/",
          "height": 235
        },
        "outputId": "57ce3219-dddd-4172-924c-3b9caf578cec"
      },
      "source": [
        "# compare the frequency of the different values of relationship status in real_data and synthetic_random (you can use a table and/or plots)\n",
        "# write your code here\n",
        "relationship_real = real_data['relationship'].value_counts()\n",
        "relationship_random = synthetic_random['relationship'].value_counts()\n",
        "\n",
        "relationship_both = pd.merge(relationship_real.to_frame(),\n",
        "                             relationship_random.to_frame(),\n",
        "                             left_index = True,\n",
        "                             right_index = True,\n",
        "                             suffixes = ('_real', '_random_mode'))\n",
        "\n",
        "relationship_both"
      ],
      "execution_count": 16,
      "outputs": [
        {
          "output_type": "execute_result",
          "data": {
            "text/html": [
              "<div>\n",
              "<style scoped>\n",
              "    .dataframe tbody tr th:only-of-type {\n",
              "        vertical-align: middle;\n",
              "    }\n",
              "\n",
              "    .dataframe tbody tr th {\n",
              "        vertical-align: top;\n",
              "    }\n",
              "\n",
              "    .dataframe thead th {\n",
              "        text-align: right;\n",
              "    }\n",
              "</style>\n",
              "<table border=\"1\" class=\"dataframe\">\n",
              "  <thead>\n",
              "    <tr style=\"text-align: right;\">\n",
              "      <th></th>\n",
              "      <th>relationship_real</th>\n",
              "      <th>relationship_random_mode</th>\n",
              "    </tr>\n",
              "  </thead>\n",
              "  <tbody>\n",
              "    <tr>\n",
              "      <th>Husband</th>\n",
              "      <td>13193</td>\n",
              "      <td>156</td>\n",
              "    </tr>\n",
              "    <tr>\n",
              "      <th>Not-in-family</th>\n",
              "      <td>8305</td>\n",
              "      <td>159</td>\n",
              "    </tr>\n",
              "    <tr>\n",
              "      <th>Own-child</th>\n",
              "      <td>5068</td>\n",
              "      <td>189</td>\n",
              "    </tr>\n",
              "    <tr>\n",
              "      <th>Unmarried</th>\n",
              "      <td>3446</td>\n",
              "      <td>165</td>\n",
              "    </tr>\n",
              "    <tr>\n",
              "      <th>Wife</th>\n",
              "      <td>1568</td>\n",
              "      <td>166</td>\n",
              "    </tr>\n",
              "    <tr>\n",
              "      <th>Other-relative</th>\n",
              "      <td>981</td>\n",
              "      <td>165</td>\n",
              "    </tr>\n",
              "  </tbody>\n",
              "</table>\n",
              "</div>"
            ],
            "text/plain": [
              "                relationship_real  relationship_random_mode\n",
              "Husband                     13193                       156\n",
              "Not-in-family                8305                       159\n",
              "Own-child                    5068                       189\n",
              "Unmarried                    3446                       165\n",
              "Wife                         1568                       166\n",
              "Other-relative                981                       165"
            ]
          },
          "metadata": {
            "tags": []
          },
          "execution_count": 16
        }
      ]
    },
    {
      "cell_type": "markdown",
      "metadata": {
        "id": "vJALaaynKjZ5"
      },
      "source": [
        "We can pull more information on how the relationship feature is generated in random mode using the describer functions:"
      ]
    },
    {
      "cell_type": "code",
      "metadata": {
        "id": "sfA1M0RUUoCn"
      },
      "source": [
        "with open(description_files['random mode']) as f:\n",
        "    description_json = json.load(f)"
      ],
      "execution_count": 17,
      "outputs": []
    },
    {
      "cell_type": "code",
      "metadata": {
        "colab": {
          "base_uri": "https://localhost:8080/"
        },
        "id": "mOGaHF2eUoCo",
        "outputId": "88c7826c-d606-45f4-bc4e-2d04c19d1279"
      },
      "source": [
        "description_json.keys()"
      ],
      "execution_count": 18,
      "outputs": [
        {
          "output_type": "execute_result",
          "data": {
            "text/plain": [
              "dict_keys(['meta', 'attribute_description'])"
            ]
          },
          "metadata": {
            "tags": []
          },
          "execution_count": 18
        }
      ]
    },
    {
      "cell_type": "code",
      "metadata": {
        "id": "wwKz55nmUoCo",
        "colab": {
          "base_uri": "https://localhost:8080/"
        },
        "outputId": "c13daf55-f294-4dcf-d018-f7991ab8cd29"
      },
      "source": [
        "print(json.dumps(description_json['attribute_description']['relationship'], indent=4))"
      ],
      "execution_count": 19,
      "outputs": [
        {
          "output_type": "stream",
          "text": [
            "{\n",
            "    \"name\": \"relationship\",\n",
            "    \"data_type\": \"String\",\n",
            "    \"is_categorical\": true,\n",
            "    \"is_candidate_key\": false,\n",
            "    \"min\": 4,\n",
            "    \"max\": 14,\n",
            "    \"missing_rate\": 0.0,\n",
            "    \"distribution_bins\": [\n",
            "        \"Not-in-family\",\n",
            "        \"Husband\",\n",
            "        \"Wife\",\n",
            "        \"Own-child\",\n",
            "        \"Unmarried\",\n",
            "        \"Other-relative\"\n",
            "    ],\n",
            "    \"distribution_probabilities\": [\n",
            "        0.16666666666666666,\n",
            "        0.16666666666666666,\n",
            "        0.16666666666666666,\n",
            "        0.16666666666666666,\n",
            "        0.16666666666666666,\n",
            "        0.16666666666666666\n",
            "    ]\n",
            "}\n"
          ],
          "name": "stdout"
        }
      ]
    },
    {
      "cell_type": "markdown",
      "metadata": {
        "id": "T4gTInTFUoCo"
      },
      "source": [
        "## Independent attribute mode\n",
        "\n",
        "In independent attribute mode, we replace the feature we want to protect with values that follow the same distribution as the original data. However, we do not consider any other features when determining the new value for the sensitive feature. "
      ]
    },
    {
      "cell_type": "code",
      "metadata": {
        "id": "duUPmKejUoCo"
      },
      "source": [
        "describer.describe_dataset_in_independent_attribute_mode(sensitive_data_file, epsilon=0.1)"
      ],
      "execution_count": 20,
      "outputs": []
    },
    {
      "cell_type": "code",
      "metadata": {
        "id": "3fLZRLBhUoCo"
      },
      "source": [
        "describer.save_dataset_description_to_file(description_files['independent attribute mode'])"
      ],
      "execution_count": 21,
      "outputs": []
    },
    {
      "cell_type": "markdown",
      "metadata": {
        "id": "UiU-FvMQLYFY"
      },
      "source": [
        "Use ``generator.generate_dataset_in_independent_mode`` to generate synthetic data using the independent attribute mode. Hint: Look at the ``generate_dataset_in_random_mode`` code above if you are unsure how to proceed. You should set a seed, but you do not need to set a minimum or maximum:"
      ]
    },
    {
      "cell_type": "code",
      "metadata": {
        "id": "4LrdvAJDUoCp"
      },
      "source": [
        "# generate synthetic data in independent attribute mode\n",
        "# write your code here using: generator.generate_dataset_in_independent_mode\n",
        "generator.generate_dataset_in_independent_mode(n=output_data_size, \n",
        "                                          description_file=description_files['independent attribute mode'], \n",
        "                                          seed=0)\n"
      ],
      "execution_count": 22,
      "outputs": []
    },
    {
      "cell_type": "markdown",
      "metadata": {
        "id": "MEAcPlvNMIp_"
      },
      "source": [
        "Now let's save the synthetic data we just generated in independent attribute mode, read it as a pandas dataframe, and view it:"
      ]
    },
    {
      "cell_type": "code",
      "metadata": {
        "id": "yEfbtaOnUoCp"
      },
      "source": [
        "generator.save_synthetic_data(synthetic_data_files['independent attribute mode'])"
      ],
      "execution_count": 23,
      "outputs": []
    },
    {
      "cell_type": "code",
      "metadata": {
        "id": "hpgtPmGuUoCp"
      },
      "source": [
        "synthetic_independent = pd.read_csv(synthetic_data_files['independent attribute mode'])"
      ],
      "execution_count": 24,
      "outputs": []
    },
    {
      "cell_type": "code",
      "metadata": {
        "id": "p9CmkrhEUoCp",
        "colab": {
          "base_uri": "https://localhost:8080/",
          "height": 204
        },
        "outputId": "e5349d98-b2a7-472f-9f85-8220201e0b7d"
      },
      "source": [
        "synthetic_independent.head()"
      ],
      "execution_count": 25,
      "outputs": [
        {
          "output_type": "execute_result",
          "data": {
            "text/html": [
              "<div>\n",
              "<style scoped>\n",
              "    .dataframe tbody tr th:only-of-type {\n",
              "        vertical-align: middle;\n",
              "    }\n",
              "\n",
              "    .dataframe tbody tr th {\n",
              "        vertical-align: top;\n",
              "    }\n",
              "\n",
              "    .dataframe thead th {\n",
              "        text-align: right;\n",
              "    }\n",
              "</style>\n",
              "<table border=\"1\" class=\"dataframe\">\n",
              "  <thead>\n",
              "    <tr style=\"text-align: right;\">\n",
              "      <th></th>\n",
              "      <th>age</th>\n",
              "      <th>education</th>\n",
              "      <th>sex</th>\n",
              "      <th>relationship</th>\n",
              "      <th>marital-status</th>\n",
              "      <th>income</th>\n",
              "    </tr>\n",
              "  </thead>\n",
              "  <tbody>\n",
              "    <tr>\n",
              "      <th>0</th>\n",
              "      <td>42.0</td>\n",
              "      <td>HS-grad</td>\n",
              "      <td>Male</td>\n",
              "      <td>Not-in-family</td>\n",
              "      <td>Married-civ-spouse</td>\n",
              "      <td>&lt;=50K</td>\n",
              "    </tr>\n",
              "    <tr>\n",
              "      <th>1</th>\n",
              "      <td>45.0</td>\n",
              "      <td>10th</td>\n",
              "      <td>Male</td>\n",
              "      <td>Not-in-family</td>\n",
              "      <td>Married-civ-spouse</td>\n",
              "      <td>&lt;=50K</td>\n",
              "    </tr>\n",
              "    <tr>\n",
              "      <th>2</th>\n",
              "      <td>40.0</td>\n",
              "      <td>HS-grad</td>\n",
              "      <td>Male</td>\n",
              "      <td>Own-child</td>\n",
              "      <td>Divorced</td>\n",
              "      <td>&lt;=50K</td>\n",
              "    </tr>\n",
              "    <tr>\n",
              "      <th>3</th>\n",
              "      <td>36.0</td>\n",
              "      <td>HS-grad</td>\n",
              "      <td>Female</td>\n",
              "      <td>Unmarried</td>\n",
              "      <td>Married-civ-spouse</td>\n",
              "      <td>&lt;=50K</td>\n",
              "    </tr>\n",
              "    <tr>\n",
              "      <th>4</th>\n",
              "      <td>33.0</td>\n",
              "      <td>11th</td>\n",
              "      <td>Male</td>\n",
              "      <td>Own-child</td>\n",
              "      <td>Divorced</td>\n",
              "      <td>&lt;=50K</td>\n",
              "    </tr>\n",
              "  </tbody>\n",
              "</table>\n",
              "</div>"
            ],
            "text/plain": [
              "    age education     sex   relationship      marital-status income\n",
              "0  42.0   HS-grad    Male  Not-in-family  Married-civ-spouse  <=50K\n",
              "1  45.0      10th    Male  Not-in-family  Married-civ-spouse  <=50K\n",
              "2  40.0   HS-grad    Male      Own-child            Divorced  <=50K\n",
              "3  36.0   HS-grad  Female      Unmarried  Married-civ-spouse  <=50K\n",
              "4  33.0      11th    Male      Own-child            Divorced  <=50K"
            ]
          },
          "metadata": {
            "tags": []
          },
          "execution_count": 25
        }
      ]
    },
    {
      "cell_type": "code",
      "metadata": {
        "id": "nljwnU8zUoCp",
        "colab": {
          "base_uri": "https://localhost:8080/",
          "height": 602
        },
        "outputId": "619a0e49-d5f0-4e80-b447-c6e6500efe99"
      },
      "source": [
        "# Plot the distribution of age before and after being protected using independent attribute mode (i.e. in real_data and in synthetic_independent)\n",
        "plt.figure(1)\n",
        "plt.hist(real_data['age'])\n",
        "plt.xlabel('Age')\n",
        "plt.ylabel('Frequency')\n",
        "plt.title('Before independent attribute mode')\n",
        "\n",
        "\n",
        "plt.figure(2)\n",
        "plt.hist(synthetic_independent['age'])\n",
        "plt.xlabel('Age')\n",
        "plt.ylabel('Frequency')\n",
        "plt.title('After independent attribute mode')"
      ],
      "execution_count": 26,
      "outputs": [
        {
          "output_type": "execute_result",
          "data": {
            "text/plain": [
              "Text(0.5, 1.0, 'After independent attribute mode')"
            ]
          },
          "metadata": {
            "tags": []
          },
          "execution_count": 26
        },
        {
          "output_type": "display_data",
          "data": {
            "image/png": "[encoded data removed]",
            "text/plain": [
              "<Figure size 432x288 with 1 Axes>"
            ]
          },
          "metadata": {
            "tags": []
          }
        },
        {
          "output_type": "display_data",
          "data": {
            "image/png": "[encoded data removed]",
            "text/plain": [
              "<Figure size 432x288 with 1 Axes>"
            ]
          },
          "metadata": {
            "tags": []
          }
        }
      ]
    },
    {
      "cell_type": "code",
      "metadata": {
        "id": "mbMWBcUhUoCq",
        "colab": {
          "base_uri": "https://localhost:8080/",
          "height": 602
        },
        "outputId": "d50d8fb1-97f8-4c84-fb52-f906ebabbebe"
      },
      "source": [
        "# Now plot the distribution of age by income group in the real data and in the synthetic data.\n",
        "# Each plot should contain a histogram of age for all rows where income >50K and a histogram for age where income <=50k.\n",
        "\n",
        "real_under_50 = real_data.loc[real_data.income == \"<=50K\"]\n",
        "real_over_50 = real_data.loc[real_data.income == \">50K\"]\n",
        "plt.figure(1)\n",
        "plt.hist(real_under_50['age'])\n",
        "plt.hist(real_over_50['age'])\n",
        "plt.xlabel('Age')\n",
        "plt.ylabel('Frequency')\n",
        "plt.title('Real Data')\n",
        "plt.legend(labels = ['<=50K', '>50K'])\n",
        "\n",
        "syn_under_50 = synthetic_independent.loc[synthetic_independent.income == \"<=50K\"]\n",
        "syn_over_50 = synthetic_independent.loc[synthetic_independent.income == \">50K\"]\n",
        "plt.figure(2)\n",
        "plt.hist(syn_under_50['age'])\n",
        "plt.hist(syn_over_50['age'])\n",
        "plt.xlabel('Age')\n",
        "plt.ylabel('Frequency')\n",
        "plt.title('Independent Attribute Mode')\n",
        "plt.legend(labels = ['<=50K', '>50K'])\n"
      ],
      "execution_count": 27,
      "outputs": [
        {
          "output_type": "execute_result",
          "data": {
            "text/plain": [
              "<matplotlib.legend.Legend at 0x7f0edb4a7710>"
            ]
          },
          "metadata": {
            "tags": []
          },
          "execution_count": 27
        },
        {
          "output_type": "display_data",
          "data": {
            "image/png": "[encoded data removed]",
            "text/plain": [
              "<Figure size 432x288 with 1 Axes>"
            ]
          },
          "metadata": {
            "tags": []
          }
        },
        {
          "output_type": "display_data",
          "data": {
            "image/png": "[encoded data removed]",
            "text/plain": [
              "<Figure size 432x288 with 1 Axes>"
            ]
          },
          "metadata": {
            "tags": []
          }
        }
      ]
    },
    {
      "cell_type": "markdown",
      "metadata": {
        "id": "gdWHMTALp7Om"
      },
      "source": [
        "How do these distributions compare?"
      ]
    },
    {
      "cell_type": "markdown",
      "metadata": {
        "id": "AaX8W-9cu8zi"
      },
      "source": [
        "**Write your answer in this text cell:**\n",
        "\n",
        "The synthetic data after protecting the real data with the independent attribute mode is slightly less skewed as a whole. The peak of the distribution appears to be more closer to the center of age values, which means the average and median of the protected attribute data is probably older than that before being protected by the independent attribute mode. "
      ]
    },
    {
      "cell_type": "markdown",
      "metadata": {
        "id": "060cbCmkwafp"
      },
      "source": [
        "Let's look at the distribution of relationship values in the real data and in the synthetic data generated using the independent attribute mode:"
      ]
    },
    {
      "cell_type": "code",
      "metadata": {
        "id": "grUTNDFqUoCq",
        "colab": {
          "base_uri": "https://localhost:8080/",
          "height": 405
        },
        "outputId": "23ece4e1-3aa7-4d34-af39-e0d03921b451"
      },
      "source": [
        "relationship_real = real_data['relationship'].value_counts()\n",
        "relationship_independent = synthetic_independent['relationship'].value_counts()\n",
        "relationship_both = pd.merge(relationship_real.to_frame(), \n",
        "                             relationship_independent.to_frame(), \n",
        "                             left_index=True, \n",
        "                             right_index=True, \n",
        "                             suffixes=('_real', '_independent_attribute_mode'))\n",
        "\n",
        "fig, axes = plt.subplots(1, 2, figsize=(6,3), dpi=120)\n",
        "axes[0].bar(relationship_both.index, relationship_both['relationship_real'])\n",
        "axes[1].bar(relationship_both.index, relationship_both['relationship_independent_attribute_mode'])\n",
        "axes[0].set_title('real data')\n",
        "axes[1].set_title('independent attribute mode')\n",
        "fig.autofmt_xdate()"
      ],
      "execution_count": 28,
      "outputs": [
        {
          "output_type": "display_data",
          "data": {
            "image/png": "[encoded data removed]",
            "text/plain": [
              "<Figure size 720x360 with 2 Axes>"
            ]
          },
          "metadata": {
            "tags": []
          }
        }
      ]
    },
    {
      "cell_type": "markdown",
      "metadata": {
        "id": "m-lvgns6UoCr"
      },
      "source": [
        "## Correlated attribute mode\n",
        "\n",
        "The correlated attribute mode replaces the feature we want to protect with values based on the *conditional* distribution of all the features in the database. This is calculated using a Bayesian network."
      ]
    },
    {
      "cell_type": "code",
      "metadata": {
        "id": "MrnhKaCPUoCr",
        "colab": {
          "base_uri": "https://localhost:8080/"
        },
        "outputId": "bdb16c40-c186-4bae-d70c-d74649a239d5"
      },
      "source": [
        "describer.describe_dataset_in_correlated_attribute_mode(sensitive_data_file, \n",
        "                                                        epsilon=0.1, \n",
        "                                                        k=2)"
      ],
      "execution_count": 29,
      "outputs": [
        {
          "output_type": "stream",
          "text": [
            "================ Constructing Bayesian Network (BN) ================\n",
            "Adding ROOT relationship\n",
            "Adding attribute sex\n",
            "Adding attribute marital-status\n",
            "Adding attribute education\n",
            "Adding attribute income\n",
            "Adding attribute age\n",
            "========================== BN constructed ==========================\n"
          ],
          "name": "stdout"
        }
      ]
    },
    {
      "cell_type": "code",
      "metadata": {
        "id": "d2Af3b2cUoCr",
        "colab": {
          "base_uri": "https://localhost:8080/"
        },
        "outputId": "7021c71c-5ae3-4784-aa78-68e0480fdf0f"
      },
      "source": [
        "display_bayesian_network(describer.bayesian_network)"
      ],
      "execution_count": 30,
      "outputs": [
        {
          "output_type": "stream",
          "text": [
            "Constructed Bayesian network:\n",
            "    sex            has parents ['relationship'].\n",
            "    marital-status has parents ['sex', 'relationship'].\n",
            "    education      has parents ['marital-status', 'relationship'].\n",
            "    income         has parents ['marital-status', 'relationship'].\n",
            "    age            has parents ['education', 'sex'].\n"
          ],
          "name": "stdout"
        }
      ]
    },
    {
      "cell_type": "code",
      "metadata": {
        "id": "LSskme_AUoCr"
      },
      "source": [
        "describer.save_dataset_description_to_file(description_files['correlated attribute mode'])"
      ],
      "execution_count": 31,
      "outputs": []
    },
    {
      "cell_type": "markdown",
      "metadata": {
        "id": "ieEcgH9CvI4q"
      },
      "source": [
        "Use generator.generate_dataset_in_correlated_attribute_mode to generate synthetic data using the correlated attribute mode:"
      ]
    },
    {
      "cell_type": "code",
      "metadata": {
        "id": "HSI0EnZYUoCs"
      },
      "source": [
        "# generate synthetic data in correlated attribute mode\n",
        "# write your code here using: generator.generate_dataset_in_correlated_mode\n",
        "generator.generate_dataset_in_correlated_attribute_mode(n=output_data_size,\n",
        "                                              description_file=description_files['correlated attribute mode'],\n",
        "                                              seed=0)"
      ],
      "execution_count": 32,
      "outputs": []
    },
    {
      "cell_type": "markdown",
      "metadata": {
        "id": "zbSiQAXovZZC"
      },
      "source": [
        "Again, save the data and read it as a pandas dataframe:"
      ]
    },
    {
      "cell_type": "code",
      "metadata": {
        "id": "JYPWAB9RUoCs"
      },
      "source": [
        "generator.save_synthetic_data(synthetic_data_files['correlated attribute mode'])"
      ],
      "execution_count": 33,
      "outputs": []
    },
    {
      "cell_type": "code",
      "metadata": {
        "id": "aDpXxHifUoCs"
      },
      "source": [
        "synthetic_correlated = pd.read_csv(synthetic_data_files['correlated attribute mode'])"
      ],
      "execution_count": 34,
      "outputs": []
    },
    {
      "cell_type": "markdown",
      "metadata": {
        "id": "6J28uT6ovf1-"
      },
      "source": [
        "Plot the distribution of age in the real data and synthetic data that you generated using the correlated attribute mode:"
      ]
    },
    {
      "cell_type": "code",
      "metadata": {
        "id": "ZppLU9YbUoCs",
        "colab": {
          "base_uri": "https://localhost:8080/",
          "height": 602
        },
        "outputId": "d48ae805-afda-41d9-af5e-e9d661df523a"
      },
      "source": [
        "# plot the distribution of age in the real data and synthetic_correlated\n",
        "plt.figure(1)\n",
        "plt.hist(real_data['age'])\n",
        "plt.xlabel('Age')\n",
        "plt.ylabel('Frequency')\n",
        "plt.title('Before correlated attribute mode')\n",
        "\n",
        "\n",
        "plt.figure(2)\n",
        "plt.hist(synthetic_correlated['age'])\n",
        "plt.xlabel('Age')\n",
        "plt.ylabel('Frequency')\n",
        "plt.title('After correlated attribute mode')"
      ],
      "execution_count": 35,
      "outputs": [
        {
          "output_type": "execute_result",
          "data": {
            "text/plain": [
              "Text(0.5, 1.0, 'After correlated attribute mode')"
            ]
          },
          "metadata": {
            "tags": []
          },
          "execution_count": 35
        },
        {
          "output_type": "display_data",
          "data": {
            "image/png": "[encoded data removed]",
            "text/plain": [
              "<Figure size 432x288 with 1 Axes>"
            ]
          },
          "metadata": {
            "tags": []
          }
        },
        {
          "output_type": "display_data",
          "data": {
            "image/png": "[encoded data removed]",
            "text/plain": [
              "<Figure size 432x288 with 1 Axes>"
            ]
          },
          "metadata": {
            "tags": []
          }
        }
      ]
    },
    {
      "cell_type": "markdown",
      "metadata": {
        "id": "2bFqOMF3iRcQ"
      },
      "source": [
        "#### Plot the relationship between two variables to see if changes after protecting age\n",
        "\n",
        "\n",
        "\n"
      ]
    },
    {
      "cell_type": "code",
      "metadata": {
        "id": "bKvfbGsjwCpt",
        "colab": {
          "base_uri": "https://localhost:8080/",
          "height": 602
        },
        "outputId": "0cf929e4-6f83-4631-bbb7-f94cb16786b7"
      },
      "source": [
        "# write code here to plot the distribution of one variable by another variable\n",
        "# in the real data and in synthetic_correlated\n",
        "# e.g. plot age by education or age by income\n",
        "real_under_50 = real_data.loc[real_data.income == \"<=50K\"]\n",
        "real_over_50 = real_data.loc[real_data.income == \">50K\"]\n",
        "plt.figure(1)\n",
        "plt.hist(real_under_50['age'])\n",
        "plt.hist(real_over_50['age'])\n",
        "plt.xlabel('Age')\n",
        "plt.ylabel('Frequency')\n",
        "plt.title('Real Data')\n",
        "plt.legend(labels = ['<=50K', '>50K'])\n",
        "\n",
        "corr_under_50 = synthetic_correlated.loc[synthetic_correlated.income == \"<=50K\"]\n",
        "corr_over_50 = synthetic_correlated.loc[synthetic_correlated.income == \">50K\"]\n",
        "plt.figure(2)\n",
        "plt.hist(corr_under_50['age'])\n",
        "plt.hist(corr_over_50['age'])\n",
        "plt.xlabel('Age')\n",
        "plt.ylabel('Frequency')\n",
        "plt.title('Correlated Attribute Mode')\n",
        "plt.legend(labels = ['<=50K', '>50K'])"
      ],
      "execution_count": 36,
      "outputs": [
        {
          "output_type": "execute_result",
          "data": {
            "text/plain": [
              "<matplotlib.legend.Legend at 0x7f0edb2a6a50>"
            ]
          },
          "metadata": {
            "tags": []
          },
          "execution_count": 36
        },
        {
          "output_type": "display_data",
          "data": {
            "image/png": "[encoded data removed]",
            "text/plain": [
              "<Figure size 432x288 with 1 Axes>"
            ]
          },
          "metadata": {
            "tags": []
          }
        },
        {
          "output_type": "display_data",
          "data": {
            "image/png": "[encoded data removed]",
            "text/plain": [
              "<Figure size 432x288 with 1 Axes>"
            ]
          },
          "metadata": {
            "tags": []
          }
        }
      ]
    },
    {
      "cell_type": "markdown",
      "metadata": {
        "id": "E7gYk4j-v6_f"
      },
      "source": [
        "__Write down your observations here:__\n",
        "\n",
        "Just as with the independent attribute mode, the correlated attribute mode is less skewed than the data that is not protected. The difference between the distributions of the two income groups also appears to be smaller for the correlated attribute mode. "
      ]
    },
    {
      "cell_type": "markdown",
      "metadata": {
        "id": "X8Zcb50jqvnf"
      },
      "source": [
        "Are there differences in the distributions of the data generated by the correlated attribute mode and the independent attribute mode?"
      ]
    },
    {
      "cell_type": "code",
      "metadata": {
        "id": "wYcgl9owUoCt",
        "colab": {
          "base_uri": "https://localhost:8080/",
          "height": 602
        },
        "outputId": "13fd7fe0-c7de-4fe3-f7c4-8bd1cffed76b"
      },
      "source": [
        "# plot the distribution of \"relationship\" in the synthetic data generated under the correlated attribute mode and the independent attribute mode here\n",
        "plt.figure(1)\n",
        "plt.hist(synthetic_correlated['relationship'])\n",
        "plt.xlabel('Relationship')\n",
        "plt.ylabel('Frequency')\n",
        "plt.title('Correlated Attribute Mode')\n",
        "\n",
        "\n",
        "plt.figure(2)\n",
        "plt.hist(synthetic_independent['relationship'])\n",
        "plt.xlabel('Relationship')\n",
        "plt.ylabel('Frequency')\n",
        "plt.title('Independent Attribute Mode')"
      ],
      "execution_count": 37,
      "outputs": [
        {
          "output_type": "execute_result",
          "data": {
            "text/plain": [
              "Text(0.5, 1.0, 'Independent Attribute Mode')"
            ]
          },
          "metadata": {
            "tags": []
          },
          "execution_count": 37
        },
        {
          "output_type": "display_data",
          "data": {
            "image/png": "[encoded data removed]",
            "text/plain": [
              "<Figure size 432x288 with 1 Axes>"
            ]
          },
          "metadata": {
            "tags": []
          }
        },
        {
          "output_type": "display_data",
          "data": {
            "image/png": "[encoded data removed]",
            "text/plain": [
              "<Figure size 432x288 with 1 Axes>"
            ]
          },
          "metadata": {
            "tags": []
          }
        }
      ]
    },
    {
      "cell_type": "markdown",
      "metadata": {
        "id": "Q4uMBHcFUoCt"
      },
      "source": [
        "## Statistical measures\n",
        "\n",
        "### Mutual information"
      ]
    },
    {
      "cell_type": "markdown",
      "metadata": {
        "id": "_Ln430t6UoCt"
      },
      "source": [
        "We can use mutual information to further understand how the relationships between features are similar/different in the real data and the synthetic data. Mutual information is defined as follows for two discrete variables X and Y:\n",
        "\n",
        "\n",
        "$$I(X; Y) = \\sum_{y \\in Y} \\sum_{x \\in X} p(x,y) \\log(\\frac{p(x,y)}{p(x)p(y)})$$\n",
        "\n",
        "Higher values indicate greater levels of mutual information. For two independent variables, the value will be zero (look at the logged term). This metric works for categorical variables *or* continuous variables. "
      ]
    },
    {
      "cell_type": "code",
      "metadata": {
        "id": "-zdSvQ3jUoCu"
      },
      "source": [
        "from sklearn.metrics import normalized_mutual_info_score"
      ],
      "execution_count": 38,
      "outputs": []
    },
    {
      "cell_type": "code",
      "metadata": {
        "colab": {
          "base_uri": "https://localhost:8080/"
        },
        "id": "0GUEfgraUoCu",
        "outputId": "75684ae9-a0fa-468e-b496-b48ba23119c8"
      },
      "source": [
        "normalized_mutual_info_score(real_data['marital-status'], \n",
        "                             real_data['relationship'], \n",
        "                             average_method='arithmetic')"
      ],
      "execution_count": 39,
      "outputs": [
        {
          "output_type": "execute_result",
          "data": {
            "text/plain": [
              "0.5249037668258572"
            ]
          },
          "metadata": {
            "tags": []
          },
          "execution_count": 39
        }
      ]
    },
    {
      "cell_type": "code",
      "metadata": {
        "colab": {
          "base_uri": "https://localhost:8080/"
        },
        "id": "hqY1BFjEUoCu",
        "outputId": "a14ab215-17c2-4b8b-e61b-54d8c32a7963"
      },
      "source": [
        "normalized_mutual_info_score(real_data['marital-status'], \n",
        "                             real_data['education'], \n",
        "                             average_method='arithmetic')"
      ],
      "execution_count": 40,
      "outputs": [
        {
          "output_type": "execute_result",
          "data": {
            "text/plain": [
              "0.014483450445067415"
            ]
          },
          "metadata": {
            "tags": []
          },
          "execution_count": 40
        }
      ]
    },
    {
      "cell_type": "markdown",
      "metadata": {
        "id": "kKVqjAJdUoCu"
      },
      "source": [
        "We can even plot the mutual information between all pairs of features in the dataset:"
      ]
    },
    {
      "cell_type": "code",
      "metadata": {
        "id": "vTHgNA9jUoCu",
        "colab": {
          "base_uri": "https://localhost:8080/",
          "height": 553
        },
        "outputId": "0d50e0be-1f7b-47c5-f9bb-6295252c40ff"
      },
      "source": [
        "attribute_description = read_json_file(description_files['correlated attribute mode'])['attribute_description']\n",
        "ModelInspector(real_data, \n",
        "               synthetic_correlated, \n",
        "               attribute_description).mutual_information_heatmap()"
      ],
      "execution_count": 41,
      "outputs": [
        {
          "output_type": "display_data",
          "data": {
            "image/png": "[encoded data removed]",
            "text/plain": [
              "<Figure size 1800x720 with 4 Axes>"
            ]
          },
          "metadata": {
            "tags": []
          }
        }
      ]
    },
    {
      "cell_type": "markdown",
      "metadata": {
        "id": "hz9snHG4UoCv"
      },
      "source": [
        "### Two-sample Kolmogorov–Smirnov test\n",
        "\n",
        "The Kolmogorov-Smirnov test quantifies the similarity between the empirical distribution functions two sets of data. We can use it to measure how well the distribution of our synthetic data mimics the distribution of the original dataset. \n",
        "\n",
        "For two empirical distributions P and Q, the Kolmogorov–Smirnov test statistic is defined as:\n",
        "\n",
        "$$D = \\max_x |P(x) - Q(x)|$$\n",
        "\n",
        "Intuitively, think of plotting the CDF of each dataset. The Kolmogorov–Smirnov test statistic is the maxium distance between the two CDFs. \n",
        "\n",
        "<img src=\"https://upload.wikimedia.org/wikipedia/commons/c/cf/KS_Example.png\">\n",
        "\n",
        "This metric only works for continuous variables. "
      ]
    },
    {
      "cell_type": "code",
      "metadata": {
        "id": "Hw8j99qJUoCv"
      },
      "source": [
        "from scipy.stats import ks_2samp"
      ],
      "execution_count": 42,
      "outputs": []
    },
    {
      "cell_type": "code",
      "metadata": {
        "id": "LQau8TuNUoCv"
      },
      "source": [
        "def ks_test(df_in: pd.DataFrame, df_out: pd.DataFrame, attr: str):\n",
        "    \"\"\"\n",
        "    df_in: the sensitive dataset\n",
        "    df_out: the synthetic dataset\n",
        "    attr: the attribute that will be calculated for Two-sample Kolmogorov–Smirnov test.\n",
        "    \"\"\"\n",
        "    return ks_2samp(df_in[attr], df_out[attr])[0]"
      ],
      "execution_count": 43,
      "outputs": []
    },
    {
      "cell_type": "code",
      "metadata": {
        "colab": {
          "base_uri": "https://localhost:8080/"
        },
        "id": "u6f98s_HUoCv",
        "outputId": "29de1463-1417-44f2-f285-a0c96539b70b"
      },
      "source": [
        "ks_test(real_data, synthetic_random, 'age')"
      ],
      "execution_count": 44,
      "outputs": [
        {
          "output_type": "execute_result",
          "data": {
            "text/plain": [
              "0.33259405423666355"
            ]
          },
          "metadata": {
            "tags": []
          },
          "execution_count": 44
        }
      ]
    },
    {
      "cell_type": "code",
      "metadata": {
        "colab": {
          "base_uri": "https://localhost:8080/"
        },
        "id": "X-C2V7yuUoCw",
        "outputId": "a1665af9-c549-4fa9-ff02-a7204911de4c"
      },
      "source": [
        "ks_test(real_data, synthetic_independent, 'age')"
      ],
      "execution_count": 45,
      "outputs": [
        {
          "output_type": "execute_result",
          "data": {
            "text/plain": [
              "0.04653290746598687"
            ]
          },
          "metadata": {
            "tags": []
          },
          "execution_count": 45
        }
      ]
    },
    {
      "cell_type": "code",
      "metadata": {
        "colab": {
          "base_uri": "https://localhost:8080/"
        },
        "id": "WyZQiz3dUoCw",
        "outputId": "aaac95be-a415-4139-d7d3-1f122bf2a8d0"
      },
      "source": [
        "ks_test(real_data, synthetic_correlated, 'age')"
      ],
      "execution_count": 46,
      "outputs": [
        {
          "output_type": "execute_result",
          "data": {
            "text/plain": [
              "0.018629556831792626"
            ]
          },
          "metadata": {
            "tags": []
          },
          "execution_count": 46
        }
      ]
    },
    {
      "cell_type": "markdown",
      "metadata": {
        "id": "ECTHAm3Nxxwa"
      },
      "source": [
        "What do you notice about the Kolmogorov–Smirnov test statistic in the synthetic_random versus the synthetic_independent and synthetic_correlated modes?"
      ]
    },
    {
      "cell_type": "markdown",
      "metadata": {
        "id": "AddQUh-4x8zH"
      },
      "source": [
        "**Write your observations in this text cell:**\n",
        "Synthetic independent is much smaller than synthetic random and synthetic correlated is even smaller than the other two."
      ]
    },
    {
      "cell_type": "markdown",
      "metadata": {
        "id": "GowfFP1HUoCw"
      },
      "source": [
        "### KL-divergence\n",
        "\n",
        "The KL-divergence is an alternative way to measure the difference between two distributions. For two distributions P and Q, the KL-divergence is defined as \n",
        "\n",
        "$$D = \\sum_x P(x) \\log (\\frac{P(x)}{Q(X)})$$\n",
        "\n",
        "This metric works on discrete/categorical variables.\n"
      ]
    },
    {
      "cell_type": "code",
      "metadata": {
        "id": "0Dq8rBDaUoCw"
      },
      "source": [
        "from scipy.stats import entropy"
      ],
      "execution_count": 47,
      "outputs": []
    },
    {
      "cell_type": "code",
      "metadata": {
        "id": "u13fVdqLUoCw"
      },
      "source": [
        "def get_distribution_of_categorical_attribute(attribute: pd.Series, indicies=None):\n",
        "    distribution = attribute.dropna().value_counts()\n",
        "    if indicies is not None:\n",
        "        for idx in set(indicies) - set(distribution.index):\n",
        "            distribution.loc[idx] = 0\n",
        "    distribution.sort_index(inplace=True)\n",
        "    return distribution/sum(distribution)\n",
        "\n",
        "def kl_test(df_in: pd.DataFrame, df_out: pd.DataFrame, attr: str):\n",
        "    \"\"\"\n",
        "    df_in: the sensitive dataset\n",
        "    df_out: the synthetic dataset\n",
        "    attr: the attribute that will be calculated for KL-divergence.\n",
        "    \"\"\"\n",
        "    distribution_in = get_distribution_of_categorical_attribute(df_in[attr])\n",
        "    distribution_out = get_distribution_of_categorical_attribute(df_out[attr], distribution_in.index)\n",
        "    return entropy(distribution_out, distribution_in)"
      ],
      "execution_count": 48,
      "outputs": []
    },
    {
      "cell_type": "code",
      "metadata": {
        "colab": {
          "base_uri": "https://localhost:8080/"
        },
        "id": "KUyOzLeTUoCw",
        "outputId": "3c6a9a91-a183-4758-8dba-4e3f5eb817ed"
      },
      "source": [
        "kl_test(real_data, synthetic_random, 'relationship')"
      ],
      "execution_count": 49,
      "outputs": [
        {
          "output_type": "execute_result",
          "data": {
            "text/plain": [
              "0.37194502301936416"
            ]
          },
          "metadata": {
            "tags": []
          },
          "execution_count": 49
        }
      ]
    },
    {
      "cell_type": "code",
      "metadata": {
        "colab": {
          "base_uri": "https://localhost:8080/"
        },
        "id": "dBQfTe81UoCx",
        "outputId": "bf4b4da3-c920-4fc2-e357-46bbced8a445"
      },
      "source": [
        "kl_test(real_data, synthetic_independent, 'relationship')"
      ],
      "execution_count": 50,
      "outputs": [
        {
          "output_type": "execute_result",
          "data": {
            "text/plain": [
              "0.004852757128718812"
            ]
          },
          "metadata": {
            "tags": []
          },
          "execution_count": 50
        }
      ]
    },
    {
      "cell_type": "code",
      "metadata": {
        "colab": {
          "base_uri": "https://localhost:8080/"
        },
        "id": "N5eXmFRsUoCx",
        "outputId": "64acd17f-9b35-4751-8302-0eedd2393ec1"
      },
      "source": [
        "kl_test(real_data, synthetic_correlated, 'relationship')"
      ],
      "execution_count": 51,
      "outputs": [
        {
          "output_type": "execute_result",
          "data": {
            "text/plain": [
              "0.0027570713157389955"
            ]
          },
          "metadata": {
            "tags": []
          },
          "execution_count": 51
        }
      ]
    },
    {
      "cell_type": "markdown",
      "metadata": {
        "id": "K6iyQW-SUoCx"
      },
      "source": [
        "### Boxplot"
      ]
    },
    {
      "cell_type": "markdown",
      "metadata": {
        "id": "0qRjI-CmyFdd"
      },
      "source": [
        "It is often useful to the compare distributions of a continuous variable using a boxplot. For example, we plot the distribution of age by income status in the real data and in the synthetic_correlated data below:"
      ]
    },
    {
      "cell_type": "code",
      "metadata": {
        "id": "iHL2v9nFUoCx"
      },
      "source": [
        "import seaborn as sns"
      ],
      "execution_count": 52,
      "outputs": []
    },
    {
      "cell_type": "code",
      "metadata": {
        "colab": {
          "base_uri": "https://localhost:8080/",
          "height": 204
        },
        "id": "p4LejBwzUoCx",
        "outputId": "864cd2dd-08f0-42e0-cae1-3cc4b987bde5"
      },
      "source": [
        "real_data.head()"
      ],
      "execution_count": 53,
      "outputs": [
        {
          "output_type": "execute_result",
          "data": {
            "text/html": [
              "<div>\n",
              "<style scoped>\n",
              "    .dataframe tbody tr th:only-of-type {\n",
              "        vertical-align: middle;\n",
              "    }\n",
              "\n",
              "    .dataframe tbody tr th {\n",
              "        vertical-align: top;\n",
              "    }\n",
              "\n",
              "    .dataframe thead th {\n",
              "        text-align: right;\n",
              "    }\n",
              "</style>\n",
              "<table border=\"1\" class=\"dataframe\">\n",
              "  <thead>\n",
              "    <tr style=\"text-align: right;\">\n",
              "      <th></th>\n",
              "      <th>age</th>\n",
              "      <th>education</th>\n",
              "      <th>sex</th>\n",
              "      <th>relationship</th>\n",
              "      <th>marital-status</th>\n",
              "      <th>income</th>\n",
              "    </tr>\n",
              "  </thead>\n",
              "  <tbody>\n",
              "    <tr>\n",
              "      <th>0</th>\n",
              "      <td>39</td>\n",
              "      <td>Bachelors</td>\n",
              "      <td>Male</td>\n",
              "      <td>Not-in-family</td>\n",
              "      <td>Never-married</td>\n",
              "      <td>&lt;=50K</td>\n",
              "    </tr>\n",
              "    <tr>\n",
              "      <th>1</th>\n",
              "      <td>50</td>\n",
              "      <td>Bachelors</td>\n",
              "      <td>Male</td>\n",
              "      <td>Husband</td>\n",
              "      <td>Married-civ-spouse</td>\n",
              "      <td>&lt;=50K</td>\n",
              "    </tr>\n",
              "    <tr>\n",
              "      <th>2</th>\n",
              "      <td>38</td>\n",
              "      <td>HS-grad</td>\n",
              "      <td>Male</td>\n",
              "      <td>Not-in-family</td>\n",
              "      <td>Divorced</td>\n",
              "      <td>&lt;=50K</td>\n",
              "    </tr>\n",
              "    <tr>\n",
              "      <th>3</th>\n",
              "      <td>53</td>\n",
              "      <td>11th</td>\n",
              "      <td>Male</td>\n",
              "      <td>Husband</td>\n",
              "      <td>Married-civ-spouse</td>\n",
              "      <td>&lt;=50K</td>\n",
              "    </tr>\n",
              "    <tr>\n",
              "      <th>4</th>\n",
              "      <td>28</td>\n",
              "      <td>Bachelors</td>\n",
              "      <td>Female</td>\n",
              "      <td>Wife</td>\n",
              "      <td>Married-civ-spouse</td>\n",
              "      <td>&lt;=50K</td>\n",
              "    </tr>\n",
              "  </tbody>\n",
              "</table>\n",
              "</div>"
            ],
            "text/plain": [
              "   age  education     sex   relationship      marital-status income\n",
              "0   39  Bachelors    Male  Not-in-family       Never-married  <=50K\n",
              "1   50  Bachelors    Male        Husband  Married-civ-spouse  <=50K\n",
              "2   38    HS-grad    Male  Not-in-family            Divorced  <=50K\n",
              "3   53       11th    Male        Husband  Married-civ-spouse  <=50K\n",
              "4   28  Bachelors  Female           Wife  Married-civ-spouse  <=50K"
            ]
          },
          "metadata": {
            "tags": []
          },
          "execution_count": 53
        }
      ]
    },
    {
      "cell_type": "code",
      "metadata": {
        "colab": {
          "base_uri": "https://localhost:8080/",
          "height": 390
        },
        "id": "zqtgzGJgUoCx",
        "outputId": "689039cd-0ace-48f4-b4b3-f60889e59dac"
      },
      "source": [
        "plt.figure(dpi=100)\n",
        "sns.boxplot(x='income', y='age', data=real_data, linewidth=0.5, fliersize=2);"
      ],
      "execution_count": 54,
      "outputs": [
        {
          "output_type": "display_data",
          "data": {
            "image/png": "[encoded data removed]",
            "text/plain": [
              "<Figure size 600x400 with 1 Axes>"
            ]
          },
          "metadata": {
            "tags": []
          }
        }
      ]
    },
    {
      "cell_type": "code",
      "metadata": {
        "id": "prxdaPchyaJA",
        "colab": {
          "base_uri": "https://localhost:8080/",
          "height": 390
        },
        "outputId": "903d5272-defc-417e-e9b1-327f484ed86e"
      },
      "source": [
        "plt.figure(dpi=100)\n",
        "sns.boxplot(x='income', y='age', data=synthetic_correlated, linewidth=0.5, fliersize=2);"
      ],
      "execution_count": 55,
      "outputs": [
        {
          "output_type": "display_data",
          "data": {
            "image/png": "[encoded data removed]",
            "text/plain": [
              "<Figure size 600x400 with 1 Axes>"
            ]
          },
          "metadata": {
            "tags": []
          }
        }
      ]
    }
  ]
}