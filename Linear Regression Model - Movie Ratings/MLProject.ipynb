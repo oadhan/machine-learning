{
 "cells": [
  {
   "cell_type": "markdown",
   "id": "cbd5e287",
   "metadata": {},
   "source": [
    "## Capstone Project\n",
    "#### Introduction to Machine Learning\n",
    "#### Oviya Adhan"
   ]
  },
  {
   "cell_type": "code",
   "execution_count": 1,
   "id": "b9b0d0af",
   "metadata": {},
   "outputs": [
    {
     "name": "stdout",
     "output_type": "stream",
     "text": [
      "0.2701886388051843\n"
     ]
    }
   ],
   "source": [
    "import random\n",
    "random.seed(10945490) #set random seed to N-number\n",
    "print(random.random())"
   ]
  },
  {
   "cell_type": "code",
   "execution_count": 2,
   "id": "ffb0c3c7",
   "metadata": {},
   "outputs": [],
   "source": [
    "#Import packages\n",
    "import numpy as np\n",
    "import scipy\n",
    "import sklearn\n",
    "import matplotlib.pyplot as plt\n",
    "import datetime as dt\n",
    "from sklearn import metrics\n",
    "from sklearn import model_selection\n",
    "from sklearn.datasets import make_blobs, load_breast_cancer, load_iris\n",
    "from sklearn.linear_model import LinearRegression, LogisticRegression, Ridge\n",
    "from sklearn.metrics import mean_squared_error\n",
    "import pandas as pd\n",
    "import autograd.numpy as np"
   ]
  },
  {
   "cell_type": "markdown",
   "id": "bc31f116",
   "metadata": {},
   "source": [
    "### Pre-Processing"
   ]
  },
  {
   "cell_type": "code",
   "execution_count": 3,
   "id": "9fbd83f2",
   "metadata": {},
   "outputs": [
    {
     "name": "stdout",
     "output_type": "stream",
     "text": [
      "(5000, 3)\n"
     ]
    },
    {
     "data": {
      "text/html": [
       "<div>\n",
       "<style scoped>\n",
       "    .dataframe tbody tr th:only-of-type {\n",
       "        vertical-align: middle;\n",
       "    }\n",
       "\n",
       "    .dataframe tbody tr th {\n",
       "        vertical-align: top;\n",
       "    }\n",
       "\n",
       "    .dataframe thead th {\n",
       "        text-align: right;\n",
       "    }\n",
       "</style>\n",
       "<table border=\"1\" class=\"dataframe\">\n",
       "  <thead>\n",
       "    <tr style=\"text-align: right;\">\n",
       "      <th></th>\n",
       "      <th></th>\n",
       "      <th>movieID</th>\n",
       "      <th>releaseDate</th>\n",
       "      <th>movieTitle</th>\n",
       "    </tr>\n",
       "  </thead>\n",
       "  <tbody>\n",
       "    <tr>\n",
       "      <th>1</th>\n",
       "      <th>2003.0</th>\n",
       "      <td>Dinosaur Planet</td>\n",
       "      <td>NaN</td>\n",
       "      <td>NaN</td>\n",
       "    </tr>\n",
       "    <tr>\n",
       "      <th>2</th>\n",
       "      <th>2004.0</th>\n",
       "      <td>Isle of Man TT 2004 Review</td>\n",
       "      <td>NaN</td>\n",
       "      <td>NaN</td>\n",
       "    </tr>\n",
       "    <tr>\n",
       "      <th>3</th>\n",
       "      <th>1997.0</th>\n",
       "      <td>Character</td>\n",
       "      <td>NaN</td>\n",
       "      <td>NaN</td>\n",
       "    </tr>\n",
       "    <tr>\n",
       "      <th>4</th>\n",
       "      <th>1994.0</th>\n",
       "      <td>Paula Abdul's Get Up &amp; Dance</td>\n",
       "      <td>NaN</td>\n",
       "      <td>NaN</td>\n",
       "    </tr>\n",
       "    <tr>\n",
       "      <th>5</th>\n",
       "      <th>2004.0</th>\n",
       "      <td>The Rise and Fall of ECW</td>\n",
       "      <td>NaN</td>\n",
       "      <td>NaN</td>\n",
       "    </tr>\n",
       "  </tbody>\n",
       "</table>\n",
       "</div>"
      ],
      "text/plain": [
       "                               movieID releaseDate movieTitle\n",
       "1 2003.0               Dinosaur Planet         NaN        NaN\n",
       "2 2004.0    Isle of Man TT 2004 Review         NaN        NaN\n",
       "3 1997.0                     Character         NaN        NaN\n",
       "4 1994.0  Paula Abdul's Get Up & Dance         NaN        NaN\n",
       "5 2004.0      The Rise and Fall of ECW         NaN        NaN"
      ]
     },
     "execution_count": 3,
     "metadata": {},
     "output_type": "execute_result"
    }
   ],
   "source": [
    "#Load movie titles\n",
    "titles = pd.read_csv('movieTitles.csv', names = ['movieID', 'releaseDate', 'movieTitle'])\n",
    "#movies = pd.read_table(data, names = ['movieID', 'releaseDate', 'movieTitle'], header=None)\n",
    "print(titles.shape)\n",
    "titles.head()"
   ]
  },
  {
   "cell_type": "code",
   "execution_count": 4,
   "id": "9890afa6",
   "metadata": {},
   "outputs": [
    {
     "data": {
      "text/plain": [
       "\"\\ndata = open('ratings.csv', mode='w')\\n    \\nrow = list()\\n\\nwith open('data.txt') as f:\\n    for line in f: \\n        line = line.strip()\\n        if line.endswith(':'):\\n            # All below are ratings for this movie, until another movie appears.\\n            movie_id = line.replace(':', '')\\n        else:\\n            row = [x for x in line.split(',')]\\n            row.insert(0, movie_id)\\n            data.write(','.join(row))\\n            data.write('\\n')\\ndata.close()\\n\""
      ]
     },
     "execution_count": 4,
     "metadata": {},
     "output_type": "execute_result"
    }
   ],
   "source": [
    "#Parse through data --> ran once, commented out to run faster in re-runs\n",
    "'''\n",
    "data = open('ratings.csv', mode='w')\n",
    "    \n",
    "row = list()\n",
    "\n",
    "with open('data.txt') as f:\n",
    "    for line in f: \n",
    "        line = line.strip()\n",
    "        if line.endswith(':'):\n",
    "            # All below are ratings for this movie, until another movie appears.\n",
    "            movie_id = line.replace(':', '')\n",
    "        else:\n",
    "            row = [x for x in line.split(',')]\n",
    "            row.insert(0, movie_id)\n",
    "            data.write(','.join(row))\n",
    "            data.write('\\n')\n",
    "data.close()\n",
    "'''"
   ]
  },
  {
   "cell_type": "code",
   "execution_count": 5,
   "id": "eeab2fc1",
   "metadata": {},
   "outputs": [
    {
     "name": "stdout",
     "output_type": "stream",
     "text": [
      "(27010225, 4)\n"
     ]
    },
    {
     "data": {
      "text/html": [
       "<div>\n",
       "<style scoped>\n",
       "    .dataframe tbody tr th:only-of-type {\n",
       "        vertical-align: middle;\n",
       "    }\n",
       "\n",
       "    .dataframe tbody tr th {\n",
       "        vertical-align: top;\n",
       "    }\n",
       "\n",
       "    .dataframe thead th {\n",
       "        text-align: right;\n",
       "    }\n",
       "</style>\n",
       "<table border=\"1\" class=\"dataframe\">\n",
       "  <thead>\n",
       "    <tr style=\"text-align: right;\">\n",
       "      <th></th>\n",
       "      <th>movieID</th>\n",
       "      <th>userID</th>\n",
       "      <th>rating</th>\n",
       "      <th>date</th>\n",
       "    </tr>\n",
       "  </thead>\n",
       "  <tbody>\n",
       "    <tr>\n",
       "      <th>0</th>\n",
       "      <td>1</td>\n",
       "      <td>1488844</td>\n",
       "      <td>3</td>\n",
       "      <td>2005-09-06</td>\n",
       "    </tr>\n",
       "    <tr>\n",
       "      <th>1</th>\n",
       "      <td>1</td>\n",
       "      <td>822109</td>\n",
       "      <td>5</td>\n",
       "      <td>2005-05-13</td>\n",
       "    </tr>\n",
       "    <tr>\n",
       "      <th>2</th>\n",
       "      <td>1</td>\n",
       "      <td>885013</td>\n",
       "      <td>4</td>\n",
       "      <td>2005-10-19</td>\n",
       "    </tr>\n",
       "    <tr>\n",
       "      <th>3</th>\n",
       "      <td>1</td>\n",
       "      <td>30878</td>\n",
       "      <td>4</td>\n",
       "      <td>2005-12-26</td>\n",
       "    </tr>\n",
       "    <tr>\n",
       "      <th>4</th>\n",
       "      <td>1</td>\n",
       "      <td>823519</td>\n",
       "      <td>3</td>\n",
       "      <td>2004-05-03</td>\n",
       "    </tr>\n",
       "  </tbody>\n",
       "</table>\n",
       "</div>"
      ],
      "text/plain": [
       "   movieID   userID  rating        date\n",
       "0        1  1488844       3  2005-09-06\n",
       "1        1   822109       5  2005-05-13\n",
       "2        1   885013       4  2005-10-19\n",
       "3        1    30878       4  2005-12-26\n",
       "4        1   823519       3  2004-05-03"
      ]
     },
     "execution_count": 5,
     "metadata": {},
     "output_type": "execute_result"
    }
   ],
   "source": [
    "#Read new csv with ratings\n",
    "df = pd.read_csv('ratings.csv', names = ['movieID', 'userID', 'rating', 'date'])\n",
    "print(df.shape)\n",
    "df.head()"
   ]
  },
  {
   "cell_type": "code",
   "execution_count": 6,
   "id": "c1a4c889",
   "metadata": {},
   "outputs": [],
   "source": [
    "#Convert date to numerical variable \n",
    "df['date_num'] = pd.to_datetime(df['date'])\n",
    "df['date_num'] = df['date_num'].map(dt.datetime.toordinal)"
   ]
  },
  {
   "cell_type": "code",
   "execution_count": 7,
   "id": "0dab6cd7",
   "metadata": {},
   "outputs": [],
   "source": [
    "#Replace NaN values (ratings) with 3\n",
    "df.isnull().values.any() #False\n",
    "df['ratings'] = df['rating'].fillna(3)"
   ]
  },
  {
   "cell_type": "markdown",
   "id": "e7d3f8dd",
   "metadata": {},
   "source": [
    "### Splitting Data"
   ]
  },
  {
   "cell_type": "code",
   "execution_count": 8,
   "id": "68c9a4a1",
   "metadata": {},
   "outputs": [
    {
     "name": "stdout",
     "output_type": "stream",
     "text": [
      "Test set:  (5000, 6)\n",
      "Training set:  (27005225, 6)\n"
     ]
    },
    {
     "data": {
      "text/html": [
       "<div>\n",
       "<style scoped>\n",
       "    .dataframe tbody tr th:only-of-type {\n",
       "        vertical-align: middle;\n",
       "    }\n",
       "\n",
       "    .dataframe tbody tr th {\n",
       "        vertical-align: top;\n",
       "    }\n",
       "\n",
       "    .dataframe thead th {\n",
       "        text-align: right;\n",
       "    }\n",
       "</style>\n",
       "<table border=\"1\" class=\"dataframe\">\n",
       "  <thead>\n",
       "    <tr style=\"text-align: right;\">\n",
       "      <th></th>\n",
       "      <th>movieID</th>\n",
       "      <th>userID</th>\n",
       "      <th>rating</th>\n",
       "      <th>date</th>\n",
       "      <th>date_num</th>\n",
       "      <th>ratings</th>\n",
       "    </tr>\n",
       "  </thead>\n",
       "  <tbody>\n",
       "    <tr>\n",
       "      <th>480</th>\n",
       "      <td>1</td>\n",
       "      <td>2047577</td>\n",
       "      <td>3</td>\n",
       "      <td>2005-05-27</td>\n",
       "      <td>732093</td>\n",
       "      <td>3</td>\n",
       "    </tr>\n",
       "    <tr>\n",
       "      <th>597</th>\n",
       "      <td>2</td>\n",
       "      <td>222290</td>\n",
       "      <td>4</td>\n",
       "      <td>2005-03-14</td>\n",
       "      <td>732019</td>\n",
       "      <td>4</td>\n",
       "    </tr>\n",
       "    <tr>\n",
       "      <th>799</th>\n",
       "      <td>3</td>\n",
       "      <td>104768</td>\n",
       "      <td>5</td>\n",
       "      <td>2003-11-25</td>\n",
       "      <td>731544</td>\n",
       "      <td>5</td>\n",
       "    </tr>\n",
       "    <tr>\n",
       "      <th>2755</th>\n",
       "      <td>4</td>\n",
       "      <td>1949730</td>\n",
       "      <td>3</td>\n",
       "      <td>2004-04-28</td>\n",
       "      <td>731699</td>\n",
       "      <td>3</td>\n",
       "    </tr>\n",
       "    <tr>\n",
       "      <th>3191</th>\n",
       "      <td>5</td>\n",
       "      <td>1716193</td>\n",
       "      <td>5</td>\n",
       "      <td>2005-01-10</td>\n",
       "      <td>731956</td>\n",
       "      <td>5</td>\n",
       "    </tr>\n",
       "  </tbody>\n",
       "</table>\n",
       "</div>"
      ],
      "text/plain": [
       "      movieID   userID  rating        date  date_num  ratings\n",
       "480         1  2047577       3  2005-05-27    732093        3\n",
       "597         2   222290       4  2005-03-14    732019        4\n",
       "799         3   104768       5  2003-11-25    731544        5\n",
       "2755        4  1949730       3  2004-04-28    731699        3\n",
       "3191        5  1716193       5  2005-01-10    731956        5"
      ]
     },
     "execution_count": 8,
     "metadata": {},
     "output_type": "execute_result"
    }
   ],
   "source": [
    "#Test train split\n",
    "testIndex = []\n",
    "\n",
    "#Test set (1 random review for each movie)\n",
    "test = df.groupby('movieID').sample(n=1, random_state = 1) #how to ensure random state is coming from pre-set seed?\n",
    "testIndex = test.index\n",
    "print('Test set: ', test.shape)\n",
    "\n",
    "#Training set (all other reviews)\n",
    "train = df.drop(testIndex, axis=0)\n",
    "print('Training set: ', train.shape)\n",
    "test.head()"
   ]
  },
  {
   "cell_type": "code",
   "execution_count": 9,
   "id": "5f1064cc",
   "metadata": {},
   "outputs": [],
   "source": [
    "#Split X and y\n",
    "X_train = train[['movieID', 'userID', 'date_num']]\n",
    "y_train = train[['rating']]\n",
    "\n",
    "X_test = test[['movieID', 'userID', 'date_num']]\n",
    "y_test = test[['rating']]"
   ]
  },
  {
   "cell_type": "markdown",
   "id": "abe4a0ef",
   "metadata": {},
   "source": [
    "### Multiple Regression Model\n",
    "All variables"
   ]
  },
  {
   "cell_type": "code",
   "execution_count": 10,
   "id": "30fe5d01",
   "metadata": {},
   "outputs": [],
   "source": [
    "#Fit the model\n",
    "model = LinearRegression().fit(X_train,y_train)"
   ]
  },
  {
   "cell_type": "code",
   "execution_count": 11,
   "id": "a8fe0e1d",
   "metadata": {},
   "outputs": [
    {
     "name": "stdout",
     "output_type": "stream",
     "text": [
      "RMSE:  1.2554509110091085\n",
      "Normalized RMSE:  0.31386272775227714\n"
     ]
    }
   ],
   "source": [
    "#Check RMSE (using test set)\n",
    "\n",
    "#Make predictions\n",
    "y_pred = model.predict(X_test)\n",
    "\n",
    "#Compare predictions with actual values\n",
    "rmse = mean_squared_error(y_test, y_pred, squared=False)\n",
    "print('RMSE: ', rmse)\n",
    "\n",
    "#Normalize rmse\n",
    "norm_rmse = rmse / (5 - 1) #over difference between max value (max rating is 5) and minimum value (min rating is 1)\n",
    "print('Normalized RMSE: ', norm_rmse)"
   ]
  },
  {
   "cell_type": "markdown",
   "id": "1ea02aef",
   "metadata": {},
   "source": [
    "### Linear Regressions for each Variable"
   ]
  },
  {
   "cell_type": "markdown",
   "id": "15a43ff9",
   "metadata": {},
   "source": [
    "My purpose here is to find the best predictor variable and see if any of the models with single linear regressions (only one predictor variable) perform better than the aggregated multiple regression model above.\n",
    "\n",
    "Model 1: movieID\n",
    "\n",
    "Model 2: userID\n",
    "\n",
    "Model 3: date_num"
   ]
  },
  {
   "cell_type": "code",
   "execution_count": 12,
   "id": "a2caffde",
   "metadata": {},
   "outputs": [],
   "source": [
    "X1train = X_train[['movieID']]\n",
    "X1test = X_test[['movieID']]\n",
    "\n",
    "X2train = X_train[['userID']]\n",
    "X2test = X_test[['userID']]\n",
    "\n",
    "X3train = X_train[['date_num']]\n",
    "X3test = X_test[['date_num']]"
   ]
  },
  {
   "cell_type": "code",
   "execution_count": 13,
   "id": "ffbd803e",
   "metadata": {},
   "outputs": [],
   "source": [
    "#Model, predictions, normalized rmse with only movieID as predictor\n",
    "model1 = LinearRegression().fit(X1train,y_train)\n",
    "y1pred = model1.predict(X1test)\n",
    "rmse1 = mean_squared_error(y_test, y1pred, squared=False)/ (5 - 1)\n"
   ]
  },
  {
   "cell_type": "code",
   "execution_count": 14,
   "id": "8b02bde2",
   "metadata": {},
   "outputs": [],
   "source": [
    "#Model, predictions, normalized rmse with only userID as predictor\n",
    "model2 = LinearRegression().fit(X2train,y_train)\n",
    "y2pred = model2.predict(X2test)\n",
    "rmse2 = mean_squared_error(y_test, y2pred, squared=False)/ (5 - 1)\n"
   ]
  },
  {
   "cell_type": "code",
   "execution_count": 15,
   "id": "87909ba2",
   "metadata": {},
   "outputs": [],
   "source": [
    "#Model, predictions, normalized rmse with only date as predictor\n",
    "model3 = LinearRegression().fit(X3train,y_train)\n",
    "y3pred = model3.predict(X3test)\n",
    "rmse3 = mean_squared_error(y_test, y3pred, squared=False)/ (5 - 1)\n"
   ]
  },
  {
   "cell_type": "code",
   "execution_count": 16,
   "id": "42a98a0c",
   "metadata": {},
   "outputs": [
    {
     "name": "stdout",
     "output_type": "stream",
     "text": [
      "NORMALIZED RMSE OF EACH MODEL\n",
      "Multiple Regression:  0.31386272775227714\n",
      "Simple Linear Regression (Movie ID):  0.3173333178027985\n",
      "Simple Linear Regression (User ID):  0.317197154310339\n",
      "Simple Linear Regression (Date):  0.3137075344341073\n"
     ]
    }
   ],
   "source": [
    "#Compare RMSE of 3 linear regressions and the prior multiple regression\n",
    "print('NORMALIZED RMSE OF EACH MODEL')\n",
    "print('Multiple Regression: ', norm_rmse)\n",
    "print('Simple Linear Regression (Movie ID): ', rmse1)\n",
    "print('Simple Linear Regression (User ID): ', rmse2)\n",
    "print('Simple Linear Regression (Date): ', rmse3)"
   ]
  },
  {
   "cell_type": "markdown",
   "id": "d6268d94",
   "metadata": {},
   "source": [
    "### Extra Credit"
   ]
  },
  {
   "cell_type": "code",
   "execution_count": 18,
   "id": "9f55828d",
   "metadata": {},
   "outputs": [
    {
     "data": {
      "text/plain": [
       "0.12582654658290654"
      ]
     },
     "execution_count": 18,
     "metadata": {},
     "output_type": "execute_result"
    }
   ],
   "source": [
    "#Just first movie reviews\n",
    "df2 = df.loc[df['movieID'] == 1]\n",
    "df.shape\n",
    "\n",
    "#Correlation between date and rating\n",
    "df2['date_num'].corr(df2['rating'])"
   ]
  }
 ],
 "metadata": {
  "kernelspec": {
   "display_name": "Python 3 (ipykernel)",
   "language": "python",
   "name": "python3"
  },
  "language_info": {
   "codemirror_mode": {
    "name": "ipython",
    "version": 3
   },
   "file_extension": ".py",
   "mimetype": "text/x-python",
   "name": "python",
   "nbconvert_exporter": "python",
   "pygments_lexer": "ipython3",
   "version": "3.7.6"
  }
 },
 "nbformat": 4,
 "nbformat_minor": 5
}
