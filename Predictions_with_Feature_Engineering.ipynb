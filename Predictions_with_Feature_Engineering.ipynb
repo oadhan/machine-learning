{
  "nbformat": 4,
  "nbformat_minor": 0,
  "metadata": {
    "colab": {
      "name": "Predictions with Feature Engineering",
      "provenance": [],
      "collapsed_sections": []
    },
    "kernelspec": {
      "display_name": "Python 3",
      "name": "python3"
    }
  },
  "cells": [
    {
      "cell_type": "markdown",
      "metadata": {
        "id": "Vfy2UBG2E6OS"
      },
      "source": [
        "# Predict early readmission for diabetes patients based on their laboratory and medications record \n",
        "\n",
        "In this lab, we are going to use a dataset of diabetes patients and to build an unbiased models to predict whether they will be readmitted within 30 days since the current encounter based on laboratory test performed and medications taken during their stay. \n",
        "\n",
        "**There are two parts of this lab and in the first one we will cover the following key points:**\n",
        "\n",
        "* Reproduce a dataset based on a paper\n",
        "> The dataset we use is provided by the Health Facts, while it is extracted and analyzed in the following research work: Beata Strack, Jonathan P. DeShazo, Chris Gennings, Juan L. Olmo, Sebastian Ventura, Krzysztof J. Cios, John N. Clore, \"Impact of HbA1c Measurement on Hospital Readmission Rates: Analysis of 70,000 Clinical Database Patient Records\", *BioMed Research International*, vol. 2014, Article ID 781670, 11 pages, 2014. https://doi.org/10.1155/2014/781670\n",
        ">\t\n",
        "We will perform data verification based on the paper’s description and conduct data preparation by mostly following the steps used  in their work while performing modifications as indicated in each section for the sake of this exercise. \n",
        "\n",
        "* Use scikit-learn to conduct feature engineering and model training\n",
        "> We train a classifier to predict early readmission based on encounter records except specific sensitive features. There are both numerical and categorical features in the dataset and we will apply appropriate feature transformation techniques before fitting into the model. Here we will also focus on how to use sklearn.pipeline.Pipeline to assemble the operations. \n",
        "\n",
        "* Evaluate models’ performance with different metrics\n",
        "> Once we obtain the model,  we will explore a series of performance metrics  and observes how they serve differently when it comes to model evaluation for our problem, especially given its extremely unbalanced rate between positive and negative outcomes.  \n",
        "\n",
        "**The second part we will focus on [Fairlearn](https://fairlearn.github.io), which  is a Python toolkit to assist in assessing and mitigating unfairness in machine learning models. Contents prepared include:**\n",
        " \n",
        "* Assess model's sensitivity in terms of various fairness and accuracy metrics\n",
        ">Sensitive features relevant to our task include patients’ race, gender and age. We will use modules provided in Fairlearn to assess model's sensitivity when it comes to any individual of these features, or under the intersection of them. We will also quantify disparities among subgroups with different methods provided. Furthermore, we will introduce the concept about control features and how you can conduct relevant analysis with Fairlearn.  \n",
        "\n",
        "* Mitigate unfairness observed in the model\n",
        ">There are three groups of mitigation methods provided in Fairlearn: preprocessing, reduction and postprocessing. We select two specific algorithms to mitigate the observed unfairness in the model obtained from the first part. \n",
        "\n",
        "We would like to thank Roman Lutz, who is one of the main contributors to Fairlearn, sincerely for  \n",
        "his precise suggestions and assistance in the preparation of this material.      \n",
        "\n",
        "\n"
      ]
    },
    {
      "cell_type": "markdown",
      "metadata": {
        "id": "4W8tsOkowkx9"
      },
      "source": [
        "## Step 0: Setups  "
      ]
    },
    {
      "cell_type": "code",
      "metadata": {
        "id": "P7Uk7m2uEPYw",
        "colab": {
          "base_uri": "https://localhost:8080/",
          "height": 1000
        },
        "outputId": "fcd743c8-2912-4ef5-cba5-daff918b5cfc"
      },
      "source": [
        "!pip install --upgrade raiwidgets==0.2.0\n",
        "!pip install --upgrade fairlearn==v0.6.0\n",
        "!pip install -U scikit-learn==0.24.1"
      ],
      "execution_count": null,
      "outputs": [
        {
          "output_type": "stream",
          "text": [
            "Collecting raiwidgets==0.2.0\n",
            "\u001b[?25l  Downloading https://files.pythonhosted.org/packages/d7/d9/1fb6fa677d6b831754379c934191fa8198a76db85e800d5c702d292540a9/raiwidgets-0.2.0-py3-none-any.whl (3.9MB)\n",
            "\u001b[K     |████████████████████████████████| 3.9MB 5.0MB/s \n",
            "\u001b[?25hCollecting lightgbm>=3.1.1\n",
            "\u001b[?25l  Downloading https://files.pythonhosted.org/packages/70/cd/2b7783e8c250f8191b72e9a0010e0429a799d3305c27764d7bf113dfd078/lightgbm-3.1.1-py2.py3-none-manylinux1_x86_64.whl (1.8MB)\n",
            "\u001b[K     |████████████████████████████████| 1.8MB 32.1MB/s \n",
            "\u001b[?25hCollecting rai-core-flask==0.2.0\n",
            "  Downloading https://files.pythonhosted.org/packages/6c/b1/72ee11d2714ff46dba0fb7b4e24cedc37c3b8ac67d867ca9b0e8a0d83c59/rai_core_flask-0.2.0-py3-none-any.whl\n",
            "Collecting jinja2==2.11.1\n",
            "\u001b[?25l  Downloading https://files.pythonhosted.org/packages/27/24/4f35961e5c669e96f6559760042a55b9bcfcdb82b9bdb3c8753dbe042e35/Jinja2-2.11.1-py2.py3-none-any.whl (126kB)\n",
            "\u001b[K     |████████████████████████████████| 133kB 40.7MB/s \n",
            "\u001b[?25hRequirement already satisfied, skipping upgrade: scikit-learn>=0.22.1 in /usr/local/lib/python3.7/dist-packages (from raiwidgets==0.2.0) (0.22.2.post1)\n",
            "Collecting ipython==7.16.1\n",
            "\u001b[?25l  Downloading https://files.pythonhosted.org/packages/23/6a/210816c943c9aeeb29e4e18a298f14bf0e118fe222a23e13bfcc2d41b0a4/ipython-7.16.1-py3-none-any.whl (785kB)\n",
            "\u001b[K     |████████████████████████████████| 788kB 36.5MB/s \n",
            "\u001b[?25hRequirement already satisfied, skipping upgrade: pandas>=0.25.1 in /usr/local/lib/python3.7/dist-packages (from raiwidgets==0.2.0) (1.1.5)\n",
            "Requirement already satisfied, skipping upgrade: scipy>=1.4.1 in /usr/local/lib/python3.7/dist-packages (from raiwidgets==0.2.0) (1.4.1)\n",
            "Requirement already satisfied, skipping upgrade: numpy>=1.17.2 in /usr/local/lib/python3.7/dist-packages (from raiwidgets==0.2.0) (1.19.5)\n",
            "Requirement already satisfied, skipping upgrade: wheel in /usr/local/lib/python3.7/dist-packages (from lightgbm>=3.1.1->raiwidgets==0.2.0) (0.36.2)\n",
            "Collecting Flask-Cors==3.0.9\n",
            "  Downloading https://files.pythonhosted.org/packages/69/7f/d0aeaaafb5c3c76c8d2141dbe2d4f6dca5d6c31872d4e5349768c1958abc/Flask_Cors-3.0.9-py2.py3-none-any.whl\n",
            "Collecting gevent==20.6.2\n",
            "\u001b[?25l  Downloading https://files.pythonhosted.org/packages/8b/fb/bacbe69dd3a5a6522c222140e3b5594f644e776c87ff034040feca8a45f1/gevent-20.6.2-cp37-cp37m-manylinux2010_x86_64.whl (5.4MB)\n",
            "\u001b[K     |████████████████████████████████| 5.4MB 36.4MB/s \n",
            "\u001b[?25hRequirement already satisfied, skipping upgrade: Flask==1.1.2 in /usr/local/lib/python3.7/dist-packages (from rai-core-flask==0.2.0->raiwidgets==0.2.0) (1.1.2)\n",
            "Requirement already satisfied, skipping upgrade: MarkupSafe>=0.23 in /usr/local/lib/python3.7/dist-packages (from jinja2==2.11.1->raiwidgets==0.2.0) (1.1.1)\n",
            "Requirement already satisfied, skipping upgrade: joblib>=0.11 in /usr/local/lib/python3.7/dist-packages (from scikit-learn>=0.22.1->raiwidgets==0.2.0) (1.0.1)\n",
            "Requirement already satisfied, skipping upgrade: pexpect; sys_platform != \"win32\" in /usr/local/lib/python3.7/dist-packages (from ipython==7.16.1->raiwidgets==0.2.0) (4.8.0)\n",
            "Requirement already satisfied, skipping upgrade: decorator in /usr/local/lib/python3.7/dist-packages (from ipython==7.16.1->raiwidgets==0.2.0) (4.4.2)\n",
            "Requirement already satisfied, skipping upgrade: pygments in /usr/local/lib/python3.7/dist-packages (from ipython==7.16.1->raiwidgets==0.2.0) (2.6.1)\n",
            "Requirement already satisfied, skipping upgrade: pickleshare in /usr/local/lib/python3.7/dist-packages (from ipython==7.16.1->raiwidgets==0.2.0) (0.7.5)\n",
            "Requirement already satisfied, skipping upgrade: traitlets>=4.2 in /usr/local/lib/python3.7/dist-packages (from ipython==7.16.1->raiwidgets==0.2.0) (5.0.5)\n",
            "Collecting prompt-toolkit!=3.0.0,!=3.0.1,<3.1.0,>=2.0.0\n",
            "\u001b[?25l  Downloading https://files.pythonhosted.org/packages/a6/0b/c6de29441b29f8b54d5bbe29a8b223de6e400714ff50e85541bd4c783421/prompt_toolkit-3.0.16-py3-none-any.whl (366kB)\n",
            "\u001b[K     |████████████████████████████████| 368kB 41.7MB/s \n",
            "\u001b[?25hRequirement already satisfied, skipping upgrade: jedi>=0.10 in /usr/local/lib/python3.7/dist-packages (from ipython==7.16.1->raiwidgets==0.2.0) (0.18.0)\n",
            "Requirement already satisfied, skipping upgrade: setuptools>=18.5 in /usr/local/lib/python3.7/dist-packages (from ipython==7.16.1->raiwidgets==0.2.0) (54.0.0)\n",
            "Requirement already satisfied, skipping upgrade: backcall in /usr/local/lib/python3.7/dist-packages (from ipython==7.16.1->raiwidgets==0.2.0) (0.2.0)\n",
            "Requirement already satisfied, skipping upgrade: pytz>=2017.2 in /usr/local/lib/python3.7/dist-packages (from pandas>=0.25.1->raiwidgets==0.2.0) (2018.9)\n",
            "Requirement already satisfied, skipping upgrade: python-dateutil>=2.7.3 in /usr/local/lib/python3.7/dist-packages (from pandas>=0.25.1->raiwidgets==0.2.0) (2.8.1)\n",
            "Requirement already satisfied, skipping upgrade: Six in /usr/local/lib/python3.7/dist-packages (from Flask-Cors==3.0.9->rai-core-flask==0.2.0->raiwidgets==0.2.0) (1.15.0)\n",
            "Collecting zope.interface\n",
            "\u001b[?25l  Downloading https://files.pythonhosted.org/packages/f8/42/d8f11eaef844bee267821281fffe445e49cf31b486d72a81821a9d45cd0a/zope.interface-5.2.0-cp37-cp37m-manylinux2010_x86_64.whl (237kB)\n",
            "\u001b[K     |████████████████████████████████| 245kB 44.2MB/s \n",
            "\u001b[?25hCollecting greenlet>=0.4.16; platform_python_implementation == \"CPython\"\n",
            "\u001b[?25l  Downloading https://files.pythonhosted.org/packages/c6/25/f52f0dde4135833c2f85eae30a749d260231065b46942534df8366d7e1ec/greenlet-1.0.0-cp37-cp37m-manylinux2010_x86_64.whl (160kB)\n",
            "\u001b[K     |████████████████████████████████| 163kB 32.9MB/s \n",
            "\u001b[?25hCollecting zope.event\n",
            "  Downloading https://files.pythonhosted.org/packages/9e/85/b45408c64f3b888976f1d5b37eed8d746b8d5729a66a49ec846fda27d371/zope.event-4.5.0-py2.py3-none-any.whl\n",
            "Requirement already satisfied, skipping upgrade: Werkzeug>=0.15 in /usr/local/lib/python3.7/dist-packages (from Flask==1.1.2->rai-core-flask==0.2.0->raiwidgets==0.2.0) (1.0.1)\n",
            "Requirement already satisfied, skipping upgrade: click>=5.1 in /usr/local/lib/python3.7/dist-packages (from Flask==1.1.2->rai-core-flask==0.2.0->raiwidgets==0.2.0) (7.1.2)\n",
            "Requirement already satisfied, skipping upgrade: itsdangerous>=0.24 in /usr/local/lib/python3.7/dist-packages (from Flask==1.1.2->rai-core-flask==0.2.0->raiwidgets==0.2.0) (1.1.0)\n",
            "Requirement already satisfied, skipping upgrade: ptyprocess>=0.5 in /usr/local/lib/python3.7/dist-packages (from pexpect; sys_platform != \"win32\"->ipython==7.16.1->raiwidgets==0.2.0) (0.7.0)\n",
            "Requirement already satisfied, skipping upgrade: ipython-genutils in /usr/local/lib/python3.7/dist-packages (from traitlets>=4.2->ipython==7.16.1->raiwidgets==0.2.0) (0.2.0)\n",
            "Requirement already satisfied, skipping upgrade: wcwidth in /usr/local/lib/python3.7/dist-packages (from prompt-toolkit!=3.0.0,!=3.0.1,<3.1.0,>=2.0.0->ipython==7.16.1->raiwidgets==0.2.0) (0.2.5)\n",
            "Requirement already satisfied, skipping upgrade: parso<0.9.0,>=0.8.0 in /usr/local/lib/python3.7/dist-packages (from jedi>=0.10->ipython==7.16.1->raiwidgets==0.2.0) (0.8.1)\n",
            "\u001b[31mERROR: jupyter-console 5.2.0 has requirement prompt-toolkit<2.0.0,>=1.0.0, but you'll have prompt-toolkit 3.0.16 which is incompatible.\u001b[0m\n",
            "\u001b[31mERROR: google-colab 1.0.0 has requirement ipython~=5.5.0, but you'll have ipython 7.16.1 which is incompatible.\u001b[0m\n",
            "\u001b[31mERROR: datascience 0.10.6 has requirement folium==0.2.1, but you'll have folium 0.8.3 which is incompatible.\u001b[0m\n",
            "Installing collected packages: lightgbm, Flask-Cors, prompt-toolkit, ipython, zope.interface, greenlet, zope.event, gevent, rai-core-flask, jinja2, raiwidgets\n",
            "  Found existing installation: lightgbm 2.2.3\n",
            "    Uninstalling lightgbm-2.2.3:\n",
            "      Successfully uninstalled lightgbm-2.2.3\n",
            "  Found existing installation: prompt-toolkit 1.0.18\n",
            "    Uninstalling prompt-toolkit-1.0.18:\n",
            "      Successfully uninstalled prompt-toolkit-1.0.18\n",
            "  Found existing installation: ipython 5.5.0\n",
            "    Uninstalling ipython-5.5.0:\n",
            "      Successfully uninstalled ipython-5.5.0\n",
            "  Found existing installation: Jinja2 2.11.3\n",
            "    Uninstalling Jinja2-2.11.3:\n",
            "      Successfully uninstalled Jinja2-2.11.3\n",
            "Successfully installed Flask-Cors-3.0.9 gevent-20.6.2 greenlet-1.0.0 ipython-7.16.1 jinja2-2.11.1 lightgbm-3.1.1 prompt-toolkit-3.0.16 rai-core-flask-0.2.0 raiwidgets-0.2.0 zope.event-4.5.0 zope.interface-5.2.0\n"
          ],
          "name": "stdout"
        },
        {
          "output_type": "display_data",
          "data": {
            "application/vnd.colab-display-data+json": {
              "pip_warning": {
                "packages": [
                  "IPython",
                  "prompt_toolkit"
                ]
              }
            }
          },
          "metadata": {
            "tags": []
          }
        },
        {
          "output_type": "stream",
          "text": [
            "Collecting fairlearn==v0.6.0\n",
            "\u001b[?25l  Downloading https://files.pythonhosted.org/packages/09/f2/354cd1ddb030e68dcced6f1932d9ef926ee13bad525faaf2f882e69705aa/fairlearn-0.6.0-py3-none-any.whl (24.6MB)\n",
            "\u001b[K     |████████████████████████████████| 24.6MB 2.0MB/s \n",
            "\u001b[?25hRequirement already satisfied, skipping upgrade: numpy>=1.17.2 in /usr/local/lib/python3.7/dist-packages (from fairlearn==v0.6.0) (1.19.5)\n",
            "Requirement already satisfied, skipping upgrade: pandas>=0.25.1 in /usr/local/lib/python3.7/dist-packages (from fairlearn==v0.6.0) (1.1.5)\n",
            "Requirement already satisfied, skipping upgrade: scikit-learn>=0.22.1 in /usr/local/lib/python3.7/dist-packages (from fairlearn==v0.6.0) (0.22.2.post1)\n",
            "Requirement already satisfied, skipping upgrade: scipy>=1.4.1 in /usr/local/lib/python3.7/dist-packages (from fairlearn==v0.6.0) (1.4.1)\n",
            "Requirement already satisfied, skipping upgrade: pytz>=2017.2 in /usr/local/lib/python3.7/dist-packages (from pandas>=0.25.1->fairlearn==v0.6.0) (2018.9)\n",
            "Requirement already satisfied, skipping upgrade: python-dateutil>=2.7.3 in /usr/local/lib/python3.7/dist-packages (from pandas>=0.25.1->fairlearn==v0.6.0) (2.8.1)\n",
            "Requirement already satisfied, skipping upgrade: joblib>=0.11 in /usr/local/lib/python3.7/dist-packages (from scikit-learn>=0.22.1->fairlearn==v0.6.0) (1.0.1)\n",
            "Requirement already satisfied, skipping upgrade: six>=1.5 in /usr/local/lib/python3.7/dist-packages (from python-dateutil>=2.7.3->pandas>=0.25.1->fairlearn==v0.6.0) (1.15.0)\n",
            "Installing collected packages: fairlearn\n",
            "Successfully installed fairlearn-0.6.0\n",
            "Collecting scikit-learn==0.24.1\n",
            "\u001b[?25l  Downloading https://files.pythonhosted.org/packages/f3/74/eb899f41d55f957e2591cde5528e75871f817d9fb46d4732423ecaca736d/scikit_learn-0.24.1-cp37-cp37m-manylinux2010_x86_64.whl (22.3MB)\n",
            "\u001b[K     |████████████████████████████████| 22.3MB 1.9MB/s \n",
            "\u001b[?25hRequirement already satisfied, skipping upgrade: joblib>=0.11 in /usr/local/lib/python3.7/dist-packages (from scikit-learn==0.24.1) (1.0.1)\n",
            "Collecting threadpoolctl>=2.0.0\n",
            "  Downloading https://files.pythonhosted.org/packages/f7/12/ec3f2e203afa394a149911729357aa48affc59c20e2c1c8297a60f33f133/threadpoolctl-2.1.0-py3-none-any.whl\n",
            "Requirement already satisfied, skipping upgrade: scipy>=0.19.1 in /usr/local/lib/python3.7/dist-packages (from scikit-learn==0.24.1) (1.4.1)\n",
            "Requirement already satisfied, skipping upgrade: numpy>=1.13.3 in /usr/local/lib/python3.7/dist-packages (from scikit-learn==0.24.1) (1.19.5)\n",
            "Installing collected packages: threadpoolctl, scikit-learn\n",
            "  Found existing installation: scikit-learn 0.22.2.post1\n",
            "    Uninstalling scikit-learn-0.22.2.post1:\n",
            "      Successfully uninstalled scikit-learn-0.22.2.post1\n",
            "Successfully installed scikit-learn-0.24.1 threadpoolctl-2.1.0\n"
          ],
          "name": "stdout"
        }
      ]
    },
    {
      "cell_type": "code",
      "metadata": {
        "id": "l-RUmHGm0aoh"
      },
      "source": [
        "import pandas as pd\n",
        "import numpy as np\n",
        "import matplotlib.pyplot as plt\n",
        "\n",
        "%matplotlib inline"
      ],
      "execution_count": null,
      "outputs": []
    },
    {
      "cell_type": "markdown",
      "metadata": {
        "id": "YGfCzqxMxEmx"
      },
      "source": [
        "## Step 1: Data loading\n",
        "The original data files can be download as supplementary of the paper at https://www.hindawi.com/journals/bmri/2014/781670/#supplementary-materials. \n",
        "\n",
        "Here we provide a link to the shared csv file which you can use to read into your own working space on colaboratory.   \n",
        "\n",
        "Link: https://drive.google.com/file/d/13zSR_W20MWknPr2cbXS6Ck-GmLufpNPT/view?usp=sharing \n",
        "\n",
        "Let's use PyDrive to load the data."
      ]
    },
    {
      "cell_type": "code",
      "metadata": {
        "id": "x6JEu0xuusMs"
      },
      "source": [
        "# Packages for reading csv file into Colaboratory:\n",
        "!pip install -U -q PyDrive==1.3.1\n",
        "\n",
        "from pydrive.auth import GoogleAuth\n",
        "from pydrive.drive import GoogleDrive\n",
        "from google.colab import auth\n",
        "from oauth2client.client import GoogleCredentials\n",
        "\n",
        "# Authenticate and create the PyDrive client. \n",
        "# Please follow the steps as instructed when you run the following commands. \n",
        "\n",
        "auth.authenticate_user()\n",
        "gauth = GoogleAuth()\n",
        "gauth.credentials = GoogleCredentials.get_application_default()\n",
        "drive = GoogleDrive(gauth)"
      ],
      "execution_count": null,
      "outputs": []
    },
    {
      "cell_type": "code",
      "metadata": {
        "id": "xwtgnnQ7vRrN"
      },
      "source": [
        "# Load the same with information provided above in the link. \n",
        "fileid = '13zSR_W20MWknPr2cbXS6Ck-GmLufpNPT'   \n",
        "filename = 'diabetic_data_initial.csv'\n",
        "downloaded = drive.CreateFile({'id':fileid}) \n",
        "downloaded.GetContentFile(filename)  \n",
        "data = pd.read_csv(filename)"
      ],
      "execution_count": null,
      "outputs": []
    },
    {
      "cell_type": "code",
      "metadata": {
        "id": "WtisexHTvgi1",
        "colab": {
          "base_uri": "https://localhost:8080/",
          "height": 326
        },
        "outputId": "003b2429-d4dc-4672-a9e0-c9c572b9abed"
      },
      "source": [
        "# Check the data loaded.\n",
        "data.head()"
      ],
      "execution_count": null,
      "outputs": [
        {
          "output_type": "execute_result",
          "data": {
            "text/html": [
              "<div>\n",
              "<style scoped>\n",
              "    .dataframe tbody tr th:only-of-type {\n",
              "        vertical-align: middle;\n",
              "    }\n",
              "\n",
              "    .dataframe tbody tr th {\n",
              "        vertical-align: top;\n",
              "    }\n",
              "\n",
              "    .dataframe thead th {\n",
              "        text-align: right;\n",
              "    }\n",
              "</style>\n",
              "<table border=\"1\" class=\"dataframe\">\n",
              "  <thead>\n",
              "    <tr style=\"text-align: right;\">\n",
              "      <th></th>\n",
              "      <th>encounter_id</th>\n",
              "      <th>patient_nbr</th>\n",
              "      <th>race</th>\n",
              "      <th>gender</th>\n",
              "      <th>age</th>\n",
              "      <th>weight</th>\n",
              "      <th>admission_type_id</th>\n",
              "      <th>discharge_disposition_id</th>\n",
              "      <th>admission_source_id</th>\n",
              "      <th>time_in_hospital</th>\n",
              "      <th>payer_code</th>\n",
              "      <th>medical_specialty</th>\n",
              "      <th>num_lab_procedures</th>\n",
              "      <th>num_procedures</th>\n",
              "      <th>num_medications</th>\n",
              "      <th>number_outpatient</th>\n",
              "      <th>number_emergency</th>\n",
              "      <th>number_inpatient</th>\n",
              "      <th>diag_1</th>\n",
              "      <th>diag_2</th>\n",
              "      <th>diag_3</th>\n",
              "      <th>number_diagnoses</th>\n",
              "      <th>max_glu_serum</th>\n",
              "      <th>A1Cresult</th>\n",
              "      <th>metformin</th>\n",
              "      <th>repaglinide</th>\n",
              "      <th>nateglinide</th>\n",
              "      <th>chlorpropamide</th>\n",
              "      <th>glimepiride</th>\n",
              "      <th>acetohexamide</th>\n",
              "      <th>glipizide</th>\n",
              "      <th>glyburide</th>\n",
              "      <th>tolbutamide</th>\n",
              "      <th>pioglitazone</th>\n",
              "      <th>rosiglitazone</th>\n",
              "      <th>acarbose</th>\n",
              "      <th>miglitol</th>\n",
              "      <th>troglitazone</th>\n",
              "      <th>tolazamide</th>\n",
              "      <th>examide</th>\n",
              "      <th>citoglipton</th>\n",
              "      <th>insulin</th>\n",
              "      <th>glyburide-metformin</th>\n",
              "      <th>glipizide-metformin</th>\n",
              "      <th>glimepiride-pioglitazone</th>\n",
              "      <th>metformin-rosiglitazone</th>\n",
              "      <th>metformin-pioglitazone</th>\n",
              "      <th>change</th>\n",
              "      <th>diabetesMed</th>\n",
              "      <th>readmitted</th>\n",
              "    </tr>\n",
              "  </thead>\n",
              "  <tbody>\n",
              "    <tr>\n",
              "      <th>0</th>\n",
              "      <td>2278392</td>\n",
              "      <td>8222157</td>\n",
              "      <td>Caucasian</td>\n",
              "      <td>Female</td>\n",
              "      <td>[0-10)</td>\n",
              "      <td>?</td>\n",
              "      <td>6</td>\n",
              "      <td>25</td>\n",
              "      <td>1</td>\n",
              "      <td>1</td>\n",
              "      <td>?</td>\n",
              "      <td>Pediatrics-Endocrinology</td>\n",
              "      <td>41</td>\n",
              "      <td>0</td>\n",
              "      <td>1</td>\n",
              "      <td>0</td>\n",
              "      <td>0</td>\n",
              "      <td>0</td>\n",
              "      <td>250.83</td>\n",
              "      <td>?</td>\n",
              "      <td>?</td>\n",
              "      <td>1</td>\n",
              "      <td>None</td>\n",
              "      <td>None</td>\n",
              "      <td>No</td>\n",
              "      <td>No</td>\n",
              "      <td>No</td>\n",
              "      <td>No</td>\n",
              "      <td>No</td>\n",
              "      <td>No</td>\n",
              "      <td>No</td>\n",
              "      <td>No</td>\n",
              "      <td>No</td>\n",
              "      <td>No</td>\n",
              "      <td>No</td>\n",
              "      <td>No</td>\n",
              "      <td>No</td>\n",
              "      <td>No</td>\n",
              "      <td>No</td>\n",
              "      <td>No</td>\n",
              "      <td>No</td>\n",
              "      <td>No</td>\n",
              "      <td>No</td>\n",
              "      <td>No</td>\n",
              "      <td>No</td>\n",
              "      <td>No</td>\n",
              "      <td>No</td>\n",
              "      <td>No</td>\n",
              "      <td>No</td>\n",
              "      <td>NO</td>\n",
              "    </tr>\n",
              "    <tr>\n",
              "      <th>1</th>\n",
              "      <td>149190</td>\n",
              "      <td>55629189</td>\n",
              "      <td>Caucasian</td>\n",
              "      <td>Female</td>\n",
              "      <td>[10-20)</td>\n",
              "      <td>?</td>\n",
              "      <td>1</td>\n",
              "      <td>1</td>\n",
              "      <td>7</td>\n",
              "      <td>3</td>\n",
              "      <td>?</td>\n",
              "      <td>?</td>\n",
              "      <td>59</td>\n",
              "      <td>0</td>\n",
              "      <td>18</td>\n",
              "      <td>0</td>\n",
              "      <td>0</td>\n",
              "      <td>0</td>\n",
              "      <td>276</td>\n",
              "      <td>250.01</td>\n",
              "      <td>255</td>\n",
              "      <td>9</td>\n",
              "      <td>None</td>\n",
              "      <td>None</td>\n",
              "      <td>No</td>\n",
              "      <td>No</td>\n",
              "      <td>No</td>\n",
              "      <td>No</td>\n",
              "      <td>No</td>\n",
              "      <td>No</td>\n",
              "      <td>No</td>\n",
              "      <td>No</td>\n",
              "      <td>No</td>\n",
              "      <td>No</td>\n",
              "      <td>No</td>\n",
              "      <td>No</td>\n",
              "      <td>No</td>\n",
              "      <td>No</td>\n",
              "      <td>No</td>\n",
              "      <td>No</td>\n",
              "      <td>No</td>\n",
              "      <td>Up</td>\n",
              "      <td>No</td>\n",
              "      <td>No</td>\n",
              "      <td>No</td>\n",
              "      <td>No</td>\n",
              "      <td>No</td>\n",
              "      <td>Ch</td>\n",
              "      <td>Yes</td>\n",
              "      <td>&gt;30</td>\n",
              "    </tr>\n",
              "    <tr>\n",
              "      <th>2</th>\n",
              "      <td>64410</td>\n",
              "      <td>86047875</td>\n",
              "      <td>AfricanAmerican</td>\n",
              "      <td>Female</td>\n",
              "      <td>[20-30)</td>\n",
              "      <td>?</td>\n",
              "      <td>1</td>\n",
              "      <td>1</td>\n",
              "      <td>7</td>\n",
              "      <td>2</td>\n",
              "      <td>?</td>\n",
              "      <td>?</td>\n",
              "      <td>11</td>\n",
              "      <td>5</td>\n",
              "      <td>13</td>\n",
              "      <td>2</td>\n",
              "      <td>0</td>\n",
              "      <td>1</td>\n",
              "      <td>648</td>\n",
              "      <td>250</td>\n",
              "      <td>V27</td>\n",
              "      <td>6</td>\n",
              "      <td>None</td>\n",
              "      <td>None</td>\n",
              "      <td>No</td>\n",
              "      <td>No</td>\n",
              "      <td>No</td>\n",
              "      <td>No</td>\n",
              "      <td>No</td>\n",
              "      <td>No</td>\n",
              "      <td>Steady</td>\n",
              "      <td>No</td>\n",
              "      <td>No</td>\n",
              "      <td>No</td>\n",
              "      <td>No</td>\n",
              "      <td>No</td>\n",
              "      <td>No</td>\n",
              "      <td>No</td>\n",
              "      <td>No</td>\n",
              "      <td>No</td>\n",
              "      <td>No</td>\n",
              "      <td>No</td>\n",
              "      <td>No</td>\n",
              "      <td>No</td>\n",
              "      <td>No</td>\n",
              "      <td>No</td>\n",
              "      <td>No</td>\n",
              "      <td>No</td>\n",
              "      <td>Yes</td>\n",
              "      <td>NO</td>\n",
              "    </tr>\n",
              "    <tr>\n",
              "      <th>3</th>\n",
              "      <td>500364</td>\n",
              "      <td>82442376</td>\n",
              "      <td>Caucasian</td>\n",
              "      <td>Male</td>\n",
              "      <td>[30-40)</td>\n",
              "      <td>?</td>\n",
              "      <td>1</td>\n",
              "      <td>1</td>\n",
              "      <td>7</td>\n",
              "      <td>2</td>\n",
              "      <td>?</td>\n",
              "      <td>?</td>\n",
              "      <td>44</td>\n",
              "      <td>1</td>\n",
              "      <td>16</td>\n",
              "      <td>0</td>\n",
              "      <td>0</td>\n",
              "      <td>0</td>\n",
              "      <td>8</td>\n",
              "      <td>250.43</td>\n",
              "      <td>403</td>\n",
              "      <td>7</td>\n",
              "      <td>None</td>\n",
              "      <td>None</td>\n",
              "      <td>No</td>\n",
              "      <td>No</td>\n",
              "      <td>No</td>\n",
              "      <td>No</td>\n",
              "      <td>No</td>\n",
              "      <td>No</td>\n",
              "      <td>No</td>\n",
              "      <td>No</td>\n",
              "      <td>No</td>\n",
              "      <td>No</td>\n",
              "      <td>No</td>\n",
              "      <td>No</td>\n",
              "      <td>No</td>\n",
              "      <td>No</td>\n",
              "      <td>No</td>\n",
              "      <td>No</td>\n",
              "      <td>No</td>\n",
              "      <td>Up</td>\n",
              "      <td>No</td>\n",
              "      <td>No</td>\n",
              "      <td>No</td>\n",
              "      <td>No</td>\n",
              "      <td>No</td>\n",
              "      <td>Ch</td>\n",
              "      <td>Yes</td>\n",
              "      <td>NO</td>\n",
              "    </tr>\n",
              "    <tr>\n",
              "      <th>4</th>\n",
              "      <td>16680</td>\n",
              "      <td>42519267</td>\n",
              "      <td>Caucasian</td>\n",
              "      <td>Male</td>\n",
              "      <td>[40-50)</td>\n",
              "      <td>?</td>\n",
              "      <td>1</td>\n",
              "      <td>1</td>\n",
              "      <td>7</td>\n",
              "      <td>1</td>\n",
              "      <td>?</td>\n",
              "      <td>?</td>\n",
              "      <td>51</td>\n",
              "      <td>0</td>\n",
              "      <td>8</td>\n",
              "      <td>0</td>\n",
              "      <td>0</td>\n",
              "      <td>0</td>\n",
              "      <td>197</td>\n",
              "      <td>157</td>\n",
              "      <td>250</td>\n",
              "      <td>5</td>\n",
              "      <td>None</td>\n",
              "      <td>None</td>\n",
              "      <td>No</td>\n",
              "      <td>No</td>\n",
              "      <td>No</td>\n",
              "      <td>No</td>\n",
              "      <td>No</td>\n",
              "      <td>No</td>\n",
              "      <td>Steady</td>\n",
              "      <td>No</td>\n",
              "      <td>No</td>\n",
              "      <td>No</td>\n",
              "      <td>No</td>\n",
              "      <td>No</td>\n",
              "      <td>No</td>\n",
              "      <td>No</td>\n",
              "      <td>No</td>\n",
              "      <td>No</td>\n",
              "      <td>No</td>\n",
              "      <td>Steady</td>\n",
              "      <td>No</td>\n",
              "      <td>No</td>\n",
              "      <td>No</td>\n",
              "      <td>No</td>\n",
              "      <td>No</td>\n",
              "      <td>Ch</td>\n",
              "      <td>Yes</td>\n",
              "      <td>NO</td>\n",
              "    </tr>\n",
              "  </tbody>\n",
              "</table>\n",
              "</div>"
            ],
            "text/plain": [
              "   encounter_id  patient_nbr             race  ... change diabetesMed readmitted\n",
              "0       2278392      8222157        Caucasian  ...     No          No         NO\n",
              "1        149190     55629189        Caucasian  ...     Ch         Yes        >30\n",
              "2         64410     86047875  AfricanAmerican  ...     No         Yes         NO\n",
              "3        500364     82442376        Caucasian  ...     Ch         Yes         NO\n",
              "4         16680     42519267        Caucasian  ...     Ch         Yes         NO\n",
              "\n",
              "[5 rows x 50 columns]"
            ]
          },
          "metadata": {
            "tags": []
          },
          "execution_count": 6
        }
      ]
    },
    {
      "cell_type": "code",
      "metadata": {
        "id": "9Ws1B9ibP-yT"
      },
      "source": [
        "# Map id to actual meaning of admission type and create a column named 'admission_type' in the data frame.\n",
        "names = ['Emergency', 'Urgent', 'Elective', 'Newborn', 'Not Available', 'NULL', 'Trauma Center', 'Not Mapped']\n",
        "\n",
        "data['admission_type'] = [names[i-1] for i in data.admission_type_id]"
      ],
      "execution_count": null,
      "outputs": []
    },
    {
      "cell_type": "markdown",
      "metadata": {
        "id": "ecVMKBjM0KJr"
      },
      "source": [
        "\n",
        "## Step 2: Data exploration\n",
        "\n",
        "In the paper, Strack et al extracted and selected the above data from the Health Facts database based on the following criteria:    \n",
        "\n",
        "1. It is an inpatient encounter (a hospital admission).\n",
        "2. It is a “diabetic” encounter, that is, one during which any kind of diabetes was entered to the system as a diagnosis.\n",
        "3. The length of stay was at least 1 day and at most 14 days.\n",
        "4. Laboratory tests were performed during the encounter.\n",
        "5. Medications were administered during the encounter.\n",
        "\n",
        "In the data that we'll use in the following analysis, there are 101,766 encounters identified and 55 features selected by clinical experts. Features include demographics, diagnoses, diabetic medications, number of visits in the year preceding the encounter, and payer information. More details about each feature can be found in Table 1 in the paper.\n",
        "\n",
        "Let's verify the above statements with the data loaded by checking basic stats of it! "
      ]
    },
    {
      "cell_type": "code",
      "metadata": {
        "id": "ZjNWGe9e1J7o",
        "colab": {
          "base_uri": "https://localhost:8080/",
          "height": 317
        },
        "outputId": "573dde64-ca2e-46b6-f28e-cf83bd9c1a13"
      },
      "source": [
        "# Get a summary of the dataset with pandas.  \n",
        "data.describe()"
      ],
      "execution_count": null,
      "outputs": [
        {
          "output_type": "execute_result",
          "data": {
            "text/html": [
              "<div>\n",
              "<style scoped>\n",
              "    .dataframe tbody tr th:only-of-type {\n",
              "        vertical-align: middle;\n",
              "    }\n",
              "\n",
              "    .dataframe tbody tr th {\n",
              "        vertical-align: top;\n",
              "    }\n",
              "\n",
              "    .dataframe thead th {\n",
              "        text-align: right;\n",
              "    }\n",
              "</style>\n",
              "<table border=\"1\" class=\"dataframe\">\n",
              "  <thead>\n",
              "    <tr style=\"text-align: right;\">\n",
              "      <th></th>\n",
              "      <th>encounter_id</th>\n",
              "      <th>patient_nbr</th>\n",
              "      <th>admission_type_id</th>\n",
              "      <th>discharge_disposition_id</th>\n",
              "      <th>admission_source_id</th>\n",
              "      <th>time_in_hospital</th>\n",
              "      <th>num_lab_procedures</th>\n",
              "      <th>num_procedures</th>\n",
              "      <th>num_medications</th>\n",
              "      <th>number_outpatient</th>\n",
              "      <th>number_emergency</th>\n",
              "      <th>number_inpatient</th>\n",
              "      <th>number_diagnoses</th>\n",
              "    </tr>\n",
              "  </thead>\n",
              "  <tbody>\n",
              "    <tr>\n",
              "      <th>count</th>\n",
              "      <td>1.017660e+05</td>\n",
              "      <td>1.017660e+05</td>\n",
              "      <td>101766.000000</td>\n",
              "      <td>101766.000000</td>\n",
              "      <td>101766.000000</td>\n",
              "      <td>101766.000000</td>\n",
              "      <td>101766.000000</td>\n",
              "      <td>101766.000000</td>\n",
              "      <td>101766.000000</td>\n",
              "      <td>101766.000000</td>\n",
              "      <td>101766.000000</td>\n",
              "      <td>101766.000000</td>\n",
              "      <td>101766.000000</td>\n",
              "    </tr>\n",
              "    <tr>\n",
              "      <th>mean</th>\n",
              "      <td>1.652016e+08</td>\n",
              "      <td>5.433040e+07</td>\n",
              "      <td>2.024006</td>\n",
              "      <td>3.715642</td>\n",
              "      <td>5.754437</td>\n",
              "      <td>4.395987</td>\n",
              "      <td>43.095641</td>\n",
              "      <td>1.339730</td>\n",
              "      <td>16.021844</td>\n",
              "      <td>0.369357</td>\n",
              "      <td>0.197836</td>\n",
              "      <td>0.635566</td>\n",
              "      <td>7.422607</td>\n",
              "    </tr>\n",
              "    <tr>\n",
              "      <th>std</th>\n",
              "      <td>1.026403e+08</td>\n",
              "      <td>3.869636e+07</td>\n",
              "      <td>1.445403</td>\n",
              "      <td>5.280166</td>\n",
              "      <td>4.064081</td>\n",
              "      <td>2.985108</td>\n",
              "      <td>19.674362</td>\n",
              "      <td>1.705807</td>\n",
              "      <td>8.127566</td>\n",
              "      <td>1.267265</td>\n",
              "      <td>0.930472</td>\n",
              "      <td>1.262863</td>\n",
              "      <td>1.933600</td>\n",
              "    </tr>\n",
              "    <tr>\n",
              "      <th>min</th>\n",
              "      <td>1.252200e+04</td>\n",
              "      <td>1.350000e+02</td>\n",
              "      <td>1.000000</td>\n",
              "      <td>1.000000</td>\n",
              "      <td>1.000000</td>\n",
              "      <td>1.000000</td>\n",
              "      <td>1.000000</td>\n",
              "      <td>0.000000</td>\n",
              "      <td>1.000000</td>\n",
              "      <td>0.000000</td>\n",
              "      <td>0.000000</td>\n",
              "      <td>0.000000</td>\n",
              "      <td>1.000000</td>\n",
              "    </tr>\n",
              "    <tr>\n",
              "      <th>25%</th>\n",
              "      <td>8.496119e+07</td>\n",
              "      <td>2.341322e+07</td>\n",
              "      <td>1.000000</td>\n",
              "      <td>1.000000</td>\n",
              "      <td>1.000000</td>\n",
              "      <td>2.000000</td>\n",
              "      <td>31.000000</td>\n",
              "      <td>0.000000</td>\n",
              "      <td>10.000000</td>\n",
              "      <td>0.000000</td>\n",
              "      <td>0.000000</td>\n",
              "      <td>0.000000</td>\n",
              "      <td>6.000000</td>\n",
              "    </tr>\n",
              "    <tr>\n",
              "      <th>50%</th>\n",
              "      <td>1.523890e+08</td>\n",
              "      <td>4.550514e+07</td>\n",
              "      <td>1.000000</td>\n",
              "      <td>1.000000</td>\n",
              "      <td>7.000000</td>\n",
              "      <td>4.000000</td>\n",
              "      <td>44.000000</td>\n",
              "      <td>1.000000</td>\n",
              "      <td>15.000000</td>\n",
              "      <td>0.000000</td>\n",
              "      <td>0.000000</td>\n",
              "      <td>0.000000</td>\n",
              "      <td>8.000000</td>\n",
              "    </tr>\n",
              "    <tr>\n",
              "      <th>75%</th>\n",
              "      <td>2.302709e+08</td>\n",
              "      <td>8.754595e+07</td>\n",
              "      <td>3.000000</td>\n",
              "      <td>4.000000</td>\n",
              "      <td>7.000000</td>\n",
              "      <td>6.000000</td>\n",
              "      <td>57.000000</td>\n",
              "      <td>2.000000</td>\n",
              "      <td>20.000000</td>\n",
              "      <td>0.000000</td>\n",
              "      <td>0.000000</td>\n",
              "      <td>1.000000</td>\n",
              "      <td>9.000000</td>\n",
              "    </tr>\n",
              "    <tr>\n",
              "      <th>max</th>\n",
              "      <td>4.438672e+08</td>\n",
              "      <td>1.895026e+08</td>\n",
              "      <td>8.000000</td>\n",
              "      <td>28.000000</td>\n",
              "      <td>25.000000</td>\n",
              "      <td>14.000000</td>\n",
              "      <td>132.000000</td>\n",
              "      <td>6.000000</td>\n",
              "      <td>81.000000</td>\n",
              "      <td>42.000000</td>\n",
              "      <td>76.000000</td>\n",
              "      <td>21.000000</td>\n",
              "      <td>16.000000</td>\n",
              "    </tr>\n",
              "  </tbody>\n",
              "</table>\n",
              "</div>"
            ],
            "text/plain": [
              "       encounter_id   patient_nbr  ...  number_inpatient  number_diagnoses\n",
              "count  1.017660e+05  1.017660e+05  ...     101766.000000     101766.000000\n",
              "mean   1.652016e+08  5.433040e+07  ...          0.635566          7.422607\n",
              "std    1.026403e+08  3.869636e+07  ...          1.262863          1.933600\n",
              "min    1.252200e+04  1.350000e+02  ...          0.000000          1.000000\n",
              "25%    8.496119e+07  2.341322e+07  ...          0.000000          6.000000\n",
              "50%    1.523890e+08  4.550514e+07  ...          0.000000          8.000000\n",
              "75%    2.302709e+08  8.754595e+07  ...          1.000000          9.000000\n",
              "max    4.438672e+08  1.895026e+08  ...         21.000000         16.000000\n",
              "\n",
              "[8 rows x 13 columns]"
            ]
          },
          "metadata": {
            "tags": []
          },
          "execution_count": 8
        }
      ]
    },
    {
      "cell_type": "markdown",
      "metadata": {
        "id": "0GJRCPRQp3yg"
      },
      "source": [
        "Confirm rule 3 (\"The length of stay was at least 1 day and at most 14 days\") by checking the distribution of column named time_in_hospital, which measures the integer number of days between admission and discharge:"
      ]
    },
    {
      "cell_type": "code",
      "metadata": {
        "id": "pCc6SDW6vgl5",
        "colab": {
          "base_uri": "https://localhost:8080/"
        },
        "outputId": "cbe2792c-447e-4e51-fc74-d0063de49453"
      },
      "source": [
        "# write your code here\n",
        "rule3 = data['time_in_hospital']\n",
        "rule3.describe()\n"
      ],
      "execution_count": null,
      "outputs": [
        {
          "output_type": "execute_result",
          "data": {
            "text/plain": [
              "count    101766.000000\n",
              "mean          4.395987\n",
              "std           2.985108\n",
              "min           1.000000\n",
              "25%           2.000000\n",
              "50%           4.000000\n",
              "75%           6.000000\n",
              "max          14.000000\n",
              "Name: time_in_hospital, dtype: float64"
            ]
          },
          "metadata": {
            "tags": []
          },
          "execution_count": 11
        }
      ]
    },
    {
      "cell_type": "code",
      "metadata": {
        "id": "fXX8fBaqQ8Ai",
        "colab": {
          "base_uri": "https://localhost:8080/",
          "height": 369
        },
        "outputId": "6b8ed5f1-5fb8-4cda-f703-61d3fca27b20"
      },
      "source": [
        "data.groupby(['race'])['patient_nbr'].count().plot.bar()"
      ],
      "execution_count": null,
      "outputs": [
        {
          "output_type": "execute_result",
          "data": {
            "text/plain": [
              "<matplotlib.axes._subplots.AxesSubplot at 0x7f9461f30a50>"
            ]
          },
          "metadata": {
            "tags": []
          },
          "execution_count": 13
        },
        {
          "output_type": "display_data",
          "data": {
            "image/png": "[encoded data removed]",
            "text/plain": [
              "<Figure size 432x288 with 1 Axes>"
            ]
          },
          "metadata": {
            "tags": [],
            "needs_background": "light"
          }
        }
      ]
    },
    {
      "cell_type": "code",
      "metadata": {
        "id": "WUuc1EdndjzJ",
        "colab": {
          "base_uri": "https://localhost:8080/"
        },
        "outputId": "89937f27-5032-4ed0-b49a-d1658f3dde36"
      },
      "source": [
        "# let's drop records with missing values for gender \n",
        "print(data.gender.unique())\n",
        "data = data.loc[data['gender']!='Unknown/Invalid']"
      ],
      "execution_count": null,
      "outputs": [
        {
          "output_type": "stream",
          "text": [
            "['Female' 'Male' 'Unknown/Invalid']\n"
          ],
          "name": "stdout"
        }
      ]
    },
    {
      "cell_type": "markdown",
      "metadata": {
        "id": "2MlDw4DY6TIL"
      },
      "source": [
        "## Step 3: Data formulation\n",
        "\n",
        "There were several features that could not be treated directly since they had a high percentage of missing values. These features were \n",
        "  weight (97% values missing), \n",
        "  payer code (40%), \n",
        "  and medical specialty (47%). "
      ]
    },
    {
      "cell_type": "code",
      "metadata": {
        "id": "SdrGIt_o6XsW"
      },
      "source": [
        "## Features to drop\n",
        "# 'Weight attribute was considered to be too sparse and it was not included in further analysis.'\n",
        "data = data.drop(columns='weight')\n",
        "# 'Payer code was removed since it had a high percentage of missing values and it was not considered relevant to the outcome.'\n",
        "data = data.drop(columns='payer_code')\n",
        "# 'Medical specialty attribute was maintained, adding the value “missing” in order to account for missing values.'\n",
        "# For simplicity, we drop this column instead. \n",
        "data = data.drop(columns='medical_specialty')"
      ],
      "execution_count": null,
      "outputs": []
    },
    {
      "cell_type": "markdown",
      "metadata": {
        "id": "t-kUVnN0tVj3"
      },
      "source": [
        " The preliminary dataset contained multiple inpatient visits for some patients \n",
        "  and the observations could not be considered as statistically independent, \n",
        "  an assumption of the logistic regression model.\n",
        "\n",
        "  Authors of the paper performed a specific filtering criteria but here for simplicity, \n",
        "  we drop all records from patients who have more than one encounter.\n",
        "\n",
        "  After performing the above operation, \n",
        "   we were left with 54,745 encounters that constituted the final dataset for analysis."
      ]
    },
    {
      "cell_type": "code",
      "metadata": {
        "id": "sF_7vnTB_Lm7",
        "colab": {
          "base_uri": "https://localhost:8080/",
          "height": 333
        },
        "outputId": "60169c4a-3b40-4393-fcc8-0181637c6829"
      },
      "source": [
        "#check the number of encounters per patient\n",
        "plt.hist(data.groupby(['patient_nbr'])['encounter_id'].nunique())"
      ],
      "execution_count": null,
      "outputs": [
        {
          "output_type": "execute_result",
          "data": {
            "text/plain": [
              "(array([6.9925e+04, 1.3810e+03, 1.5100e+02, 3.2000e+01, 1.8000e+01,\n",
              "        6.0000e+00, 1.0000e+00, 0.0000e+00, 0.0000e+00, 1.0000e+00]),\n",
              " array([ 1. ,  4.9,  8.8, 12.7, 16.6, 20.5, 24.4, 28.3, 32.2, 36.1, 40. ]),\n",
              " <a list of 10 Patch objects>)"
            ]
          },
          "metadata": {
            "tags": []
          },
          "execution_count": 16
        },
        {
          "output_type": "display_data",
          "data": {
            "image/png": "[encoded data removed]",
            "text/plain": [
              "<Figure size 432x288 with 1 Axes>"
            ]
          },
          "metadata": {
            "tags": [],
            "needs_background": "light"
          }
        }
      ]
    },
    {
      "cell_type": "code",
      "metadata": {
        "id": "V2bQbOEsBFMn"
      },
      "source": [
        "# dropping records \n",
        "encounter_counts = data.groupby(['patient_nbr'])['encounter_id'].nunique()\n",
        "data = data[data.patient_nbr.isin(encounter_counts[encounter_counts.values == 1].index)]"
      ],
      "execution_count": null,
      "outputs": []
    },
    {
      "cell_type": "code",
      "metadata": {
        "id": "Jac-1EqF_du6",
        "colab": {
          "base_uri": "https://localhost:8080/",
          "height": 333
        },
        "outputId": "4679d69a-2e3a-4927-8f61-b5a6ed13ae33"
      },
      "source": [
        "# check the distribution again.\n",
        "plt.hist(data.groupby(['patient_nbr'])['encounter_id'].nunique())"
      ],
      "execution_count": null,
      "outputs": [
        {
          "output_type": "execute_result",
          "data": {
            "text/plain": [
              "(array([    0.,     0.,     0.,     0.,     0., 54742.,     0.,     0.,\n",
              "            0.,     0.]),\n",
              " array([0.5, 0.6, 0.7, 0.8, 0.9, 1. , 1.1, 1.2, 1.3, 1.4, 1.5]),\n",
              " <a list of 10 Patch objects>)"
            ]
          },
          "metadata": {
            "tags": []
          },
          "execution_count": 18
        },
        {
          "output_type": "display_data",
          "data": {
            "image/png": "[encoded data removed]",
            "text/plain": [
              "<Figure size 432x288 with 1 Axes>"
            ]
          },
          "metadata": {
            "tags": [],
            "needs_background": "light"
          }
        }
      ]
    },
    {
      "cell_type": "markdown",
      "metadata": {
        "id": "jFNi7uhjyNaB"
      },
      "source": [
        "Final definition and preparation for \n",
        "* target variable\n",
        "* sensitive features\n",
        "* features as model inputs\n",
        "\n"
      ]
    },
    {
      "cell_type": "code",
      "metadata": {
        "id": "QVIv_C6TZVOs",
        "colab": {
          "base_uri": "https://localhost:8080/"
        },
        "outputId": "3fb50b1f-c1cc-4502-fa56-c2aca7674e2d"
      },
      "source": [
        "'''\n",
        "Target variable, readmitted, is binarized as below: \n",
        "  =1:  “readmitted” if the patient was readmitted within 30 days of discharge or \n",
        "  =0:   “otherwise” which covers both readmission after 30 days and no readmission at all. \n",
        "''' \n",
        "Y = (data['readmitted']=='<30').astype('int')\n",
        "print(f'Readmitted rate within 30 days of discharge in the dataset={sum(Y==1)/len(Y)*100:1.3f}%')"
      ],
      "execution_count": null,
      "outputs": [
        {
          "output_type": "stream",
          "text": [
            "Readmitted rate within 30 days of discharge in the dataset=3.957%\n"
          ],
          "name": "stdout"
        }
      ]
    },
    {
      "cell_type": "code",
      "metadata": {
        "id": "KgWZsgrtIU_A"
      },
      "source": [
        "#Sensitive and control variables including demographics, severity and type of the disease, and type of admission.\n",
        "sensitive_control_features = ['race', 'gender', 'age', \n",
        "          'admission_type', 'admission_type_id', 'discharge_disposition_id', 'admission_source_id',\n",
        "          ]\n",
        "A = data[sensitive_control_features]\n",
        "X_raw = data.drop(columns=['readmitted', 'encounter_id', 'patient_nbr'] + sensitive_control_features)"
      ],
      "execution_count": null,
      "outputs": []
    },
    {
      "cell_type": "code",
      "metadata": {
        "id": "5ZZ1WH94-0_5"
      },
      "source": [
        "from sklearn.model_selection import train_test_split\n",
        "\n",
        "#Denoting categorical variables \n",
        "for col in ['max_glu_serum', 'A1Cresult',\n",
        "       'metformin', 'repaglinide', 'nateglinide', 'chlorpropamide',\n",
        "       'glimepiride', 'acetohexamide', 'glipizide', 'glyburide', 'tolbutamide',\n",
        "       'pioglitazone', 'rosiglitazone', 'acarbose', 'miglitol', 'troglitazone',\n",
        "       'tolazamide', 'examide', 'citoglipton', 'insulin',\n",
        "       'glyburide-metformin', 'glipizide-metformin',\n",
        "       'glimepiride-pioglitazone', 'metformin-rosiglitazone',\n",
        "       'metformin-pioglitazone', 'change', 'diabetesMed',\n",
        "       'time_in_hospital', 'num_lab_procedures', 'num_procedures',\n",
        "          'num_medications', 'number_outpatient', 'number_emergency',\n",
        "          'number_inpatient', 'number_diagnoses',\n",
        "          'diag_1', 'diag_2', 'diag_3',\n",
        "       ]:\n",
        "\n",
        "    X_raw[col] = X_raw[col].astype('category')\n",
        "\n",
        "(X_train, X_test, y_train, y_test, A_train, A_test) = train_test_split(\n",
        "    X_raw, Y, A, test_size=0.5, random_state=10000, stratify=Y\n",
        ")\n",
        "\n",
        "# Ensure indices are aligned between X, y and A,\n",
        "# after all the slicing and splitting of DataFrames\n",
        "# and Series\n",
        "\n",
        "X_train = X_train.reset_index(drop=True)\n",
        "X_test = X_test.reset_index(drop=True)\n",
        "y_train = y_train.reset_index(drop=True)\n",
        "y_test = y_test.reset_index(drop=True)\n",
        "A_train = A_train.reset_index(drop=True)\n",
        "A_test = A_test.reset_index(drop=True)"
      ],
      "execution_count": null,
      "outputs": []
    },
    {
      "cell_type": "markdown",
      "metadata": {
        "id": "SrnZjdwg3dwk"
      },
      "source": [
        "## Step 4: Train a classifier to predict early readmission based on encounter records and evaluate its performance."
      ]
    },
    {
      "cell_type": "markdown",
      "metadata": {
        "id": "htesUxOBWiIV"
      },
      "source": [
        "### Use **sklearn.pipeline.Pipeline** to perform feature engineering and to train a classifier.\n",
        "\n",
        "**scikit-learn** or **sklearn** is a python module consisting of simple and efficient tools for predictive data analysis (preprocessing, feature selection, dimensionality reduction, regression, classification, clustering, et cetera).\n",
        "\n",
        "**sklearn.pipeline.Pipeline** object takes a list of **transforms** and a final **estimator** and applies them sequentially on data.\n",
        "- The possible transforms are preprocessing (e.g., MinMaxScaler, OneHotEncoder), missing value imputation (e.g., KNNImputer, SimpleImputer), dimensionality reduction (e.g., PCA), label encoding (e.g., LabelBinarizer), etc. Any transformers in the pipeline must implement fit and transform methods. For a more complete list, see: https://scikit-learn.org/stable/data_transforms.html\n",
        "\n",
        "- The final part of the pipeline, the estimator, needs to implement a fit function at the least. The estimators can be classifiers, regressors, etc. For a more complete list, see: https://scikit-learn.org/stable/tutorial/machine_learning_map/index.html\n",
        "\n",
        "The purpose of setting up a pipeline is to allow the different transforms and estimator to be cross-validated together when setting their parameters. It also allows for the application of a pre-configured pipeline on new raw data. The different steps of the pipeline and their parameters can be accessed using their 'names'."
      ]
    },
    {
      "cell_type": "code",
      "metadata": {
        "id": "WHGS25KqGmXk"
      },
      "source": [
        "from sklearn.linear_model import LogisticRegression\n",
        "\n",
        "from sklearn.compose import ColumnTransformer\n",
        "from sklearn.preprocessing import StandardScaler, OneHotEncoder, OrdinalEncoder\n",
        "from sklearn.compose import make_column_selector as selector\n",
        "from sklearn.pipeline import Pipeline\n",
        "\n",
        "unmitigated_predictor = Pipeline(\n",
        "    steps=[\n",
        "           #feature engineering component \n",
        "        (\"preprocessor\", ColumnTransformer(transformers=[\n",
        "                                              # we use selector to indentify features based on its data type\n",
        "                                              # Normalize numerical features\n",
        "                                               (\"num\", StandardScaler(), selector(dtype_exclude=\"category\")), \n",
        "                                              # Encoding (transforming) categorical features to what understandable by the model\n",
        "                                              (\"cat\", OneHotEncoder(handle_unknown=\"ignore\"), selector(dtype_include=\"category\")),\n",
        "                                            ]\n",
        "                                          )\n",
        "        ),\n",
        "        # model component\n",
        "        (\"classifier\",\n",
        "         LogisticRegression(penalty='l2', C=0.1, verbose=0, max_iter=1000, \n",
        "                            class_weight={0:1, 1:10}),\n",
        "        ),\n",
        "    ]\n",
        ")"
      ],
      "execution_count": null,
      "outputs": []
    },
    {
      "cell_type": "markdown",
      "metadata": {
        "id": "Q6Imc53jQI07"
      },
      "source": [
        "## Step 5: Calculate performance and fairness metrics\n",
        "\n",
        "Given the context of our task, we consider the following metrics:\n",
        "* Sample size\n",
        "* Selection rate, percentage of positive cases:  fraction of predicted labels matching the ‘good’ outcome\n",
        "* Accuracy: $\\frac{TP + TN}{P + N}$\n",
        "* FNR, percentage among readmitted that were predicted not to be readmitted (patients that could have used extra attention but did not get it): $\\frac{FN}{FN + TP}$\n",
        "* FPR, percentage among not readmitted that were predicted to be readmitted (\"unnecessarily getting extra attention\" - these people take resources that the hospital could have given to patients in need): $\\frac{FP}{FP + TN}$\n",
        "* Average Precision: Summarizes a precision-recall curve as the weighted mean of precisions achieved at each threshold, with the increase in recall from the previous threshold used as the weight\n",
        "  * Precision: number of patients that were readmitted among those who were predicted to be readmitted: $\\frac{TP}{TP + FP}$. High precision relates to a low FPR. \n",
        "  * Recall: number of patients that were readmitted among those needed to be readmitted $\\frac{TP}{TP + FN}$. High recall relates to a low FNR. \n",
        "  * To learn more about precision and recall, visit \n",
        "  https://scikit-learn.org/stable/auto_examples/model_selection/plot_precision_recall.html\n",
        "* ROC AUC score: Computes Area Under the Receiver Operating Characteristic Curve (ROC AUC) from prediction scores. \n",
        "  * ROC curve is defined by FPR (x values) and TPR (y values). The purpose of the graph is to illustrate the trade-offs between TP and FP. \n",
        "  * To learn more about ROC curve, visit https://scikit-learn.org/stable/auto_examples/model_selection/plot_roc.html#sphx-glr-auto-examples-model-selection-plot-roc-py"
      ]
    },
    {
      "cell_type": "markdown",
      "metadata": {
        "id": "-FnE9BxA77Qo"
      },
      "source": [
        ""
      ]
    },
    {
      "cell_type": "markdown",
      "metadata": {
        "id": "H_O3TyRjUu7g"
      },
      "source": [
        "Let's assess the performance of the classifier:"
      ]
    },
    {
      "cell_type": "code",
      "metadata": {
        "id": "NYy6LRMUGokw",
        "colab": {
          "base_uri": "https://localhost:8080/"
        },
        "outputId": "17a18bbc-1013-4a2c-ce42-69835da13b71"
      },
      "source": [
        "import sklearn.metrics as skm\n",
        "\n",
        "unmitigated_predictor.fit(X_train, y_train)\n",
        "y_pred = unmitigated_predictor.predict(X_test)\n",
        "\n",
        "# get the overall performance metrics of the classifer\n",
        "print(\"accuracy:\", skm.accuracy_score(y_test, y_pred))\n",
        "print(\"AUC:\", skm.roc_auc_score(y_test, y_pred))\n",
        "print('precision:', skm.precision_score(y_test, y_pred))\n",
        "print('recall:', skm.recall_score(y_test, y_pred))\n",
        "print('average_precision:', skm.average_precision_score(y_test, y_pred))"
      ],
      "execution_count": null,
      "outputs": [
        {
          "output_type": "stream",
          "text": [
            "accuracy: 0.8979942274670272\n",
            "AUC: 0.587898311845379\n",
            "precision: 0.12072791833111407\n",
            "recall: 0.25115420129270544\n",
            "average_precision: 0.05995122416158056\n"
          ],
          "name": "stdout"
        }
      ]
    },
    {
      "cell_type": "markdown",
      "metadata": {
        "id": "OgtyKx0Y-o4B"
      },
      "source": [
        "What does each metric tell us about the performance of the classifier?\n",
        "\n",
        "Are there other metrics you could calculate?\n",
        " "
      ]
    },
    {
      "cell_type": "markdown",
      "metadata": {
        "id": "DEvrepDT-uFS"
      },
      "source": [
        "**Write your answer in this text cell:**\n",
        "With a low average percision, it appears that the classifier is not the most precise and the accuracy at around 90% can be better. If the topic carried more weight, this accuracy would be low. Also with the AUC at 0.59, it is clear that the predictions are not helping who they most should. When it comes to health topics, scarcity in healthcare already exists and when the current existing resources are not being properly used, it makes a huge impact on who gets access to care or not.\n",
        "\n",
        "I think these metrics are sufficient to give us a solid overlook of the performance of this classifier. If anything, I would calculate the raw False Positive Rate and False Negative Rates just to compare them. "
      ]
    },
    {
      "cell_type": "code",
      "metadata": {
        "id": "4t8QVImAj8cl",
        "colab": {
          "base_uri": "https://localhost:8080/",
          "height": 501
        },
        "outputId": "2564a950-48af-4380-cb08-0f825bb150de"
      },
      "source": [
        "# We can obtain feature importance if tree based models are adopted. \n",
        "# For example, we use AdaBoostClassifier and OrdinalEncoder for categorical features.\n",
        "\n",
        "from sklearn.ensemble import AdaBoostClassifier\n",
        "from sklearn.preprocessing import OrdinalEncoder\n",
        "\n",
        "treebased_predictor = Pipeline(\n",
        "    steps=[\n",
        "           #feature engineering component \n",
        "        (\"preprocessor\", ColumnTransformer(transformers=[\n",
        "                                              # we use selector to indentify features based on its data type\n",
        "                                              # Normalize numerical features\n",
        "                                               (\"num\", StandardScaler(), selector(dtype_exclude=\"category\")), \n",
        "                                              # Encoding (transforming) categorical features to what understandable by the model\n",
        "                                              (\"cat\", OrdinalEncoder(handle_unknown=\"ignore\"), selector(dtype_include=\"category\")),\n",
        "                                            ]\n",
        "                                          )\n",
        "        ),\n",
        "        # model component\n",
        "        (\"classifier\",\n",
        "         AdaBoostClassifier(n_estimators=20, learning_rate=1.0),\n",
        "        ),\n",
        "    ]\n",
        ")\n",
        "\n",
        "treebased_predictor.fit(X_train, y_train)\n",
        "# y_pred = treebased_predictor.predict(X_test)\n",
        "\n",
        "feature_importances = treebased_predictor.named_steps['classifier'].feature_importances_ \n",
        "\n",
        "plt.figure(figsize=(12, 6))\n",
        "plt.bar(x=range(len(X_train.columns)), height=feature_importances)\n",
        "plt.xticks(range(len(X_train.columns)), X_train.columns, rotation=90)\n",
        "plt.title(\"Feature importance \")\n",
        "plt.show()"
      ],
      "execution_count": null,
      "outputs": [
        {
          "output_type": "display_data",
          "data": {
            "image/png": "[encoded data removed]",
            "text/plain": [
              "<Figure size 864x432 with 1 Axes>"
            ]
          },
          "metadata": {
            "tags": [],
            "needs_background": "light"
          }
        }
      ]
    },
    {
      "cell_type": "markdown",
      "metadata": {
        "id": "yKqFRDXyU5mU"
      },
      "source": [
        "### Use **fairlearn.metrics.MetricFrame** class to inspect model's fairness\n",
        "\n",
        "We know that there are sensitive features in our data, and we want to ensure that we’re not harming individuals due to membership in any of these groups. For this purpose, Fairlearn provides the fairlearn.metrics.MetricFrame class. \n",
        "\n",
        "The **fairlearn.metrics.MetricFrame** object requires a minimum of four arguments:\n",
        "\n",
        "* The underlying metric function(s) to be evaluated\n",
        "* The true values\n",
        "* The predicted values\n",
        "* The sensitive feature values\n",
        "\n",
        "Metric functions must have a signature ''fn(y_true, y_pred)'', i.e., require only two arguments.\n",
        "\n"
      ]
    },
    {
      "cell_type": "code",
      "metadata": {
        "id": "FUaeyxwrcOBK"
      },
      "source": [
        "from fairlearn.metrics import MetricFrame\n",
        "from fairlearn.metrics import selection_rate, false_negative_rate, false_positive_rate\n",
        "\n",
        "import functools\n",
        "import numpy as np\n",
        "\n",
        "def insensitive_roc_auc(y_true, y_score):\n",
        "    #to handle subgroups with only one class.\n",
        "    if sum(y_true)!=len(y_true) and sum(y_true)!=0:\n",
        "        return skm.roc_auc_score(y_true, y_score)\n",
        "    else:\n",
        "        return np.nan\n",
        "\n",
        "def samplesize(y_true, y_score):\n",
        "    return len(y_true)\n",
        "\n",
        "#Metrics \n",
        "metric_fns = {'samplesize': samplesize, \n",
        "              'selection_rate': selection_rate,  # i.e., the percentage of the population which have ‘1’ as their label\n",
        "              'FNR': false_negative_rate, \n",
        "              'FPR': false_positive_rate, \n",
        "              'accuracy': skm.accuracy_score,\n",
        "              'average_precision': skm.average_precision_score,\n",
        "              'roc_auc_score': insensitive_roc_auc \n",
        "              }\n",
        "\n",
        "grouped_on_race = MetricFrame(metric_fns,\n",
        "                             y_test, y_pred,\n",
        "                             sensitive_features=A_test['race'])"
      ],
      "execution_count": null,
      "outputs": []
    },
    {
      "cell_type": "markdown",
      "metadata": {
        "id": "qSqisgTQWAwD"
      },
      "source": [
        "The **fairlearn.metrics.MetricFrame** has the **overall** property, \n",
        "which contains the metrics evaluated on the entire dataset. We see that this contains the same values calculated above:"
      ]
    },
    {
      "cell_type": "code",
      "metadata": {
        "id": "whpvUcXZBoWd",
        "colab": {
          "base_uri": "https://localhost:8080/"
        },
        "outputId": "5110b554-b1d3-49c0-83f9-578e3633d316"
      },
      "source": [
        "#We can inspect the overall values, and check they are as expected:\n",
        "assert grouped_on_race.overall['selection_rate'] == selection_rate(y_test, y_pred)\n",
        "assert grouped_on_race.overall['accuracy'] == skm.accuracy_score(y_test, y_pred)\n",
        "print(grouped_on_race.overall)"
      ],
      "execution_count": null,
      "outputs": [
        {
          "output_type": "stream",
          "text": [
            "samplesize               27371\n",
            "selection_rate       0.0823134\n",
            "FNR                   0.748846\n",
            "FPR                  0.0753576\n",
            "accuracy              0.897994\n",
            "average_precision    0.0599512\n",
            "roc_auc_score         0.587898\n",
            "dtype: object\n"
          ],
          "name": "stdout"
        }
      ]
    },
    {
      "cell_type": "markdown",
      "metadata": {
        "id": "LfAdlhyVW2I8"
      },
      "source": [
        "#### Performance breakdown by subgroups\n",
        "The other property in the **fairlearn.metrics.MetricFrame** object is **by_group**. This contains the metrics evaluated on each subgroup defined by the categories in the sensitive_features (*race* in our case). "
      ]
    },
    {
      "cell_type": "code",
      "metadata": {
        "id": "1r9738lzclA4",
        "colab": {
          "base_uri": "https://localhost:8080/",
          "height": 266
        },
        "outputId": "f497d50f-b4eb-444c-a1ea-acd3e49c0751"
      },
      "source": [
        "grouped_on_race.by_group"
      ],
      "execution_count": null,
      "outputs": [
        {
          "output_type": "execute_result",
          "data": {
            "text/html": [
              "<div>\n",
              "<style scoped>\n",
              "    .dataframe tbody tr th:only-of-type {\n",
              "        vertical-align: middle;\n",
              "    }\n",
              "\n",
              "    .dataframe tbody tr th {\n",
              "        vertical-align: top;\n",
              "    }\n",
              "\n",
              "    .dataframe thead th {\n",
              "        text-align: right;\n",
              "    }\n",
              "</style>\n",
              "<table border=\"1\" class=\"dataframe\">\n",
              "  <thead>\n",
              "    <tr style=\"text-align: right;\">\n",
              "      <th></th>\n",
              "      <th>samplesize</th>\n",
              "      <th>selection_rate</th>\n",
              "      <th>FNR</th>\n",
              "      <th>FPR</th>\n",
              "      <th>accuracy</th>\n",
              "      <th>average_precision</th>\n",
              "      <th>roc_auc_score</th>\n",
              "    </tr>\n",
              "    <tr>\n",
              "      <th>race</th>\n",
              "      <th></th>\n",
              "      <th></th>\n",
              "      <th></th>\n",
              "      <th></th>\n",
              "      <th></th>\n",
              "      <th></th>\n",
              "      <th></th>\n",
              "    </tr>\n",
              "  </thead>\n",
              "  <tbody>\n",
              "    <tr>\n",
              "      <th>?</th>\n",
              "      <td>858</td>\n",
              "      <td>0.0431235</td>\n",
              "      <td>0.826087</td>\n",
              "      <td>0.039521</td>\n",
              "      <td>0.939394</td>\n",
              "      <td>0.0409459</td>\n",
              "      <td>0.567196</td>\n",
              "    </tr>\n",
              "    <tr>\n",
              "      <th>AfricanAmerican</th>\n",
              "      <td>4845</td>\n",
              "      <td>0.0662539</td>\n",
              "      <td>0.714286</td>\n",
              "      <td>0.0600594</td>\n",
              "      <td>0.921981</td>\n",
              "      <td>0.0534307</td>\n",
              "      <td>0.612827</td>\n",
              "    </tr>\n",
              "    <tr>\n",
              "      <th>Asian</th>\n",
              "      <td>230</td>\n",
              "      <td>0.0521739</td>\n",
              "      <td>0.833333</td>\n",
              "      <td>0.0458716</td>\n",
              "      <td>0.913043</td>\n",
              "      <td>0.071256</td>\n",
              "      <td>0.560398</td>\n",
              "    </tr>\n",
              "    <tr>\n",
              "      <th>Caucasian</th>\n",
              "      <td>20368</td>\n",
              "      <td>0.0882757</td>\n",
              "      <td>0.751991</td>\n",
              "      <td>0.0810714</td>\n",
              "      <td>0.889974</td>\n",
              "      <td>0.0625229</td>\n",
              "      <td>0.583469</td>\n",
              "    </tr>\n",
              "    <tr>\n",
              "      <th>Hispanic</th>\n",
              "      <td>584</td>\n",
              "      <td>0.0958904</td>\n",
              "      <td>0.666667</td>\n",
              "      <td>0.0843806</td>\n",
              "      <td>0.888699</td>\n",
              "      <td>0.0843933</td>\n",
              "      <td>0.624476</td>\n",
              "    </tr>\n",
              "    <tr>\n",
              "      <th>Other</th>\n",
              "      <td>486</td>\n",
              "      <td>0.0596708</td>\n",
              "      <td>0.888889</td>\n",
              "      <td>0.0587002</td>\n",
              "      <td>0.925926</td>\n",
              "      <td>0.0202923</td>\n",
              "      <td>0.526205</td>\n",
              "    </tr>\n",
              "  </tbody>\n",
              "</table>\n",
              "</div>"
            ],
            "text/plain": [
              "                samplesize selection_rate  ... average_precision roc_auc_score\n",
              "race                                       ...                                \n",
              "?                      858      0.0431235  ...         0.0409459      0.567196\n",
              "AfricanAmerican       4845      0.0662539  ...         0.0534307      0.612827\n",
              "Asian                  230      0.0521739  ...          0.071256      0.560398\n",
              "Caucasian            20368      0.0882757  ...         0.0625229      0.583469\n",
              "Hispanic               584      0.0958904  ...         0.0843933      0.624476\n",
              "Other                  486      0.0596708  ...         0.0202923      0.526205\n",
              "\n",
              "[6 rows x 7 columns]"
            ]
          },
          "metadata": {
            "tags": []
          },
          "execution_count": 28
        }
      ]
    },
    {
      "cell_type": "code",
      "metadata": {
        "id": "1qQWuQenhUoW",
        "colab": {
          "base_uri": "https://localhost:8080/",
          "height": 1000
        },
        "outputId": "462ef487-d69f-4693-d695-f9481560398a"
      },
      "source": [
        "# Plot the metric values\n",
        "grouped_on_race.by_group.plot.bar(subplots=True, figsize=(10, 14))"
      ],
      "execution_count": null,
      "outputs": [
        {
          "output_type": "execute_result",
          "data": {
            "text/plain": [
              "array([<matplotlib.axes._subplots.AxesSubplot object at 0x7f945d2643d0>,\n",
              "       <matplotlib.axes._subplots.AxesSubplot object at 0x7f9447c0c810>,\n",
              "       <matplotlib.axes._subplots.AxesSubplot object at 0x7f94485219d0>,\n",
              "       <matplotlib.axes._subplots.AxesSubplot object at 0x7f943fb7bf50>,\n",
              "       <matplotlib.axes._subplots.AxesSubplot object at 0x7f943fb3f350>,\n",
              "       <matplotlib.axes._subplots.AxesSubplot object at 0x7f943faf8710>,\n",
              "       <matplotlib.axes._subplots.AxesSubplot object at 0x7f943faaeb50>],\n",
              "      dtype=object)"
            ]
          },
          "metadata": {
            "tags": []
          },
          "execution_count": 29
        },
        {
          "output_type": "display_data",
          "data": {
            "image/png": "[encoded data removed]",
            "text/plain": [
              "<Figure size 720x1008 with 7 Axes>"
            ]
          },
          "metadata": {
            "tags": [],
            "needs_background": "light"
          }
        }
      ]
    },
    {
      "cell_type": "markdown",
      "metadata": {
        "id": "Z5G5QKbcHEVv"
      },
      "source": [
        "Are there any differences in the performance metrics by race that stand out to you?"
      ]
    },
    {
      "cell_type": "markdown",
      "metadata": {
        "id": "F5LJ9MD1HMow"
      },
      "source": [
        "**Write your answer in this text cell:**\n",
        "\n",
        "To be honest the only things that really stand out to me are the heavily varying sample sizes and the drastic dip in percision when it comes to the \"other\" category. The accuracy is relatively even among all the racial groups. The dip in precision for the \"other\" race I believe comes from the fact that race can predict underlying conditions that can affect one's health, so with a less-studied/ common race, healthcare providers might have difficulty deciding how a person's health will be."
      ]
    },
    {
      "cell_type": "markdown",
      "metadata": {
        "id": "Preu2p3yXgxj"
      },
      "source": [
        "#### Quantifying Disparities \n",
        "**Fairlearn** provides several means of aggregating metrics across the subgroups, so that disparities can be readily quantified."
      ]
    },
    {
      "cell_type": "code",
      "metadata": {
        "id": "FuycmzZqcu9R",
        "colab": {
          "base_uri": "https://localhost:8080/"
        },
        "outputId": "98790c85-630b-4028-df01-0ffae3e60c4c"
      },
      "source": [
        "'''\n",
        "The simplest of these aggregations is group_min(), which reports the minimum value \n",
        "seen for a subgroup for each underlying metric (as well as group_max()). \n",
        "This is useful if there is a mandate that “no subgroup should have an accuracy() of less than 0.8.” \n",
        "'''\n",
        "grouped_on_race.group_min()"
      ],
      "execution_count": null,
      "outputs": [
        {
          "output_type": "execute_result",
          "data": {
            "text/plain": [
              "samplesize                 230\n",
              "selection_rate       0.0431235\n",
              "FNR                   0.666667\n",
              "FPR                   0.039521\n",
              "accuracy              0.888699\n",
              "average_precision    0.0202923\n",
              "roc_auc_score         0.526205\n",
              "dtype: object"
            ]
          },
          "metadata": {
            "tags": []
          },
          "execution_count": 30
        }
      ]
    },
    {
      "cell_type": "code",
      "metadata": {
        "id": "gd1p3nyVX-wA",
        "colab": {
          "base_uri": "https://localhost:8080/"
        },
        "outputId": "d87448ab-3454-40e7-982a-483f37bf3bb5"
      },
      "source": [
        "'''\n",
        "The difference between metrics achieved on subgroups can be quantified \n",
        "in terms of a difference between the subgroup with the highest value of the metric, and the subgroup with the lowest value.\n",
        "'''\n",
        "grouped_on_race.difference(method='between_groups')"
      ],
      "execution_count": null,
      "outputs": [
        {
          "output_type": "execute_result",
          "data": {
            "text/plain": [
              "samplesize           20138.000000\n",
              "selection_rate           0.052767\n",
              "FNR                      0.222222\n",
              "FPR                      0.044860\n",
              "accuracy                 0.050695\n",
              "average_precision        0.064101\n",
              "roc_auc_score            0.098271\n",
              "dtype: float64"
            ]
          },
          "metadata": {
            "tags": []
          },
          "execution_count": 31
        }
      ]
    },
    {
      "cell_type": "code",
      "metadata": {
        "id": "2wjfWu9oYCNk",
        "colab": {
          "base_uri": "https://localhost:8080/"
        },
        "outputId": "c8abdd2b-df8e-4187-f30f-103b9dd78222"
      },
      "source": [
        "'''\n",
        "We can also evaluate the difference relative to the corresponding overall value of the metric. \n",
        "In this case we take the absolute value, so that the result is always positive:'\n",
        "'''\n",
        "grouped_on_race.difference(method='to_overall')"
      ],
      "execution_count": null,
      "outputs": [
        {
          "output_type": "execute_result",
          "data": {
            "text/plain": [
              "samplesize           27141.000000\n",
              "selection_rate           0.039190\n",
              "FNR                      0.140043\n",
              "FPR                      0.035837\n",
              "accuracy                 0.041400\n",
              "average_precision        0.039659\n",
              "roc_auc_score            0.061693\n",
              "dtype: float64"
            ]
          },
          "metadata": {
            "tags": []
          },
          "execution_count": 32
        }
      ]
    },
    {
      "cell_type": "markdown",
      "metadata": {
        "id": "brYTIPsGZI24"
      },
      "source": [
        "#### Intersections of sensitive features\n",
        "We can examine the intersections of sensitive features by passing multiple columns to the fairlearn.metrics.MetricFrame constructor:"
      ]
    },
    {
      "cell_type": "code",
      "metadata": {
        "id": "uKW-RwvdZtxS"
      },
      "source": [
        "grouped_on_race_and_sex = MetricFrame(metric_fns,\n",
        "                                      y_test, y_pred,\n",
        "                                      sensitive_features=A_test[['race', 'gender']])"
      ],
      "execution_count": null,
      "outputs": []
    },
    {
      "cell_type": "code",
      "metadata": {
        "id": "MqHilaEsZxyy",
        "colab": {
          "base_uri": "https://localhost:8080/",
          "height": 452
        },
        "outputId": "6dc78f08-5f13-4d99-df28-e9c1f5e69fd2"
      },
      "source": [
        "grouped_on_race_and_sex.by_group"
      ],
      "execution_count": null,
      "outputs": [
        {
          "output_type": "execute_result",
          "data": {
            "text/html": [
              "<div>\n",
              "<style scoped>\n",
              "    .dataframe tbody tr th:only-of-type {\n",
              "        vertical-align: middle;\n",
              "    }\n",
              "\n",
              "    .dataframe tbody tr th {\n",
              "        vertical-align: top;\n",
              "    }\n",
              "\n",
              "    .dataframe thead th {\n",
              "        text-align: right;\n",
              "    }\n",
              "</style>\n",
              "<table border=\"1\" class=\"dataframe\">\n",
              "  <thead>\n",
              "    <tr style=\"text-align: right;\">\n",
              "      <th></th>\n",
              "      <th></th>\n",
              "      <th>samplesize</th>\n",
              "      <th>selection_rate</th>\n",
              "      <th>FNR</th>\n",
              "      <th>FPR</th>\n",
              "      <th>accuracy</th>\n",
              "      <th>average_precision</th>\n",
              "      <th>roc_auc_score</th>\n",
              "    </tr>\n",
              "    <tr>\n",
              "      <th>race</th>\n",
              "      <th>gender</th>\n",
              "      <th></th>\n",
              "      <th></th>\n",
              "      <th></th>\n",
              "      <th></th>\n",
              "      <th></th>\n",
              "      <th></th>\n",
              "      <th></th>\n",
              "    </tr>\n",
              "  </thead>\n",
              "  <tbody>\n",
              "    <tr>\n",
              "      <th rowspan=\"2\" valign=\"top\">?</th>\n",
              "      <th>Female</th>\n",
              "      <td>436</td>\n",
              "      <td>0.043578</td>\n",
              "      <td>0.923077</td>\n",
              "      <td>0.0425532</td>\n",
              "      <td>0.931193</td>\n",
              "      <td>0.0315715</td>\n",
              "      <td>0.517185</td>\n",
              "    </tr>\n",
              "    <tr>\n",
              "      <th>Male</th>\n",
              "      <td>422</td>\n",
              "      <td>0.042654</td>\n",
              "      <td>0.7</td>\n",
              "      <td>0.0364078</td>\n",
              "      <td>0.947867</td>\n",
              "      <td>0.0665877</td>\n",
              "      <td>0.631796</td>\n",
              "    </tr>\n",
              "    <tr>\n",
              "      <th rowspan=\"2\" valign=\"top\">AfricanAmerican</th>\n",
              "      <th>Female</th>\n",
              "      <td>2919</td>\n",
              "      <td>0.0623501</td>\n",
              "      <td>0.695122</td>\n",
              "      <td>0.0553401</td>\n",
              "      <td>0.926687</td>\n",
              "      <td>0.0614061</td>\n",
              "      <td>0.624769</td>\n",
              "    </tr>\n",
              "    <tr>\n",
              "      <th>Male</th>\n",
              "      <td>1926</td>\n",
              "      <td>0.0721703</td>\n",
              "      <td>0.745098</td>\n",
              "      <td>0.0672</td>\n",
              "      <td>0.914849</td>\n",
              "      <td>0.0435698</td>\n",
              "      <td>0.593851</td>\n",
              "    </tr>\n",
              "    <tr>\n",
              "      <th rowspan=\"2\" valign=\"top\">Asian</th>\n",
              "      <th>Female</th>\n",
              "      <td>116</td>\n",
              "      <td>0.0517241</td>\n",
              "      <td>1</td>\n",
              "      <td>0.0535714</td>\n",
              "      <td>0.913793</td>\n",
              "      <td>0.0344828</td>\n",
              "      <td>0.473214</td>\n",
              "    </tr>\n",
              "    <tr>\n",
              "      <th>Male</th>\n",
              "      <td>114</td>\n",
              "      <td>0.0526316</td>\n",
              "      <td>0.75</td>\n",
              "      <td>0.0377358</td>\n",
              "      <td>0.912281</td>\n",
              "      <td>0.135965</td>\n",
              "      <td>0.606132</td>\n",
              "    </tr>\n",
              "    <tr>\n",
              "      <th rowspan=\"2\" valign=\"top\">Caucasian</th>\n",
              "      <th>Female</th>\n",
              "      <td>10332</td>\n",
              "      <td>0.0886566</td>\n",
              "      <td>0.749455</td>\n",
              "      <td>0.0811304</td>\n",
              "      <td>0.889179</td>\n",
              "      <td>0.0647495</td>\n",
              "      <td>0.584707</td>\n",
              "    </tr>\n",
              "    <tr>\n",
              "      <th>Male</th>\n",
              "      <td>10036</td>\n",
              "      <td>0.0878836</td>\n",
              "      <td>0.754762</td>\n",
              "      <td>0.0810108</td>\n",
              "      <td>0.890793</td>\n",
              "      <td>0.0602252</td>\n",
              "      <td>0.582114</td>\n",
              "    </tr>\n",
              "    <tr>\n",
              "      <th rowspan=\"2\" valign=\"top\">Hispanic</th>\n",
              "      <th>Female</th>\n",
              "      <td>316</td>\n",
              "      <td>0.0949367</td>\n",
              "      <td>0.625</td>\n",
              "      <td>0.08</td>\n",
              "      <td>0.892405</td>\n",
              "      <td>0.106646</td>\n",
              "      <td>0.6475</td>\n",
              "    </tr>\n",
              "    <tr>\n",
              "      <th>Male</th>\n",
              "      <td>268</td>\n",
              "      <td>0.0970149</td>\n",
              "      <td>0.727273</td>\n",
              "      <td>0.0894942</td>\n",
              "      <td>0.884328</td>\n",
              "      <td>0.0613193</td>\n",
              "      <td>0.591617</td>\n",
              "    </tr>\n",
              "    <tr>\n",
              "      <th rowspan=\"2\" valign=\"top\">Other</th>\n",
              "      <th>Female</th>\n",
              "      <td>243</td>\n",
              "      <td>0.0576132</td>\n",
              "      <td>1</td>\n",
              "      <td>0.0590717</td>\n",
              "      <td>0.917695</td>\n",
              "      <td>0.0246914</td>\n",
              "      <td>0.470464</td>\n",
              "    </tr>\n",
              "    <tr>\n",
              "      <th>Male</th>\n",
              "      <td>243</td>\n",
              "      <td>0.0617284</td>\n",
              "      <td>0.666667</td>\n",
              "      <td>0.0583333</td>\n",
              "      <td>0.934156</td>\n",
              "      <td>0.0304527</td>\n",
              "      <td>0.6375</td>\n",
              "    </tr>\n",
              "  </tbody>\n",
              "</table>\n",
              "</div>"
            ],
            "text/plain": [
              "                       samplesize  ... roc_auc_score\n",
              "race            gender             ...              \n",
              "?               Female        436  ...      0.517185\n",
              "                Male          422  ...      0.631796\n",
              "AfricanAmerican Female       2919  ...      0.624769\n",
              "                Male         1926  ...      0.593851\n",
              "Asian           Female        116  ...      0.473214\n",
              "                Male          114  ...      0.606132\n",
              "Caucasian       Female      10332  ...      0.584707\n",
              "                Male        10036  ...      0.582114\n",
              "Hispanic        Female        316  ...        0.6475\n",
              "                Male          268  ...      0.591617\n",
              "Other           Female        243  ...      0.470464\n",
              "                Male          243  ...        0.6375\n",
              "\n",
              "[12 rows x 7 columns]"
            ]
          },
          "metadata": {
            "tags": []
          },
          "execution_count": 34
        }
      ]
    },
    {
      "cell_type": "markdown",
      "metadata": {
        "id": "JqLnk6JXHh2J"
      },
      "source": [
        "Look over the metrics by race and sex. Are there any metrics that have notable intersectional disparities?\n"
      ]
    },
    {
      "cell_type": "markdown",
      "metadata": {
        "id": "aXU2LsAmH9iK"
      },
      "source": [
        "**Write your answer in this text cell:**\n",
        "\n",
        "In false negative rates, it appears that females in the unknown, Asian, and other categories have much higher (sometimes even 100%) false negative rates compared to their male counterparts. This means that women in these race categories are more likely to be deemed as healthier/ non-diabetic, but then readmitted later."
      ]
    },
    {
      "cell_type": "markdown",
      "metadata": {
        "id": "80lGngfwaC7S"
      },
      "source": [
        "#### Control Features\n",
        "There is a further way we can slice up our data. We have features for the patients' *admission_type_id* (Integer identifier corresponding to 9 distinct values, for example, emergency, urgent, elective, newborn, and not available). When making predictions for readmission, it is acceptable that patients who were admitted due to a specific reason this time to have higher rate of readmission. However, within each admission type, we do not want a disparity between gender. To handle such senario, we introduce the concept of **control features**.\n",
        "\n",
        "Control features are introduced by the `control_features= argument` to the `fairlearn.metrics.MetricFrame` object:"
      ]
    },
    {
      "cell_type": "code",
      "metadata": {
        "id": "tKdtGo4dZ33S"
      },
      "source": [
        "cond_admissiontype = MetricFrame( {'sample size': samplesize,\n",
        "                          'selection_rate': selection_rate,  \n",
        "                          'accuracy': skm.accuracy_score,\n",
        "                          'roc_auc_score': insensitive_roc_auc },\n",
        "                                y_test, y_pred,\n",
        "                                sensitive_features=A_test[['gender']],\n",
        "                                control_features=A_test['admission_type'])"
      ],
      "execution_count": null,
      "outputs": []
    },
    {
      "cell_type": "code",
      "metadata": {
        "id": "dB5z6hrMbwJi",
        "colab": {
          "base_uri": "https://localhost:8080/",
          "height": 328
        },
        "outputId": "95b99976-e396-4e66-ba2e-14c2dc54e4d8"
      },
      "source": [
        "'''\n",
        "This has an immediate effect on the overall property. \n",
        "Instead of having one value for each metric, we now have a value for each unique value of the control feature:\n",
        "'''\n",
        "cond_admissiontype.overall"
      ],
      "execution_count": null,
      "outputs": [
        {
          "output_type": "execute_result",
          "data": {
            "text/html": [
              "<div>\n",
              "<style scoped>\n",
              "    .dataframe tbody tr th:only-of-type {\n",
              "        vertical-align: middle;\n",
              "    }\n",
              "\n",
              "    .dataframe tbody tr th {\n",
              "        vertical-align: top;\n",
              "    }\n",
              "\n",
              "    .dataframe thead th {\n",
              "        text-align: right;\n",
              "    }\n",
              "</style>\n",
              "<table border=\"1\" class=\"dataframe\">\n",
              "  <thead>\n",
              "    <tr style=\"text-align: right;\">\n",
              "      <th></th>\n",
              "      <th>sample size</th>\n",
              "      <th>selection_rate</th>\n",
              "      <th>accuracy</th>\n",
              "      <th>roc_auc_score</th>\n",
              "    </tr>\n",
              "    <tr>\n",
              "      <th>admission_type</th>\n",
              "      <th></th>\n",
              "      <th></th>\n",
              "      <th></th>\n",
              "      <th></th>\n",
              "    </tr>\n",
              "  </thead>\n",
              "  <tbody>\n",
              "    <tr>\n",
              "      <th>Elective</th>\n",
              "      <td>5527</td>\n",
              "      <td>0.069839</td>\n",
              "      <td>0.914239</td>\n",
              "      <td>0.609026</td>\n",
              "    </tr>\n",
              "    <tr>\n",
              "      <th>Emergency</th>\n",
              "      <td>13851</td>\n",
              "      <td>0.0830987</td>\n",
              "      <td>0.896614</td>\n",
              "      <td>0.580762</td>\n",
              "    </tr>\n",
              "    <tr>\n",
              "      <th>NULL</th>\n",
              "      <td>1865</td>\n",
              "      <td>0.164075</td>\n",
              "      <td>0.805362</td>\n",
              "      <td>0.578605</td>\n",
              "    </tr>\n",
              "    <tr>\n",
              "      <th>Newborn</th>\n",
              "      <td>2</td>\n",
              "      <td>0</td>\n",
              "      <td>1</td>\n",
              "      <td>NaN</td>\n",
              "    </tr>\n",
              "    <tr>\n",
              "      <th>Not Available</th>\n",
              "      <td>1027</td>\n",
              "      <td>0.0175268</td>\n",
              "      <td>0.971762</td>\n",
              "      <td>0.491142</td>\n",
              "    </tr>\n",
              "    <tr>\n",
              "      <th>Not Mapped</th>\n",
              "      <td>139</td>\n",
              "      <td>0.0719424</td>\n",
              "      <td>0.870504</td>\n",
              "      <td>0.461832</td>\n",
              "    </tr>\n",
              "    <tr>\n",
              "      <th>Trauma Center</th>\n",
              "      <td>11</td>\n",
              "      <td>0</td>\n",
              "      <td>1</td>\n",
              "      <td>NaN</td>\n",
              "    </tr>\n",
              "    <tr>\n",
              "      <th>Urgent</th>\n",
              "      <td>4949</td>\n",
              "      <td>0.0771873</td>\n",
              "      <td>0.903819</td>\n",
              "      <td>0.582346</td>\n",
              "    </tr>\n",
              "  </tbody>\n",
              "</table>\n",
              "</div>"
            ],
            "text/plain": [
              "               sample size selection_rate  accuracy roc_auc_score\n",
              "admission_type                                                   \n",
              "Elective              5527       0.069839  0.914239      0.609026\n",
              "Emergency            13851      0.0830987  0.896614      0.580762\n",
              "NULL                  1865       0.164075  0.805362      0.578605\n",
              "Newborn                  2              0         1           NaN\n",
              "Not Available         1027      0.0175268  0.971762      0.491142\n",
              "Not Mapped             139      0.0719424  0.870504      0.461832\n",
              "Trauma Center           11              0         1           NaN\n",
              "Urgent                4949      0.0771873  0.903819      0.582346"
            ]
          },
          "metadata": {
            "tags": []
          },
          "execution_count": 36
        }
      ]
    },
    {
      "cell_type": "code",
      "metadata": {
        "id": "iIXIu2N_b1U9",
        "colab": {
          "base_uri": "https://localhost:8080/",
          "height": 576
        },
        "outputId": "cee4d42a-e41d-4120-c34c-c455b222dc4c"
      },
      "source": [
        "cond_admissiontype.by_group"
      ],
      "execution_count": null,
      "outputs": [
        {
          "output_type": "execute_result",
          "data": {
            "text/html": [
              "<div>\n",
              "<style scoped>\n",
              "    .dataframe tbody tr th:only-of-type {\n",
              "        vertical-align: middle;\n",
              "    }\n",
              "\n",
              "    .dataframe tbody tr th {\n",
              "        vertical-align: top;\n",
              "    }\n",
              "\n",
              "    .dataframe thead th {\n",
              "        text-align: right;\n",
              "    }\n",
              "</style>\n",
              "<table border=\"1\" class=\"dataframe\">\n",
              "  <thead>\n",
              "    <tr style=\"text-align: right;\">\n",
              "      <th></th>\n",
              "      <th></th>\n",
              "      <th>sample size</th>\n",
              "      <th>selection_rate</th>\n",
              "      <th>accuracy</th>\n",
              "      <th>roc_auc_score</th>\n",
              "    </tr>\n",
              "    <tr>\n",
              "      <th>admission_type</th>\n",
              "      <th>gender</th>\n",
              "      <th></th>\n",
              "      <th></th>\n",
              "      <th></th>\n",
              "      <th></th>\n",
              "    </tr>\n",
              "  </thead>\n",
              "  <tbody>\n",
              "    <tr>\n",
              "      <th rowspan=\"2\" valign=\"top\">Elective</th>\n",
              "      <th>Female</th>\n",
              "      <td>2881</td>\n",
              "      <td>0.0662964</td>\n",
              "      <td>0.919472</td>\n",
              "      <td>0.619558</td>\n",
              "    </tr>\n",
              "    <tr>\n",
              "      <th>Male</th>\n",
              "      <td>2646</td>\n",
              "      <td>0.0736961</td>\n",
              "      <td>0.908541</td>\n",
              "      <td>0.598137</td>\n",
              "    </tr>\n",
              "    <tr>\n",
              "      <th rowspan=\"2\" valign=\"top\">Emergency</th>\n",
              "      <th>Female</th>\n",
              "      <td>7411</td>\n",
              "      <td>0.0847389</td>\n",
              "      <td>0.893807</td>\n",
              "      <td>0.580621</td>\n",
              "    </tr>\n",
              "    <tr>\n",
              "      <th>Male</th>\n",
              "      <td>6440</td>\n",
              "      <td>0.0812112</td>\n",
              "      <td>0.899845</td>\n",
              "      <td>0.580841</td>\n",
              "    </tr>\n",
              "    <tr>\n",
              "      <th rowspan=\"2\" valign=\"top\">NULL</th>\n",
              "      <th>Female</th>\n",
              "      <td>927</td>\n",
              "      <td>0.16397</td>\n",
              "      <td>0.802589</td>\n",
              "      <td>0.573468</td>\n",
              "    </tr>\n",
              "    <tr>\n",
              "      <th>Male</th>\n",
              "      <td>938</td>\n",
              "      <td>0.164179</td>\n",
              "      <td>0.808102</td>\n",
              "      <td>0.584087</td>\n",
              "    </tr>\n",
              "    <tr>\n",
              "      <th rowspan=\"2\" valign=\"top\">Newborn</th>\n",
              "      <th>Female</th>\n",
              "      <td>1</td>\n",
              "      <td>0</td>\n",
              "      <td>1</td>\n",
              "      <td>NaN</td>\n",
              "    </tr>\n",
              "    <tr>\n",
              "      <th>Male</th>\n",
              "      <td>1</td>\n",
              "      <td>0</td>\n",
              "      <td>1</td>\n",
              "      <td>NaN</td>\n",
              "    </tr>\n",
              "    <tr>\n",
              "      <th rowspan=\"2\" valign=\"top\">Not Available</th>\n",
              "      <th>Female</th>\n",
              "      <td>545</td>\n",
              "      <td>0.012844</td>\n",
              "      <td>0.974312</td>\n",
              "      <td>0.493494</td>\n",
              "    </tr>\n",
              "    <tr>\n",
              "      <th>Male</th>\n",
              "      <td>482</td>\n",
              "      <td>0.0228216</td>\n",
              "      <td>0.96888</td>\n",
              "      <td>0.488494</td>\n",
              "    </tr>\n",
              "    <tr>\n",
              "      <th rowspan=\"2\" valign=\"top\">Not Mapped</th>\n",
              "      <th>Female</th>\n",
              "      <td>82</td>\n",
              "      <td>0.0853659</td>\n",
              "      <td>0.841463</td>\n",
              "      <td>0.453947</td>\n",
              "    </tr>\n",
              "    <tr>\n",
              "      <th>Male</th>\n",
              "      <td>57</td>\n",
              "      <td>0.0526316</td>\n",
              "      <td>0.912281</td>\n",
              "      <td>0.472727</td>\n",
              "    </tr>\n",
              "    <tr>\n",
              "      <th rowspan=\"2\" valign=\"top\">Trauma Center</th>\n",
              "      <th>Female</th>\n",
              "      <td>4</td>\n",
              "      <td>0</td>\n",
              "      <td>1</td>\n",
              "      <td>NaN</td>\n",
              "    </tr>\n",
              "    <tr>\n",
              "      <th>Male</th>\n",
              "      <td>7</td>\n",
              "      <td>0</td>\n",
              "      <td>1</td>\n",
              "      <td>NaN</td>\n",
              "    </tr>\n",
              "    <tr>\n",
              "      <th rowspan=\"2\" valign=\"top\">Urgent</th>\n",
              "      <th>Female</th>\n",
              "      <td>2511</td>\n",
              "      <td>0.0724811</td>\n",
              "      <td>0.910793</td>\n",
              "      <td>0.591831</td>\n",
              "    </tr>\n",
              "    <tr>\n",
              "      <th>Male</th>\n",
              "      <td>2438</td>\n",
              "      <td>0.0820345</td>\n",
              "      <td>0.896637</td>\n",
              "      <td>0.57352</td>\n",
              "    </tr>\n",
              "  </tbody>\n",
              "</table>\n",
              "</div>"
            ],
            "text/plain": [
              "                      sample size selection_rate  accuracy roc_auc_score\n",
              "admission_type gender                                                   \n",
              "Elective       Female        2881      0.0662964  0.919472      0.619558\n",
              "               Male          2646      0.0736961  0.908541      0.598137\n",
              "Emergency      Female        7411      0.0847389  0.893807      0.580621\n",
              "               Male          6440      0.0812112  0.899845      0.580841\n",
              "NULL           Female         927        0.16397  0.802589      0.573468\n",
              "               Male           938       0.164179  0.808102      0.584087\n",
              "Newborn        Female           1              0         1           NaN\n",
              "               Male             1              0         1           NaN\n",
              "Not Available  Female         545       0.012844  0.974312      0.493494\n",
              "               Male           482      0.0228216   0.96888      0.488494\n",
              "Not Mapped     Female          82      0.0853659  0.841463      0.453947\n",
              "               Male            57      0.0526316  0.912281      0.472727\n",
              "Trauma Center  Female           4              0         1           NaN\n",
              "               Male             7              0         1           NaN\n",
              "Urgent         Female        2511      0.0724811  0.910793      0.591831\n",
              "               Male          2438      0.0820345  0.896637       0.57352"
            ]
          },
          "metadata": {
            "tags": []
          },
          "execution_count": 37
        }
      ]
    },
    {
      "cell_type": "markdown",
      "metadata": {
        "id": "KwXE7Df6G9pq"
      },
      "source": [
        "In fact, sensitive features can be used as control features as well. For example, if we assume that readmission rate can be naturally different for people in different age groups, i.e., elders require more attentions while young adults are less vunerable, we can consider 'age' as control feature similarly as above but maintain equality across gender or race. \n",
        "\n",
        "Please peform analysis accordingly with Fairlearn for the above senario: "
      ]
    },
    {
      "cell_type": "code",
      "metadata": {
        "id": "Hz1-zIcmG9ES",
        "colab": {
          "base_uri": "https://localhost:8080/",
          "height": 1000
        },
        "outputId": "e6230cf6-36ea-4ede-b624-a5ca4106513e"
      },
      "source": [
        "# write your code here # This probably is wrong\n",
        "cond_admission = MetricFrame( {'sample size': samplesize,\n",
        "                          'selection_rate': selection_rate,  \n",
        "                          'accuracy': skm.accuracy_score,\n",
        "                          'roc_auc_score': insensitive_roc_auc },\n",
        "                                y_test, y_pred,\n",
        "                                sensitive_features=A_test[['race']],\n",
        "                                control_features=A_test['age'])\n",
        "cond_admission.by_group"
      ],
      "execution_count": null,
      "outputs": [
        {
          "output_type": "stream",
          "text": [
            "Found 60 subgroups. Evaluation may be slow\n"
          ],
          "name": "stderr"
        },
        {
          "output_type": "execute_result",
          "data": {
            "text/html": [
              "<div>\n",
              "<style scoped>\n",
              "    .dataframe tbody tr th:only-of-type {\n",
              "        vertical-align: middle;\n",
              "    }\n",
              "\n",
              "    .dataframe tbody tr th {\n",
              "        vertical-align: top;\n",
              "    }\n",
              "\n",
              "    .dataframe thead th {\n",
              "        text-align: right;\n",
              "    }\n",
              "</style>\n",
              "<table border=\"1\" class=\"dataframe\">\n",
              "  <thead>\n",
              "    <tr style=\"text-align: right;\">\n",
              "      <th></th>\n",
              "      <th></th>\n",
              "      <th>sample size</th>\n",
              "      <th>selection_rate</th>\n",
              "      <th>accuracy</th>\n",
              "      <th>roc_auc_score</th>\n",
              "    </tr>\n",
              "    <tr>\n",
              "      <th>age</th>\n",
              "      <th>race</th>\n",
              "      <th></th>\n",
              "      <th></th>\n",
              "      <th></th>\n",
              "      <th></th>\n",
              "    </tr>\n",
              "  </thead>\n",
              "  <tbody>\n",
              "    <tr>\n",
              "      <th rowspan=\"6\" valign=\"top\">[0-10)</th>\n",
              "      <th>?</th>\n",
              "      <td>1</td>\n",
              "      <td>0</td>\n",
              "      <td>1</td>\n",
              "      <td>NaN</td>\n",
              "    </tr>\n",
              "    <tr>\n",
              "      <th>AfricanAmerican</th>\n",
              "      <td>4</td>\n",
              "      <td>0</td>\n",
              "      <td>1</td>\n",
              "      <td>NaN</td>\n",
              "    </tr>\n",
              "    <tr>\n",
              "      <th>Asian</th>\n",
              "      <td>1</td>\n",
              "      <td>0</td>\n",
              "      <td>1</td>\n",
              "      <td>NaN</td>\n",
              "    </tr>\n",
              "    <tr>\n",
              "      <th>Caucasian</th>\n",
              "      <td>57</td>\n",
              "      <td>0</td>\n",
              "      <td>1</td>\n",
              "      <td>NaN</td>\n",
              "    </tr>\n",
              "    <tr>\n",
              "      <th>Hispanic</th>\n",
              "      <td>1</td>\n",
              "      <td>0</td>\n",
              "      <td>1</td>\n",
              "      <td>NaN</td>\n",
              "    </tr>\n",
              "    <tr>\n",
              "      <th>Other</th>\n",
              "      <td>1</td>\n",
              "      <td>0</td>\n",
              "      <td>1</td>\n",
              "      <td>NaN</td>\n",
              "    </tr>\n",
              "    <tr>\n",
              "      <th rowspan=\"6\" valign=\"top\">[10-20)</th>\n",
              "      <th>?</th>\n",
              "      <td>2</td>\n",
              "      <td>0</td>\n",
              "      <td>1</td>\n",
              "      <td>NaN</td>\n",
              "    </tr>\n",
              "    <tr>\n",
              "      <th>AfricanAmerican</th>\n",
              "      <td>57</td>\n",
              "      <td>0.0175439</td>\n",
              "      <td>0.964912</td>\n",
              "      <td>0.491071</td>\n",
              "    </tr>\n",
              "    <tr>\n",
              "      <th>Asian</th>\n",
              "      <td>1</td>\n",
              "      <td>0</td>\n",
              "      <td>1</td>\n",
              "      <td>NaN</td>\n",
              "    </tr>\n",
              "    <tr>\n",
              "      <th>Caucasian</th>\n",
              "      <td>135</td>\n",
              "      <td>0.037037</td>\n",
              "      <td>0.940741</td>\n",
              "      <td>0.481061</td>\n",
              "    </tr>\n",
              "    <tr>\n",
              "      <th>Hispanic</th>\n",
              "      <td>6</td>\n",
              "      <td>0</td>\n",
              "      <td>1</td>\n",
              "      <td>NaN</td>\n",
              "    </tr>\n",
              "    <tr>\n",
              "      <th>Other</th>\n",
              "      <td>4</td>\n",
              "      <td>0</td>\n",
              "      <td>1</td>\n",
              "      <td>NaN</td>\n",
              "    </tr>\n",
              "    <tr>\n",
              "      <th rowspan=\"6\" valign=\"top\">[20-30)</th>\n",
              "      <th>?</th>\n",
              "      <td>18</td>\n",
              "      <td>0</td>\n",
              "      <td>1</td>\n",
              "      <td>NaN</td>\n",
              "    </tr>\n",
              "    <tr>\n",
              "      <th>AfricanAmerican</th>\n",
              "      <td>134</td>\n",
              "      <td>0.0298507</td>\n",
              "      <td>0.955224</td>\n",
              "      <td>0.613462</td>\n",
              "    </tr>\n",
              "    <tr>\n",
              "      <th>Asian</th>\n",
              "      <td>3</td>\n",
              "      <td>0</td>\n",
              "      <td>1</td>\n",
              "      <td>NaN</td>\n",
              "    </tr>\n",
              "    <tr>\n",
              "      <th>Caucasian</th>\n",
              "      <td>246</td>\n",
              "      <td>0.0243902</td>\n",
              "      <td>0.955285</td>\n",
              "      <td>0.629981</td>\n",
              "    </tr>\n",
              "    <tr>\n",
              "      <th>Hispanic</th>\n",
              "      <td>21</td>\n",
              "      <td>0</td>\n",
              "      <td>1</td>\n",
              "      <td>NaN</td>\n",
              "    </tr>\n",
              "    <tr>\n",
              "      <th>Other</th>\n",
              "      <td>9</td>\n",
              "      <td>0</td>\n",
              "      <td>1</td>\n",
              "      <td>NaN</td>\n",
              "    </tr>\n",
              "    <tr>\n",
              "      <th rowspan=\"6\" valign=\"top\">[30-40)</th>\n",
              "      <th>?</th>\n",
              "      <td>36</td>\n",
              "      <td>0</td>\n",
              "      <td>1</td>\n",
              "      <td>NaN</td>\n",
              "    </tr>\n",
              "    <tr>\n",
              "      <th>AfricanAmerican</th>\n",
              "      <td>311</td>\n",
              "      <td>0.022508</td>\n",
              "      <td>0.967846</td>\n",
              "      <td>0.634633</td>\n",
              "    </tr>\n",
              "    <tr>\n",
              "      <th>Asian</th>\n",
              "      <td>6</td>\n",
              "      <td>0</td>\n",
              "      <td>1</td>\n",
              "      <td>NaN</td>\n",
              "    </tr>\n",
              "    <tr>\n",
              "      <th>Caucasian</th>\n",
              "      <td>659</td>\n",
              "      <td>0.0409712</td>\n",
              "      <td>0.948407</td>\n",
              "      <td>0.615476</td>\n",
              "    </tr>\n",
              "    <tr>\n",
              "      <th>Hispanic</th>\n",
              "      <td>55</td>\n",
              "      <td>0.0181818</td>\n",
              "      <td>0.963636</td>\n",
              "      <td>0.490741</td>\n",
              "    </tr>\n",
              "    <tr>\n",
              "      <th>Other</th>\n",
              "      <td>28</td>\n",
              "      <td>0.0357143</td>\n",
              "      <td>0.964286</td>\n",
              "      <td>NaN</td>\n",
              "    </tr>\n",
              "    <tr>\n",
              "      <th rowspan=\"6\" valign=\"top\">[40-50)</th>\n",
              "      <th>?</th>\n",
              "      <td>90</td>\n",
              "      <td>0.0111111</td>\n",
              "      <td>0.966667</td>\n",
              "      <td>0.494318</td>\n",
              "    </tr>\n",
              "    <tr>\n",
              "      <th>AfricanAmerican</th>\n",
              "      <td>704</td>\n",
              "      <td>0.0610795</td>\n",
              "      <td>0.928977</td>\n",
              "      <td>0.586441</td>\n",
              "    </tr>\n",
              "    <tr>\n",
              "      <th>Asian</th>\n",
              "      <td>25</td>\n",
              "      <td>0.04</td>\n",
              "      <td>0.92</td>\n",
              "      <td>0.479167</td>\n",
              "    </tr>\n",
              "    <tr>\n",
              "      <th>Caucasian</th>\n",
              "      <td>1698</td>\n",
              "      <td>0.0624264</td>\n",
              "      <td>0.924028</td>\n",
              "      <td>0.587276</td>\n",
              "    </tr>\n",
              "    <tr>\n",
              "      <th>Hispanic</th>\n",
              "      <td>87</td>\n",
              "      <td>0.137931</td>\n",
              "      <td>0.896552</td>\n",
              "      <td>0.946429</td>\n",
              "    </tr>\n",
              "    <tr>\n",
              "      <th>Other</th>\n",
              "      <td>44</td>\n",
              "      <td>0.0227273</td>\n",
              "      <td>0.977273</td>\n",
              "      <td>NaN</td>\n",
              "    </tr>\n",
              "    <tr>\n",
              "      <th rowspan=\"6\" valign=\"top\">[50-60)</th>\n",
              "      <th>?</th>\n",
              "      <td>142</td>\n",
              "      <td>0.00704225</td>\n",
              "      <td>0.957746</td>\n",
              "      <td>0.49635</td>\n",
              "    </tr>\n",
              "    <tr>\n",
              "      <th>AfricanAmerican</th>\n",
              "      <td>1151</td>\n",
              "      <td>0.0582103</td>\n",
              "      <td>0.932233</td>\n",
              "      <td>0.613357</td>\n",
              "    </tr>\n",
              "    <tr>\n",
              "      <th>Asian</th>\n",
              "      <td>43</td>\n",
              "      <td>0.0232558</td>\n",
              "      <td>0.976744</td>\n",
              "      <td>NaN</td>\n",
              "    </tr>\n",
              "    <tr>\n",
              "      <th>Caucasian</th>\n",
              "      <td>3389</td>\n",
              "      <td>0.065506</td>\n",
              "      <td>0.916495</td>\n",
              "      <td>0.582564</td>\n",
              "    </tr>\n",
              "    <tr>\n",
              "      <th>Hispanic</th>\n",
              "      <td>135</td>\n",
              "      <td>0.0740741</td>\n",
              "      <td>0.911111</td>\n",
              "      <td>0.462406</td>\n",
              "    </tr>\n",
              "    <tr>\n",
              "      <th>Other</th>\n",
              "      <td>121</td>\n",
              "      <td>0.0330579</td>\n",
              "      <td>0.950413</td>\n",
              "      <td>0.483193</td>\n",
              "    </tr>\n",
              "    <tr>\n",
              "      <th rowspan=\"6\" valign=\"top\">[60-70)</th>\n",
              "      <th>?</th>\n",
              "      <td>201</td>\n",
              "      <td>0.0547264</td>\n",
              "      <td>0.925373</td>\n",
              "      <td>0.557692</td>\n",
              "    </tr>\n",
              "    <tr>\n",
              "      <th>AfricanAmerican</th>\n",
              "      <td>1038</td>\n",
              "      <td>0.0799615</td>\n",
              "      <td>0.905588</td>\n",
              "      <td>0.612685</td>\n",
              "    </tr>\n",
              "    <tr>\n",
              "      <th>Asian</th>\n",
              "      <td>51</td>\n",
              "      <td>0.0588235</td>\n",
              "      <td>0.901961</td>\n",
              "      <td>0.469388</td>\n",
              "    </tr>\n",
              "    <tr>\n",
              "      <th>Caucasian</th>\n",
              "      <td>4567</td>\n",
              "      <td>0.0840815</td>\n",
              "      <td>0.889424</td>\n",
              "      <td>0.561686</td>\n",
              "    </tr>\n",
              "    <tr>\n",
              "      <th>Hispanic</th>\n",
              "      <td>126</td>\n",
              "      <td>0.103175</td>\n",
              "      <td>0.873016</td>\n",
              "      <td>0.623932</td>\n",
              "    </tr>\n",
              "    <tr>\n",
              "      <th>Other</th>\n",
              "      <td>124</td>\n",
              "      <td>0.0887097</td>\n",
              "      <td>0.903226</td>\n",
              "      <td>0.625344</td>\n",
              "    </tr>\n",
              "    <tr>\n",
              "      <th rowspan=\"6\" valign=\"top\">[70-80)</th>\n",
              "      <th>?</th>\n",
              "      <td>210</td>\n",
              "      <td>0.052381</td>\n",
              "      <td>0.942857</td>\n",
              "      <td>0.678049</td>\n",
              "    </tr>\n",
              "    <tr>\n",
              "      <th>AfricanAmerican</th>\n",
              "      <td>911</td>\n",
              "      <td>0.0768386</td>\n",
              "      <td>0.906696</td>\n",
              "      <td>0.584975</td>\n",
              "    </tr>\n",
              "    <tr>\n",
              "      <th>Asian</th>\n",
              "      <td>56</td>\n",
              "      <td>0.0535714</td>\n",
              "      <td>0.857143</td>\n",
              "      <td>0.55102</td>\n",
              "    </tr>\n",
              "    <tr>\n",
              "      <th>Caucasian</th>\n",
              "      <td>5428</td>\n",
              "      <td>0.10409</td>\n",
              "      <td>0.87325</td>\n",
              "      <td>0.590734</td>\n",
              "    </tr>\n",
              "    <tr>\n",
              "      <th>Hispanic</th>\n",
              "      <td>109</td>\n",
              "      <td>0.146789</td>\n",
              "      <td>0.825688</td>\n",
              "      <td>0.601667</td>\n",
              "    </tr>\n",
              "    <tr>\n",
              "      <th>Other</th>\n",
              "      <td>105</td>\n",
              "      <td>0.0761905</td>\n",
              "      <td>0.895238</td>\n",
              "      <td>0.460784</td>\n",
              "    </tr>\n",
              "    <tr>\n",
              "      <th rowspan=\"6\" valign=\"top\">[80-90)</th>\n",
              "      <th>?</th>\n",
              "      <td>130</td>\n",
              "      <td>0.1</td>\n",
              "      <td>0.876923</td>\n",
              "      <td>0.552</td>\n",
              "    </tr>\n",
              "    <tr>\n",
              "      <th>AfricanAmerican</th>\n",
              "      <td>433</td>\n",
              "      <td>0.0831409</td>\n",
              "      <td>0.91455</td>\n",
              "      <td>0.698644</td>\n",
              "    </tr>\n",
              "    <tr>\n",
              "      <th>Asian</th>\n",
              "      <td>37</td>\n",
              "      <td>0.0810811</td>\n",
              "      <td>0.918919</td>\n",
              "      <td>0.721429</td>\n",
              "    </tr>\n",
              "    <tr>\n",
              "      <th>Caucasian</th>\n",
              "      <td>3604</td>\n",
              "      <td>0.113762</td>\n",
              "      <td>0.860988</td>\n",
              "      <td>0.580825</td>\n",
              "    </tr>\n",
              "    <tr>\n",
              "      <th>Hispanic</th>\n",
              "      <td>41</td>\n",
              "      <td>0.097561</td>\n",
              "      <td>0.853659</td>\n",
              "      <td>0.448718</td>\n",
              "    </tr>\n",
              "    <tr>\n",
              "      <th>Other</th>\n",
              "      <td>43</td>\n",
              "      <td>0.0930233</td>\n",
              "      <td>0.883721</td>\n",
              "      <td>0.452381</td>\n",
              "    </tr>\n",
              "    <tr>\n",
              "      <th rowspan=\"6\" valign=\"top\">[90-100)</th>\n",
              "      <th>?</th>\n",
              "      <td>28</td>\n",
              "      <td>0</td>\n",
              "      <td>1</td>\n",
              "      <td>NaN</td>\n",
              "    </tr>\n",
              "    <tr>\n",
              "      <th>AfricanAmerican</th>\n",
              "      <td>102</td>\n",
              "      <td>0.0980392</td>\n",
              "      <td>0.882353</td>\n",
              "      <td>0.45</td>\n",
              "    </tr>\n",
              "    <tr>\n",
              "      <th>Asian</th>\n",
              "      <td>7</td>\n",
              "      <td>0.142857</td>\n",
              "      <td>0.857143</td>\n",
              "      <td>NaN</td>\n",
              "    </tr>\n",
              "    <tr>\n",
              "      <th>Caucasian</th>\n",
              "      <td>585</td>\n",
              "      <td>0.124786</td>\n",
              "      <td>0.859829</td>\n",
              "      <td>0.593455</td>\n",
              "    </tr>\n",
              "    <tr>\n",
              "      <th>Hispanic</th>\n",
              "      <td>3</td>\n",
              "      <td>0</td>\n",
              "      <td>0.666667</td>\n",
              "      <td>0.5</td>\n",
              "    </tr>\n",
              "    <tr>\n",
              "      <th>Other</th>\n",
              "      <td>7</td>\n",
              "      <td>0</td>\n",
              "      <td>1</td>\n",
              "      <td>NaN</td>\n",
              "    </tr>\n",
              "  </tbody>\n",
              "</table>\n",
              "</div>"
            ],
            "text/plain": [
              "                         sample size selection_rate  accuracy roc_auc_score\n",
              "age      race                                                              \n",
              "[0-10)   ?                         1              0         1           NaN\n",
              "         AfricanAmerican           4              0         1           NaN\n",
              "         Asian                     1              0         1           NaN\n",
              "         Caucasian                57              0         1           NaN\n",
              "         Hispanic                  1              0         1           NaN\n",
              "         Other                     1              0         1           NaN\n",
              "[10-20)  ?                         2              0         1           NaN\n",
              "         AfricanAmerican          57      0.0175439  0.964912      0.491071\n",
              "         Asian                     1              0         1           NaN\n",
              "         Caucasian               135       0.037037  0.940741      0.481061\n",
              "         Hispanic                  6              0         1           NaN\n",
              "         Other                     4              0         1           NaN\n",
              "[20-30)  ?                        18              0         1           NaN\n",
              "         AfricanAmerican         134      0.0298507  0.955224      0.613462\n",
              "         Asian                     3              0         1           NaN\n",
              "         Caucasian               246      0.0243902  0.955285      0.629981\n",
              "         Hispanic                 21              0         1           NaN\n",
              "         Other                     9              0         1           NaN\n",
              "[30-40)  ?                        36              0         1           NaN\n",
              "         AfricanAmerican         311       0.022508  0.967846      0.634633\n",
              "         Asian                     6              0         1           NaN\n",
              "         Caucasian               659      0.0409712  0.948407      0.615476\n",
              "         Hispanic                 55      0.0181818  0.963636      0.490741\n",
              "         Other                    28      0.0357143  0.964286           NaN\n",
              "[40-50)  ?                        90      0.0111111  0.966667      0.494318\n",
              "         AfricanAmerican         704      0.0610795  0.928977      0.586441\n",
              "         Asian                    25           0.04      0.92      0.479167\n",
              "         Caucasian              1698      0.0624264  0.924028      0.587276\n",
              "         Hispanic                 87       0.137931  0.896552      0.946429\n",
              "         Other                    44      0.0227273  0.977273           NaN\n",
              "[50-60)  ?                       142     0.00704225  0.957746       0.49635\n",
              "         AfricanAmerican        1151      0.0582103  0.932233      0.613357\n",
              "         Asian                    43      0.0232558  0.976744           NaN\n",
              "         Caucasian              3389       0.065506  0.916495      0.582564\n",
              "         Hispanic                135      0.0740741  0.911111      0.462406\n",
              "         Other                   121      0.0330579  0.950413      0.483193\n",
              "[60-70)  ?                       201      0.0547264  0.925373      0.557692\n",
              "         AfricanAmerican        1038      0.0799615  0.905588      0.612685\n",
              "         Asian                    51      0.0588235  0.901961      0.469388\n",
              "         Caucasian              4567      0.0840815  0.889424      0.561686\n",
              "         Hispanic                126       0.103175  0.873016      0.623932\n",
              "         Other                   124      0.0887097  0.903226      0.625344\n",
              "[70-80)  ?                       210       0.052381  0.942857      0.678049\n",
              "         AfricanAmerican         911      0.0768386  0.906696      0.584975\n",
              "         Asian                    56      0.0535714  0.857143       0.55102\n",
              "         Caucasian              5428        0.10409   0.87325      0.590734\n",
              "         Hispanic                109       0.146789  0.825688      0.601667\n",
              "         Other                   105      0.0761905  0.895238      0.460784\n",
              "[80-90)  ?                       130            0.1  0.876923         0.552\n",
              "         AfricanAmerican         433      0.0831409   0.91455      0.698644\n",
              "         Asian                    37      0.0810811  0.918919      0.721429\n",
              "         Caucasian              3604       0.113762  0.860988      0.580825\n",
              "         Hispanic                 41       0.097561  0.853659      0.448718\n",
              "         Other                    43      0.0930233  0.883721      0.452381\n",
              "[90-100) ?                        28              0         1           NaN\n",
              "         AfricanAmerican         102      0.0980392  0.882353          0.45\n",
              "         Asian                     7       0.142857  0.857143           NaN\n",
              "         Caucasian               585       0.124786  0.859829      0.593455\n",
              "         Hispanic                  3              0  0.666667           0.5\n",
              "         Other                     7              0         1           NaN"
            ]
          },
          "metadata": {
            "tags": []
          },
          "execution_count": 38
        }
      ]
    },
    {
      "cell_type": "markdown",
      "metadata": {
        "id": "u_88VSFic4JM"
      },
      "source": [
        "## Step 6: Mitigate the unfairness of the classifier.\n",
        "\n",
        "**Fairlearn** provide preprocessing, postprocessing, and reductions modules for unfairness mitigation.\n",
        "\n",
        "\n"
      ]
    },
    {
      "cell_type": "markdown",
      "metadata": {
        "id": "tNnPMpJ65trG"
      },
      "source": [
        "### Mitigating Difference with Inprocessing\n",
        "The **GridSearch class** in Fairlearn implements a simplified version of the exponentiated gradient reduction of Agarwal et al. 2018. (Agarwal, Alekh, Alina Beygelzimer, Miroslav Dudík, John Langford, and Hanna Wallach. \"A reductions approach to fair classification.\" In International Conference on Machine Learning, pp. 60-69. PMLR, 2018.) The user supplies a standard ML estimator, which is treated as a blackbox. GridSearch works by generating a sequence of relabellings and reweightings, and trains a predictor for each."
      ]
    },
    {
      "cell_type": "code",
      "metadata": {
        "id": "z4Ijhr2xj7I0"
      },
      "source": [
        "X_train_ = unmitigated_predictor.named_steps['preprocessor'].fit_transform(X_train)\n",
        "X_test_ = unmitigated_predictor.named_steps['preprocessor'].transform(X_test)"
      ],
      "execution_count": null,
      "outputs": []
    },
    {
      "cell_type": "code",
      "metadata": {
        "id": "NSPFlWfhcRlO"
      },
      "source": [
        "#Here we use TruePositiveRateParity() as the constraints for GridSearch algorthm.\n",
        "#The intuition is to keep similar true positive rate acorss the sensitive feature, i.e., gender. \n",
        "#It can be interpreted as we want patients can have equal change of recieving attention based on their readmission possibility.\n",
        "\n",
        "#Besides, we set constraint_weight=0.3 to maintain good overall accuracy.\n",
        "from fairlearn.reductions import GridSearch\n",
        "from fairlearn.reductions import TruePositiveRateParity\n",
        "\n",
        "sweep = GridSearch(LogisticRegression(penalty='l2', C=0.1, verbose=1, max_iter=1000, \n",
        "                            class_weight={0:1, 1:10}),\n",
        "                   constraints=TruePositiveRateParity(),\n",
        "                   constraint_weight=0.1,\n",
        "                   grid_size=5)"
      ],
      "execution_count": null,
      "outputs": []
    },
    {
      "cell_type": "code",
      "metadata": {
        "id": "QEymq9BwkKcX",
        "colab": {
          "base_uri": "https://localhost:8080/"
        },
        "outputId": "981e599b-93a0-4c9c-def1-cedb833c0c3f"
      },
      "source": [
        "sweep.fit(X_train_.toarray(), y_train,\n",
        "          sensitive_features=A_train['gender'])"
      ],
      "execution_count": null,
      "outputs": [
        {
          "output_type": "stream",
          "text": [
            "[Parallel(n_jobs=1)]: Using backend SequentialBackend with 1 concurrent workers.\n",
            "[Parallel(n_jobs=1)]: Done   1 out of   1 | elapsed:  1.1min finished\n",
            "[Parallel(n_jobs=1)]: Using backend SequentialBackend with 1 concurrent workers.\n",
            "[Parallel(n_jobs=1)]: Done   1 out of   1 | elapsed:   56.9s finished\n",
            "[Parallel(n_jobs=1)]: Using backend SequentialBackend with 1 concurrent workers.\n",
            "[Parallel(n_jobs=1)]: Done   1 out of   1 | elapsed:   20.1s finished\n",
            "[Parallel(n_jobs=1)]: Using backend SequentialBackend with 1 concurrent workers.\n",
            "[Parallel(n_jobs=1)]: Done   1 out of   1 | elapsed:   58.2s finished\n",
            "[Parallel(n_jobs=1)]: Using backend SequentialBackend with 1 concurrent workers.\n",
            "[Parallel(n_jobs=1)]: Done   1 out of   1 | elapsed:  1.1min finished\n"
          ],
          "name": "stderr"
        }
      ]
    },
    {
      "cell_type": "markdown",
      "metadata": {
        "id": "_KSPdwRjUktt"
      },
      "source": [
        "The best model will be selected from all obtained models (5 in our case) based on the argument *`selection_rule`* (str):\n",
        " \n",
        "> Specifies the procedure for selecting the best model found by the grid search. At the present time, the only valid value is `“tradeoff_optimization”` which minimizes a weighted sum of the error rate and constraint violation.\n",
        "\n",
        "Let's check the performance of the produced mitigated model and compare it with the baseline model we trained before: "
      ]
    },
    {
      "cell_type": "code",
      "metadata": {
        "id": "DMOzI3ccUcUW"
      },
      "source": [
        "metric_fns = {'FNR': false_negative_rate, \n",
        "              'FPR': false_positive_rate, \n",
        "              'accuracy': skm.accuracy_score,\n",
        "              'average_precision': skm.average_precision_score,\n",
        "              'roc_auc_score': insensitive_roc_auc \n",
        "              }\n",
        "\n",
        "modelnames, accuracies, disparities = [], [], []\n",
        "\n",
        "#get performance for the unmitigated_predictor \n",
        "accuracy_metric_frame = MetricFrame(metric_fns, \n",
        "                                    y_test, y_pred, \n",
        "                                    sensitive_features=A_test['gender'])\n",
        "\n",
        "accuracies.append(accuracy_metric_frame.overall)\n",
        "disparities.append(accuracy_metric_frame.difference(method='between_groups'))\n",
        "modelnames.append('unmitigated_predictor')\n",
        "\n",
        "#get performance for the mitigated predictor from GridSearch\n",
        "accuracy_metric_frame = MetricFrame(metric_fns, \n",
        "                                    y_test, sweep.predict(X_test_), \n",
        "                                    sensitive_features=A_test['gender'])\n",
        "\n",
        "accuracies.append(accuracy_metric_frame.overall)\n",
        "disparities.append(accuracy_metric_frame.difference(method='between_groups'))\n",
        "modelnames.append('mitigated_predictor_via_gridsearch')\n"
      ],
      "execution_count": null,
      "outputs": []
    },
    {
      "cell_type": "code",
      "metadata": {
        "id": "u_U9SSPgX1aU",
        "colab": {
          "base_uri": "https://localhost:8080/",
          "height": 111
        },
        "outputId": "1f8d78d6-7ee8-4b25-c318-cbf676ea5a28"
      },
      "source": [
        "pd.DataFrame(disparities, index=modelnames)"
      ],
      "execution_count": null,
      "outputs": [
        {
          "output_type": "execute_result",
          "data": {
            "text/html": [
              "<div>\n",
              "<style scoped>\n",
              "    .dataframe tbody tr th:only-of-type {\n",
              "        vertical-align: middle;\n",
              "    }\n",
              "\n",
              "    .dataframe tbody tr th {\n",
              "        vertical-align: top;\n",
              "    }\n",
              "\n",
              "    .dataframe thead th {\n",
              "        text-align: right;\n",
              "    }\n",
              "</style>\n",
              "<table border=\"1\" class=\"dataframe\">\n",
              "  <thead>\n",
              "    <tr style=\"text-align: right;\">\n",
              "      <th></th>\n",
              "      <th>FNR</th>\n",
              "      <th>FPR</th>\n",
              "      <th>accuracy</th>\n",
              "      <th>average_precision</th>\n",
              "      <th>roc_auc_score</th>\n",
              "    </tr>\n",
              "  </thead>\n",
              "  <tbody>\n",
              "    <tr>\n",
              "      <th>unmitigated_predictor</th>\n",
              "      <td>0.004939</td>\n",
              "      <td>0.002834</td>\n",
              "      <td>0.001759</td>\n",
              "      <td>0.004414</td>\n",
              "      <td>0.003886</td>\n",
              "    </tr>\n",
              "    <tr>\n",
              "      <th>mitigated_predictor_via_gridsearch</th>\n",
              "      <td>0.004939</td>\n",
              "      <td>0.002841</td>\n",
              "      <td>0.001766</td>\n",
              "      <td>0.004413</td>\n",
              "      <td>0.003890</td>\n",
              "    </tr>\n",
              "  </tbody>\n",
              "</table>\n",
              "</div>"
            ],
            "text/plain": [
              "                                         FNR  ...  roc_auc_score\n",
              "unmitigated_predictor               0.004939  ...       0.003886\n",
              "mitigated_predictor_via_gridsearch  0.004939  ...       0.003890\n",
              "\n",
              "[2 rows x 5 columns]"
            ]
          },
          "metadata": {
            "tags": []
          },
          "execution_count": 43
        }
      ]
    },
    {
      "cell_type": "code",
      "metadata": {
        "id": "zA8kn2SuVU_-",
        "colab": {
          "base_uri": "https://localhost:8080/",
          "height": 724
        },
        "outputId": "ef31ef62-3f79-467c-82db-0f041de2f423"
      },
      "source": [
        "pd.DataFrame(disparities, index=modelnames).T.plot.bar(figsize=(8, 4), \n",
        "                                                       title='disparities between groups')\n",
        "pd.DataFrame(accuracies, index=modelnames).T.plot.bar(figsize=(8, 4), \n",
        "                                                       title='overall performance')"
      ],
      "execution_count": null,
      "outputs": [
        {
          "output_type": "execute_result",
          "data": {
            "text/plain": [
              "<matplotlib.axes._subplots.AxesSubplot at 0x7f943f7edbd0>"
            ]
          },
          "metadata": {
            "tags": []
          },
          "execution_count": 52
        },
        {
          "output_type": "display_data",
          "data": {
            "image/png": "[encoded data removed]",
            "text/plain": [
              "<Figure size 576x288 with 1 Axes>"
            ]
          },
          "metadata": {
            "tags": [],
            "needs_background": "light"
          }
        },
        {
          "output_type": "display_data",
          "data": {
            "image/png": "[encoded data removed]",
            "text/plain": [
              "<Figure size 576x288 with 1 Axes>"
            ]
          },
          "metadata": {
            "tags": [],
            "needs_background": "light"
          }
        }
      ]
    },
    {
      "cell_type": "markdown",
      "metadata": {
        "id": "pXo9G5kCreTk"
      },
      "source": [
        "How does the best model selected by GridSearch (the \"mitigated_predictor\") compare to the unmitigated predictor in terms of disparities between groups and overall performance?\n",
        "\n"
      ]
    },
    {
      "cell_type": "markdown",
      "metadata": {
        "id": "zdGuiOvXrpxO"
      },
      "source": [
        "**Write your answer in this text cell:**\n",
        "\n",
        "It apprears to be exactly the same, but just slightly boosted in accuracy and AUC."
      ]
    },
    {
      "cell_type": "markdown",
      "metadata": {
        "id": "KgXarsVFPnw8"
      },
      "source": [
        "We can also inspect all trained models within GridSearch:\n",
        "\n"
      ]
    },
    {
      "cell_type": "code",
      "metadata": {
        "id": "MEbHtq_vnScz"
      },
      "source": [
        "#get performance for the mitigated predictors from GridSearch\n",
        "for i, predictor in enumerate(sweep.predictors_):\n",
        "    accuracy_metric_frame = MetricFrame(metric_fns, \n",
        "                                        y_test, predictor.predict(X_test_), \n",
        "                                        sensitive_features=A_test['gender'])\n",
        "    \n",
        "    accuracies.append(accuracy_metric_frame.overall)\n",
        "    disparities.append(accuracy_metric_frame.ratio(method='to_overall'))\n",
        "    modelnames.append(f\"grid_{i}\")\n",
        "\n",
        "disparities = pd.DataFrame(disparities, index=modelnames)\n",
        "accuracies = pd.DataFrame(accuracies, index=modelnames)"
      ],
      "execution_count": null,
      "outputs": []
    },
    {
      "cell_type": "code",
      "metadata": {
        "id": "1Rfzn-VAF_rU",
        "colab": {
          "base_uri": "https://localhost:8080/",
          "height": 1000
        },
        "outputId": "afcaadeb-e2f7-44a9-9d93-405e46915126"
      },
      "source": [
        "# We can compare mitigated models' overall performance to the baseline model with above introduce metrics.    \n",
        "accuracies.plot.bar(subplots=True, figsize=(10, 14))"
      ],
      "execution_count": null,
      "outputs": [
        {
          "output_type": "execute_result",
          "data": {
            "text/plain": [
              "array([<matplotlib.axes._subplots.AxesSubplot object at 0x7f943f73af10>,\n",
              "       <matplotlib.axes._subplots.AxesSubplot object at 0x7f943f731290>,\n",
              "       <matplotlib.axes._subplots.AxesSubplot object at 0x7f943f6fc810>,\n",
              "       <matplotlib.axes._subplots.AxesSubplot object at 0x7f943f79ff10>,\n",
              "       <matplotlib.axes._subplots.AxesSubplot object at 0x7f943f797690>],\n",
              "      dtype=object)"
            ]
          },
          "metadata": {
            "tags": []
          },
          "execution_count": 47
        },
        {
          "output_type": "display_data",
          "data": {
            "image/png": "[encoded data removed]",
            "text/plain": [
              "<Figure size 720x1008 with 5 Axes>"
            ]
          },
          "metadata": {
            "tags": [],
            "needs_background": "light"
          }
        }
      ]
    },
    {
      "cell_type": "code",
      "metadata": {
        "id": "jj5F5qLaZYSd",
        "colab": {
          "base_uri": "https://localhost:8080/",
          "height": 1000
        },
        "outputId": "f7ce8397-0bad-436c-a47d-43dcfac9d552"
      },
      "source": [
        "disparities.plot.bar(subplots=True, figsize=(10, 14))"
      ],
      "execution_count": null,
      "outputs": [
        {
          "output_type": "execute_result",
          "data": {
            "text/plain": [
              "array([<matplotlib.axes._subplots.AxesSubplot object at 0x7f943f7876d0>,\n",
              "       <matplotlib.axes._subplots.AxesSubplot object at 0x7f944844d5d0>,\n",
              "       <matplotlib.axes._subplots.AxesSubplot object at 0x7f943f7d8910>,\n",
              "       <matplotlib.axes._subplots.AxesSubplot object at 0x7f9448535290>,\n",
              "       <matplotlib.axes._subplots.AxesSubplot object at 0x7f9448491290>],\n",
              "      dtype=object)"
            ]
          },
          "metadata": {
            "tags": []
          },
          "execution_count": 48
        },
        {
          "output_type": "display_data",
          "data": {
            "image/png": "[encoded data removed]",
            "text/plain": [
              "<Figure size 720x1008 with 5 Axes>"
            ]
          },
          "metadata": {
            "tags": [],
            "needs_background": "light"
          }
        }
      ]
    },
    {
      "cell_type": "markdown",
      "metadata": {
        "id": "TxSdjSEF4H8Q"
      },
      "source": [
        "### Mitigating Difference with Postprocessing\n",
        "\n",
        "We attempt to mitigate the disparities in the classifier using the Fairlearn postprocessing algorithm **ThresholdOptimizer**. This algorithm finds a suitable threshold for the scores (class probabilities) produced by the model by optimizing the accuracy rate under the constraint that the equalized odds (with respect to the sensitive feature and the outcome) is zero, using the training data. Here we consider race as the sensitive feature."
      ]
    },
    {
      "cell_type": "code",
      "metadata": {
        "id": "5p24sczm1NZy"
      },
      "source": [
        "from fairlearn.postprocessing import ThresholdOptimizer, plot_threshold_optimizer\n",
        "postprocess_est = ThresholdOptimizer(\n",
        "    estimator=unmitigated_predictor.named_steps['classifier'],\n",
        "    constraints=\"false_negative_rate_parity\",\n",
        "    objective='balanced_accuracy_score'\n",
        "    )"
      ],
      "execution_count": null,
      "outputs": []
    },
    {
      "cell_type": "code",
      "metadata": {
        "id": "IqTLLSWC2e__",
        "colab": {
          "base_uri": "https://localhost:8080/"
        },
        "outputId": "80b63155-aa48-4610-e632-08f352dc1660"
      },
      "source": [
        "postprocess_est.fit(X_train_.toarray(), y_train, \n",
        "                    sensitive_features=A_train['race'])"
      ],
      "execution_count": null,
      "outputs": [
        {
          "output_type": "execute_result",
          "data": {
            "text/plain": [
              "ThresholdOptimizer(constraints='false_negative_rate_parity',\n",
              "                   estimator=LogisticRegression(C=0.1,\n",
              "                                                class_weight={0: 1, 1: 10},\n",
              "                                                max_iter=1000),\n",
              "                   objective='balanced_accuracy_score')"
            ]
          },
          "metadata": {
            "tags": []
          },
          "execution_count": 54
        }
      ]
    },
    {
      "cell_type": "code",
      "metadata": {
        "id": "6470CHcE3Mxj"
      },
      "source": [
        "postprocess_preds = postprocess_est.predict(X_test_.toarray(),\n",
        "                                            sensitive_features=A_test['race'])"
      ],
      "execution_count": null,
      "outputs": []
    },
    {
      "cell_type": "markdown",
      "metadata": {
        "id": "Kh1AOvdzac5C"
      },
      "source": [
        "Fairlearn provides the following function,`plot_threshold_optimizer`, to interprete how is the decision maked in `ThresholdOptimizer`. It seeks a threhold for predicted scores that can minimize the disparity estimated by the `constraints` (*false_negative_rate_parity*) and the performance estimated by the `objective`  (*balanced_accuracy_score*). "
      ]
    },
    {
      "cell_type": "code",
      "metadata": {
        "id": "XuHhozoA4jN2",
        "colab": {
          "base_uri": "https://localhost:8080/",
          "height": 280
        },
        "outputId": "23848739-b44d-40e0-e9b5-308f33eb9864"
      },
      "source": [
        "plot_threshold_optimizer(postprocess_est, ax=None, show_plot=True)"
      ],
      "execution_count": null,
      "outputs": [
        {
          "output_type": "display_data",
          "data": {
            "image/png": "[encoded data removed]",
            "text/plain": [
              "<Figure size 432x288 with 1 Axes>"
            ]
          },
          "metadata": {
            "tags": [],
            "needs_background": "light"
          }
        }
      ]
    },
    {
      "cell_type": "markdown",
      "metadata": {
        "id": "JCYi71wfbUHu"
      },
      "source": [
        "Let's further compare the mitigated and unmitigated models' performance."
      ]
    },
    {
      "cell_type": "code",
      "metadata": {
        "id": "mE9dMVG27mzG"
      },
      "source": [
        "metric_fns = {'FNR': false_negative_rate, \n",
        "              'FPR': false_positive_rate, \n",
        "              'accuracy': skm.accuracy_score,\n",
        "              'average_precision': skm.average_precision_score,\n",
        "              'roc_auc_score': insensitive_roc_auc \n",
        "              }\n",
        "\n",
        "modelnames, accuracies, disparities = [], [], []\n",
        "\n",
        "#get performance for the unmitigated_predictor \n",
        "accuracy_metric_frame = MetricFrame(metric_fns, \n",
        "                                    y_test, y_pred, \n",
        "                                    sensitive_features=A_test['race'])\n",
        "\n",
        "accuracies.append(accuracy_metric_frame.overall)\n",
        "disparities.append(accuracy_metric_frame.ratio(method='to_overall'))\n",
        "modelnames.append('unmitigated_predictor')\n",
        "\n",
        "#get performance for the mitigated predictor from GridSearch\n",
        "accuracy_metric_frame = MetricFrame(metric_fns, \n",
        "                                    y_test, postprocess_preds, \n",
        "                                    sensitive_features=A_test['race'])\n",
        "\n",
        "accuracies.append(accuracy_metric_frame.overall)\n",
        "disparities.append(accuracy_metric_frame.ratio(method='to_overall'))\n",
        "modelnames.append('mitigated_predictor')\n"
      ],
      "execution_count": null,
      "outputs": []
    },
    {
      "cell_type": "markdown",
      "metadata": {
        "id": "m1oFrgKrs7Fy"
      },
      "source": [
        "Plot the disparities between groups and overall accuracy metrics for the unmitigated and mitigated predictors below:"
      ]
    },
    {
      "cell_type": "code",
      "metadata": {
        "id": "xD03wVjNbwRt",
        "colab": {
          "base_uri": "https://localhost:8080/",
          "height": 724
        },
        "outputId": "9f0ee81e-1a5e-4bc0-a25d-1aba999e788d"
      },
      "source": [
        "# write your code here\n",
        "pd.DataFrame(disparities, index = modelnames).T.plot.bar(figsize =(8,4),\n",
        "                                                        title = 'disparities between groups')\n",
        "pd.DataFrame(accuracies, index = modelnames).T.plot.bar(figsize =(8,4),\n",
        "                                                        title = 'overall performance')"
      ],
      "execution_count": null,
      "outputs": [
        {
          "output_type": "execute_result",
          "data": {
            "text/plain": [
              "<matplotlib.axes._subplots.AxesSubplot at 0x7f943f855050>"
            ]
          },
          "metadata": {
            "tags": []
          },
          "execution_count": 60
        },
        {
          "output_type": "display_data",
          "data": {
            "image/png": "[encoded data removed]",
            "text/plain": [
              "<Figure size 576x288 with 1 Axes>"
            ]
          },
          "metadata": {
            "tags": [],
            "needs_background": "light"
          }
        },
        {
          "output_type": "display_data",
          "data": {
            "image/png": "[encoded data removed]",
            "text/plain": [
              "<Figure size 576x288 with 1 Axes>"
            ]
          },
          "metadata": {
            "tags": [],
            "needs_background": "light"
          }
        }
      ]
    },
    {
      "cell_type": "code",
      "metadata": {
        "id": "BtDJyxkwb3Oj",
        "colab": {
          "base_uri": "https://localhost:8080/",
          "height": 266
        },
        "outputId": "98c4664c-cf14-43ae-da5e-f55368c3bfb8"
      },
      "source": [
        "accuracy_metric_frame.by_group"
      ],
      "execution_count": null,
      "outputs": [
        {
          "output_type": "execute_result",
          "data": {
            "text/html": [
              "<div>\n",
              "<style scoped>\n",
              "    .dataframe tbody tr th:only-of-type {\n",
              "        vertical-align: middle;\n",
              "    }\n",
              "\n",
              "    .dataframe tbody tr th {\n",
              "        vertical-align: top;\n",
              "    }\n",
              "\n",
              "    .dataframe thead th {\n",
              "        text-align: right;\n",
              "    }\n",
              "</style>\n",
              "<table border=\"1\" class=\"dataframe\">\n",
              "  <thead>\n",
              "    <tr style=\"text-align: right;\">\n",
              "      <th></th>\n",
              "      <th>FNR</th>\n",
              "      <th>FPR</th>\n",
              "      <th>accuracy</th>\n",
              "      <th>average_precision</th>\n",
              "      <th>roc_auc_score</th>\n",
              "    </tr>\n",
              "    <tr>\n",
              "      <th>race</th>\n",
              "      <th></th>\n",
              "      <th></th>\n",
              "      <th></th>\n",
              "      <th></th>\n",
              "      <th></th>\n",
              "    </tr>\n",
              "  </thead>\n",
              "  <tbody>\n",
              "    <tr>\n",
              "      <th>?</th>\n",
              "      <td>0.826087</td>\n",
              "      <td>0.20479</td>\n",
              "      <td>0.778555</td>\n",
              "      <td>0.0261197</td>\n",
              "      <td>0.484561</td>\n",
              "    </tr>\n",
              "    <tr>\n",
              "      <th>AfricanAmerican</th>\n",
              "      <td>0.714286</td>\n",
              "      <td>0.0725806</td>\n",
              "      <td>0.909804</td>\n",
              "      <td>0.0481793</td>\n",
              "      <td>0.606567</td>\n",
              "    </tr>\n",
              "    <tr>\n",
              "      <th>Asian</th>\n",
              "      <td>0.916667</td>\n",
              "      <td>0.0366972</td>\n",
              "      <td>0.917391</td>\n",
              "      <td>0.0570853</td>\n",
              "      <td>0.523318</td>\n",
              "    </tr>\n",
              "    <tr>\n",
              "      <th>Caucasian</th>\n",
              "      <td>0.751991</td>\n",
              "      <td>0.0811227</td>\n",
              "      <td>0.889925</td>\n",
              "      <td>0.0625062</td>\n",
              "      <td>0.583443</td>\n",
              "    </tr>\n",
              "    <tr>\n",
              "      <th>Hispanic</th>\n",
              "      <td>0.666667</td>\n",
              "      <td>0.0682226</td>\n",
              "      <td>0.90411</td>\n",
              "      <td>0.0946517</td>\n",
              "      <td>0.632555</td>\n",
              "    </tr>\n",
              "    <tr>\n",
              "      <th>Other</th>\n",
              "      <td>0.666667</td>\n",
              "      <td>0.209644</td>\n",
              "      <td>0.781893</td>\n",
              "      <td>0.0220544</td>\n",
              "      <td>0.561845</td>\n",
              "    </tr>\n",
              "  </tbody>\n",
              "</table>\n",
              "</div>"
            ],
            "text/plain": [
              "                      FNR        FPR  accuracy average_precision roc_auc_score\n",
              "race                                                                          \n",
              "?                0.826087    0.20479  0.778555         0.0261197      0.484561\n",
              "AfricanAmerican  0.714286  0.0725806  0.909804         0.0481793      0.606567\n",
              "Asian            0.916667  0.0366972  0.917391         0.0570853      0.523318\n",
              "Caucasian        0.751991  0.0811227  0.889925         0.0625062      0.583443\n",
              "Hispanic         0.666667  0.0682226   0.90411         0.0946517      0.632555\n",
              "Other            0.666667   0.209644  0.781893         0.0220544      0.561845"
            ]
          },
          "metadata": {
            "tags": []
          },
          "execution_count": 61
        }
      ]
    },
    {
      "cell_type": "code",
      "metadata": {
        "id": "Wl3Ri29AcGUp",
        "colab": {
          "base_uri": "https://localhost:8080/",
          "height": 266
        },
        "outputId": "e67da99c-9581-4c4c-a859-230e0b7ea934"
      },
      "source": [
        "accuracy_metric_frame = MetricFrame(metric_fns, \n",
        "                                    y_test, y_pred, \n",
        "                                    sensitive_features=A_test['race'])\n",
        "accuracy_metric_frame.by_group"
      ],
      "execution_count": null,
      "outputs": [
        {
          "output_type": "execute_result",
          "data": {
            "text/html": [
              "<div>\n",
              "<style scoped>\n",
              "    .dataframe tbody tr th:only-of-type {\n",
              "        vertical-align: middle;\n",
              "    }\n",
              "\n",
              "    .dataframe tbody tr th {\n",
              "        vertical-align: top;\n",
              "    }\n",
              "\n",
              "    .dataframe thead th {\n",
              "        text-align: right;\n",
              "    }\n",
              "</style>\n",
              "<table border=\"1\" class=\"dataframe\">\n",
              "  <thead>\n",
              "    <tr style=\"text-align: right;\">\n",
              "      <th></th>\n",
              "      <th>FNR</th>\n",
              "      <th>FPR</th>\n",
              "      <th>accuracy</th>\n",
              "      <th>average_precision</th>\n",
              "      <th>roc_auc_score</th>\n",
              "    </tr>\n",
              "    <tr>\n",
              "      <th>race</th>\n",
              "      <th></th>\n",
              "      <th></th>\n",
              "      <th></th>\n",
              "      <th></th>\n",
              "      <th></th>\n",
              "    </tr>\n",
              "  </thead>\n",
              "  <tbody>\n",
              "    <tr>\n",
              "      <th>?</th>\n",
              "      <td>0.826087</td>\n",
              "      <td>0.039521</td>\n",
              "      <td>0.939394</td>\n",
              "      <td>0.0409459</td>\n",
              "      <td>0.567196</td>\n",
              "    </tr>\n",
              "    <tr>\n",
              "      <th>AfricanAmerican</th>\n",
              "      <td>0.714286</td>\n",
              "      <td>0.0600594</td>\n",
              "      <td>0.921981</td>\n",
              "      <td>0.0534307</td>\n",
              "      <td>0.612827</td>\n",
              "    </tr>\n",
              "    <tr>\n",
              "      <th>Asian</th>\n",
              "      <td>0.833333</td>\n",
              "      <td>0.0458716</td>\n",
              "      <td>0.913043</td>\n",
              "      <td>0.071256</td>\n",
              "      <td>0.560398</td>\n",
              "    </tr>\n",
              "    <tr>\n",
              "      <th>Caucasian</th>\n",
              "      <td>0.751991</td>\n",
              "      <td>0.0810714</td>\n",
              "      <td>0.889974</td>\n",
              "      <td>0.0625229</td>\n",
              "      <td>0.583469</td>\n",
              "    </tr>\n",
              "    <tr>\n",
              "      <th>Hispanic</th>\n",
              "      <td>0.666667</td>\n",
              "      <td>0.0843806</td>\n",
              "      <td>0.888699</td>\n",
              "      <td>0.0843933</td>\n",
              "      <td>0.624476</td>\n",
              "    </tr>\n",
              "    <tr>\n",
              "      <th>Other</th>\n",
              "      <td>0.888889</td>\n",
              "      <td>0.0587002</td>\n",
              "      <td>0.925926</td>\n",
              "      <td>0.0202923</td>\n",
              "      <td>0.526205</td>\n",
              "    </tr>\n",
              "  </tbody>\n",
              "</table>\n",
              "</div>"
            ],
            "text/plain": [
              "                      FNR        FPR  accuracy average_precision roc_auc_score\n",
              "race                                                                          \n",
              "?                0.826087   0.039521  0.939394         0.0409459      0.567196\n",
              "AfricanAmerican  0.714286  0.0600594  0.921981         0.0534307      0.612827\n",
              "Asian            0.833333  0.0458716  0.913043          0.071256      0.560398\n",
              "Caucasian        0.751991  0.0810714  0.889974         0.0625229      0.583469\n",
              "Hispanic         0.666667  0.0843806  0.888699         0.0843933      0.624476\n",
              "Other            0.888889  0.0587002  0.925926         0.0202923      0.526205"
            ]
          },
          "metadata": {
            "tags": []
          },
          "execution_count": 62
        }
      ]
    },
    {
      "cell_type": "markdown",
      "metadata": {
        "id": "S864ArNwsDoa"
      },
      "source": [
        "How do the unmitigated and mitigated predictors compare?"
      ]
    },
    {
      "cell_type": "markdown",
      "metadata": {
        "id": "Gpbc-wgfsMyq"
      },
      "source": [
        "**Write your answer in this text cell:**\n",
        "\n",
        "The mitigated predictor appears to be slightly more accurate than the unmitigated one, but the precision also falls."
      ]
    },
    {
      "cell_type": "markdown",
      "metadata": {
        "id": "rzLEX9JlAW8m"
      },
      "source": [
        "Submit this lab notebook by **5pm ET on Friday 5 \n",
        "March**."
      ]
    }
  ]
}