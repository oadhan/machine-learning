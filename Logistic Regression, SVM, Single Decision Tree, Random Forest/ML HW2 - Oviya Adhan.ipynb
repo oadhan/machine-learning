{
 "cells": [
  {
   "cell_type": "markdown",
   "id": "a1221584",
   "metadata": {},
   "source": [
    "# Homework 2 - Intro to Machine Learning"
   ]
  },
  {
   "cell_type": "markdown",
   "id": "0601d093",
   "metadata": {},
   "source": [
    "### Oviya Adhan"
   ]
  },
  {
   "cell_type": "code",
   "execution_count": 1,
   "id": "34c04ba7",
   "metadata": {},
   "outputs": [],
   "source": [
    "#Import packages\n",
    "import numpy as np\n",
    "import scipy\n",
    "import sklearn\n",
    "import matplotlib.pyplot as plt\n",
    "from sklearn import metrics\n",
    "from sklearn import model_selection\n",
    "from sklearn.linear_model import LinearRegression, LogisticRegression, Ridge, Lasso\n",
    "import pandas as pd\n",
    "import autograd.numpy as np\n",
    "from autograd import grad"
   ]
  },
  {
   "cell_type": "code",
   "execution_count": 2,
   "id": "8277b94d",
   "metadata": {},
   "outputs": [
    {
     "name": "stdout",
     "output_type": "stream",
     "text": [
      "(62642, 27)\n"
     ]
    },
    {
     "data": {
      "text/html": [
       "<div>\n",
       "<style scoped>\n",
       "    .dataframe tbody tr th:only-of-type {\n",
       "        vertical-align: middle;\n",
       "    }\n",
       "\n",
       "    .dataframe tbody tr th {\n",
       "        vertical-align: top;\n",
       "    }\n",
       "\n",
       "    .dataframe thead th {\n",
       "        text-align: right;\n",
       "    }\n",
       "</style>\n",
       "<table border=\"1\" class=\"dataframe\">\n",
       "  <thead>\n",
       "    <tr style=\"text-align: right;\">\n",
       "      <th></th>\n",
       "      <th>company</th>\n",
       "      <th>title</th>\n",
       "      <th>location</th>\n",
       "      <th>totalyearlycompensation</th>\n",
       "      <th>basesalary</th>\n",
       "      <th>stockgrantvalue</th>\n",
       "      <th>bonus</th>\n",
       "      <th>yearsofexperience</th>\n",
       "      <th>yearsatcompany</th>\n",
       "      <th>gender</th>\n",
       "      <th>...</th>\n",
       "      <th>Race_Two_Or_More</th>\n",
       "      <th>Race_Black</th>\n",
       "      <th>Race_Hispanic</th>\n",
       "      <th>Race</th>\n",
       "      <th>Education</th>\n",
       "      <th>Age</th>\n",
       "      <th>Height</th>\n",
       "      <th>Zodiac</th>\n",
       "      <th>SAT</th>\n",
       "      <th>GPA</th>\n",
       "    </tr>\n",
       "  </thead>\n",
       "  <tbody>\n",
       "    <tr>\n",
       "      <th>0</th>\n",
       "      <td>Oracle</td>\n",
       "      <td>Product Manager</td>\n",
       "      <td>Redwood City, CA</td>\n",
       "      <td>127000</td>\n",
       "      <td>107000</td>\n",
       "      <td>20000.0</td>\n",
       "      <td>10000.0</td>\n",
       "      <td>1.5</td>\n",
       "      <td>1.5</td>\n",
       "      <td>NaN</td>\n",
       "      <td>...</td>\n",
       "      <td>0</td>\n",
       "      <td>0</td>\n",
       "      <td>0</td>\n",
       "      <td>NaN</td>\n",
       "      <td>NaN</td>\n",
       "      <td>38</td>\n",
       "      <td>68.590</td>\n",
       "      <td>5</td>\n",
       "      <td>829</td>\n",
       "      <td>2.13</td>\n",
       "    </tr>\n",
       "    <tr>\n",
       "      <th>1</th>\n",
       "      <td>eBay</td>\n",
       "      <td>Software Engineer</td>\n",
       "      <td>San Francisco, CA</td>\n",
       "      <td>100000</td>\n",
       "      <td>0</td>\n",
       "      <td>0.0</td>\n",
       "      <td>0.0</td>\n",
       "      <td>5.0</td>\n",
       "      <td>3.0</td>\n",
       "      <td>NaN</td>\n",
       "      <td>...</td>\n",
       "      <td>0</td>\n",
       "      <td>0</td>\n",
       "      <td>0</td>\n",
       "      <td>NaN</td>\n",
       "      <td>NaN</td>\n",
       "      <td>34</td>\n",
       "      <td>68.059</td>\n",
       "      <td>7</td>\n",
       "      <td>993</td>\n",
       "      <td>2.77</td>\n",
       "    </tr>\n",
       "    <tr>\n",
       "      <th>2</th>\n",
       "      <td>Amazon</td>\n",
       "      <td>Product Manager</td>\n",
       "      <td>Seattle, WA</td>\n",
       "      <td>310000</td>\n",
       "      <td>155000</td>\n",
       "      <td>0.0</td>\n",
       "      <td>0.0</td>\n",
       "      <td>8.0</td>\n",
       "      <td>0.0</td>\n",
       "      <td>NaN</td>\n",
       "      <td>...</td>\n",
       "      <td>0</td>\n",
       "      <td>0</td>\n",
       "      <td>0</td>\n",
       "      <td>NaN</td>\n",
       "      <td>NaN</td>\n",
       "      <td>42</td>\n",
       "      <td>61.343</td>\n",
       "      <td>3</td>\n",
       "      <td>1200</td>\n",
       "      <td>3.26</td>\n",
       "    </tr>\n",
       "    <tr>\n",
       "      <th>3</th>\n",
       "      <td>Apple</td>\n",
       "      <td>Software Engineering Manager</td>\n",
       "      <td>Sunnyvale, CA</td>\n",
       "      <td>372000</td>\n",
       "      <td>157000</td>\n",
       "      <td>180000.0</td>\n",
       "      <td>35000.0</td>\n",
       "      <td>7.0</td>\n",
       "      <td>5.0</td>\n",
       "      <td>NaN</td>\n",
       "      <td>...</td>\n",
       "      <td>0</td>\n",
       "      <td>0</td>\n",
       "      <td>0</td>\n",
       "      <td>NaN</td>\n",
       "      <td>NaN</td>\n",
       "      <td>28</td>\n",
       "      <td>66.495</td>\n",
       "      <td>3</td>\n",
       "      <td>1170</td>\n",
       "      <td>3.07</td>\n",
       "    </tr>\n",
       "    <tr>\n",
       "      <th>4</th>\n",
       "      <td>Microsoft</td>\n",
       "      <td>Software Engineer</td>\n",
       "      <td>Mountain View, CA</td>\n",
       "      <td>157000</td>\n",
       "      <td>0</td>\n",
       "      <td>0.0</td>\n",
       "      <td>0.0</td>\n",
       "      <td>5.0</td>\n",
       "      <td>3.0</td>\n",
       "      <td>NaN</td>\n",
       "      <td>...</td>\n",
       "      <td>0</td>\n",
       "      <td>0</td>\n",
       "      <td>0</td>\n",
       "      <td>NaN</td>\n",
       "      <td>NaN</td>\n",
       "      <td>34</td>\n",
       "      <td>69.015</td>\n",
       "      <td>2</td>\n",
       "      <td>1115</td>\n",
       "      <td>2.91</td>\n",
       "    </tr>\n",
       "    <tr>\n",
       "      <th>...</th>\n",
       "      <td>...</td>\n",
       "      <td>...</td>\n",
       "      <td>...</td>\n",
       "      <td>...</td>\n",
       "      <td>...</td>\n",
       "      <td>...</td>\n",
       "      <td>...</td>\n",
       "      <td>...</td>\n",
       "      <td>...</td>\n",
       "      <td>...</td>\n",
       "      <td>...</td>\n",
       "      <td>...</td>\n",
       "      <td>...</td>\n",
       "      <td>...</td>\n",
       "      <td>...</td>\n",
       "      <td>...</td>\n",
       "      <td>...</td>\n",
       "      <td>...</td>\n",
       "      <td>...</td>\n",
       "      <td>...</td>\n",
       "      <td>...</td>\n",
       "    </tr>\n",
       "    <tr>\n",
       "      <th>62637</th>\n",
       "      <td>Google</td>\n",
       "      <td>Software Engineer</td>\n",
       "      <td>Seattle, WA</td>\n",
       "      <td>327000</td>\n",
       "      <td>155000</td>\n",
       "      <td>150000.0</td>\n",
       "      <td>22000.0</td>\n",
       "      <td>10.0</td>\n",
       "      <td>1.0</td>\n",
       "      <td>NaN</td>\n",
       "      <td>...</td>\n",
       "      <td>0</td>\n",
       "      <td>0</td>\n",
       "      <td>0</td>\n",
       "      <td>NaN</td>\n",
       "      <td>NaN</td>\n",
       "      <td>52</td>\n",
       "      <td>64.792</td>\n",
       "      <td>6</td>\n",
       "      <td>1064</td>\n",
       "      <td>2.76</td>\n",
       "    </tr>\n",
       "    <tr>\n",
       "      <th>62638</th>\n",
       "      <td>Microsoft</td>\n",
       "      <td>Software Engineer</td>\n",
       "      <td>Redmond, WA</td>\n",
       "      <td>237000</td>\n",
       "      <td>146900</td>\n",
       "      <td>73200.0</td>\n",
       "      <td>16000.0</td>\n",
       "      <td>2.0</td>\n",
       "      <td>2.0</td>\n",
       "      <td>NaN</td>\n",
       "      <td>...</td>\n",
       "      <td>0</td>\n",
       "      <td>0</td>\n",
       "      <td>0</td>\n",
       "      <td>NaN</td>\n",
       "      <td>NaN</td>\n",
       "      <td>21</td>\n",
       "      <td>69.483</td>\n",
       "      <td>9</td>\n",
       "      <td>1160</td>\n",
       "      <td>3.27</td>\n",
       "    </tr>\n",
       "    <tr>\n",
       "      <th>62639</th>\n",
       "      <td>MSFT</td>\n",
       "      <td>Software Engineer</td>\n",
       "      <td>Seattle, WA</td>\n",
       "      <td>220000</td>\n",
       "      <td>157000</td>\n",
       "      <td>25000.0</td>\n",
       "      <td>20000.0</td>\n",
       "      <td>14.0</td>\n",
       "      <td>12.0</td>\n",
       "      <td>NaN</td>\n",
       "      <td>...</td>\n",
       "      <td>0</td>\n",
       "      <td>0</td>\n",
       "      <td>0</td>\n",
       "      <td>NaN</td>\n",
       "      <td>NaN</td>\n",
       "      <td>43</td>\n",
       "      <td>62.331</td>\n",
       "      <td>12</td>\n",
       "      <td>1014</td>\n",
       "      <td>2.78</td>\n",
       "    </tr>\n",
       "    <tr>\n",
       "      <th>62640</th>\n",
       "      <td>Salesforce</td>\n",
       "      <td>Software Engineer</td>\n",
       "      <td>San Francisco, CA</td>\n",
       "      <td>280000</td>\n",
       "      <td>194688</td>\n",
       "      <td>57000.0</td>\n",
       "      <td>29000.0</td>\n",
       "      <td>8.0</td>\n",
       "      <td>4.0</td>\n",
       "      <td>NaN</td>\n",
       "      <td>...</td>\n",
       "      <td>0</td>\n",
       "      <td>0</td>\n",
       "      <td>0</td>\n",
       "      <td>NaN</td>\n",
       "      <td>NaN</td>\n",
       "      <td>48</td>\n",
       "      <td>70.357</td>\n",
       "      <td>10</td>\n",
       "      <td>1109</td>\n",
       "      <td>3.04</td>\n",
       "    </tr>\n",
       "    <tr>\n",
       "      <th>62641</th>\n",
       "      <td>apple</td>\n",
       "      <td>Software Engineer</td>\n",
       "      <td>Sunnyvale, CA</td>\n",
       "      <td>200000</td>\n",
       "      <td>155000</td>\n",
       "      <td>27000.0</td>\n",
       "      <td>19000.0</td>\n",
       "      <td>0.0</td>\n",
       "      <td>0.0</td>\n",
       "      <td>Male</td>\n",
       "      <td>...</td>\n",
       "      <td>0</td>\n",
       "      <td>0</td>\n",
       "      <td>0</td>\n",
       "      <td>NaN</td>\n",
       "      <td>NaN</td>\n",
       "      <td>34</td>\n",
       "      <td>63.063</td>\n",
       "      <td>1</td>\n",
       "      <td>1219</td>\n",
       "      <td>3.21</td>\n",
       "    </tr>\n",
       "  </tbody>\n",
       "</table>\n",
       "<p>62642 rows × 27 columns</p>\n",
       "</div>"
      ],
      "text/plain": [
       "          company                         title           location  \\\n",
       "0          Oracle               Product Manager   Redwood City, CA   \n",
       "1            eBay             Software Engineer  San Francisco, CA   \n",
       "2          Amazon               Product Manager        Seattle, WA   \n",
       "3           Apple  Software Engineering Manager      Sunnyvale, CA   \n",
       "4       Microsoft             Software Engineer  Mountain View, CA   \n",
       "...           ...                           ...                ...   \n",
       "62637      Google             Software Engineer        Seattle, WA   \n",
       "62638   Microsoft             Software Engineer        Redmond, WA   \n",
       "62639        MSFT             Software Engineer        Seattle, WA   \n",
       "62640  Salesforce             Software Engineer  San Francisco, CA   \n",
       "62641       apple             Software Engineer      Sunnyvale, CA   \n",
       "\n",
       "       totalyearlycompensation  basesalary  stockgrantvalue    bonus  \\\n",
       "0                       127000      107000          20000.0  10000.0   \n",
       "1                       100000           0              0.0      0.0   \n",
       "2                       310000      155000              0.0      0.0   \n",
       "3                       372000      157000         180000.0  35000.0   \n",
       "4                       157000           0              0.0      0.0   \n",
       "...                        ...         ...              ...      ...   \n",
       "62637                   327000      155000         150000.0  22000.0   \n",
       "62638                   237000      146900          73200.0  16000.0   \n",
       "62639                   220000      157000          25000.0  20000.0   \n",
       "62640                   280000      194688          57000.0  29000.0   \n",
       "62641                   200000      155000          27000.0  19000.0   \n",
       "\n",
       "       yearsofexperience  yearsatcompany gender  ...  Race_Two_Or_More  \\\n",
       "0                    1.5             1.5    NaN  ...                 0   \n",
       "1                    5.0             3.0    NaN  ...                 0   \n",
       "2                    8.0             0.0    NaN  ...                 0   \n",
       "3                    7.0             5.0    NaN  ...                 0   \n",
       "4                    5.0             3.0    NaN  ...                 0   \n",
       "...                  ...             ...    ...  ...               ...   \n",
       "62637               10.0             1.0    NaN  ...                 0   \n",
       "62638                2.0             2.0    NaN  ...                 0   \n",
       "62639               14.0            12.0    NaN  ...                 0   \n",
       "62640                8.0             4.0    NaN  ...                 0   \n",
       "62641                0.0             0.0   Male  ...                 0   \n",
       "\n",
       "       Race_Black  Race_Hispanic  Race  Education  Age  Height  Zodiac   SAT  \\\n",
       "0               0              0   NaN        NaN   38  68.590       5   829   \n",
       "1               0              0   NaN        NaN   34  68.059       7   993   \n",
       "2               0              0   NaN        NaN   42  61.343       3  1200   \n",
       "3               0              0   NaN        NaN   28  66.495       3  1170   \n",
       "4               0              0   NaN        NaN   34  69.015       2  1115   \n",
       "...           ...            ...   ...        ...  ...     ...     ...   ...   \n",
       "62637           0              0   NaN        NaN   52  64.792       6  1064   \n",
       "62638           0              0   NaN        NaN   21  69.483       9  1160   \n",
       "62639           0              0   NaN        NaN   43  62.331      12  1014   \n",
       "62640           0              0   NaN        NaN   48  70.357      10  1109   \n",
       "62641           0              0   NaN        NaN   34  63.063       1  1219   \n",
       "\n",
       "        GPA  \n",
       "0      2.13  \n",
       "1      2.77  \n",
       "2      3.26  \n",
       "3      3.07  \n",
       "4      2.91  \n",
       "...     ...  \n",
       "62637  2.76  \n",
       "62638  3.27  \n",
       "62639  2.78  \n",
       "62640  3.04  \n",
       "62641  3.21  \n",
       "\n",
       "[62642 rows x 27 columns]"
      ]
     },
     "execution_count": 2,
     "metadata": {},
     "output_type": "execute_result"
    }
   ],
   "source": [
    "#Loading data\n",
    "data = pd.read_csv('techSalaries2017.csv')\n",
    "print(data.shape)\n",
    "data"
   ]
  },
  {
   "cell_type": "code",
   "execution_count": 3,
   "id": "8cde1284",
   "metadata": {},
   "outputs": [
    {
     "name": "stdout",
     "output_type": "stream",
     "text": [
      "0.0    17603\n",
      "1.0     3880\n",
      "Name: gender, dtype: int64\n"
     ]
    },
    {
     "name": "stderr",
     "output_type": "stream",
     "text": [
      "/Users/oviya/opt/anaconda3/lib/python3.7/site-packages/pandas/core/indexing.py:1817: SettingWithCopyWarning: \n",
      "A value is trying to be set on a copy of a slice from a DataFrame.\n",
      "Try using .loc[row_indexer,col_indexer] = value instead\n",
      "\n",
      "See the caveats in the documentation: https://pandas.pydata.org/pandas-docs/stable/user_guide/indexing.html#returning-a-view-versus-a-copy\n",
      "  self._setitem_single_column(loc, value, pi)\n"
     ]
    },
    {
     "data": {
      "text/html": [
       "<div>\n",
       "<style scoped>\n",
       "    .dataframe tbody tr th:only-of-type {\n",
       "        vertical-align: middle;\n",
       "    }\n",
       "\n",
       "    .dataframe tbody tr th {\n",
       "        vertical-align: top;\n",
       "    }\n",
       "\n",
       "    .dataframe thead th {\n",
       "        text-align: right;\n",
       "    }\n",
       "</style>\n",
       "<table border=\"1\" class=\"dataframe\">\n",
       "  <thead>\n",
       "    <tr style=\"text-align: right;\">\n",
       "      <th></th>\n",
       "      <th>company</th>\n",
       "      <th>title</th>\n",
       "      <th>location</th>\n",
       "      <th>totalyearlycompensation</th>\n",
       "      <th>basesalary</th>\n",
       "      <th>stockgrantvalue</th>\n",
       "      <th>bonus</th>\n",
       "      <th>yearsofexperience</th>\n",
       "      <th>yearsatcompany</th>\n",
       "      <th>gender</th>\n",
       "      <th>...</th>\n",
       "      <th>Race_Two_Or_More</th>\n",
       "      <th>Race_Black</th>\n",
       "      <th>Race_Hispanic</th>\n",
       "      <th>Race</th>\n",
       "      <th>Education</th>\n",
       "      <th>Age</th>\n",
       "      <th>Height</th>\n",
       "      <th>Zodiac</th>\n",
       "      <th>SAT</th>\n",
       "      <th>GPA</th>\n",
       "    </tr>\n",
       "  </thead>\n",
       "  <tbody>\n",
       "    <tr>\n",
       "      <th>15710</th>\n",
       "      <td>Google</td>\n",
       "      <td>Software Engineer</td>\n",
       "      <td>Sunnyvale, CA</td>\n",
       "      <td>400000</td>\n",
       "      <td>210000</td>\n",
       "      <td>145000.0</td>\n",
       "      <td>45000.0</td>\n",
       "      <td>5.0</td>\n",
       "      <td>5.0</td>\n",
       "      <td>0.0</td>\n",
       "      <td>...</td>\n",
       "      <td>0</td>\n",
       "      <td>0</td>\n",
       "      <td>0</td>\n",
       "      <td>Asian</td>\n",
       "      <td>PhD</td>\n",
       "      <td>45</td>\n",
       "      <td>68.891</td>\n",
       "      <td>9</td>\n",
       "      <td>1166</td>\n",
       "      <td>3.04</td>\n",
       "    </tr>\n",
       "    <tr>\n",
       "      <th>23532</th>\n",
       "      <td>Microsoft</td>\n",
       "      <td>Software Engineer</td>\n",
       "      <td>Redmond, WA</td>\n",
       "      <td>136000</td>\n",
       "      <td>124000</td>\n",
       "      <td>1000.0</td>\n",
       "      <td>11000.0</td>\n",
       "      <td>3.0</td>\n",
       "      <td>2.0</td>\n",
       "      <td>0.0</td>\n",
       "      <td>...</td>\n",
       "      <td>1</td>\n",
       "      <td>0</td>\n",
       "      <td>0</td>\n",
       "      <td>Two Or More</td>\n",
       "      <td>Bachelor's Degree</td>\n",
       "      <td>24</td>\n",
       "      <td>61.454</td>\n",
       "      <td>12</td>\n",
       "      <td>1175</td>\n",
       "      <td>3.07</td>\n",
       "    </tr>\n",
       "    <tr>\n",
       "      <th>23533</th>\n",
       "      <td>Google</td>\n",
       "      <td>Software Engineer</td>\n",
       "      <td>San Bruno, CA</td>\n",
       "      <td>337000</td>\n",
       "      <td>177000</td>\n",
       "      <td>125000.0</td>\n",
       "      <td>36000.0</td>\n",
       "      <td>6.0</td>\n",
       "      <td>6.0</td>\n",
       "      <td>0.0</td>\n",
       "      <td>...</td>\n",
       "      <td>0</td>\n",
       "      <td>0</td>\n",
       "      <td>0</td>\n",
       "      <td>Asian</td>\n",
       "      <td>Bachelor's Degree</td>\n",
       "      <td>25</td>\n",
       "      <td>65.455</td>\n",
       "      <td>1</td>\n",
       "      <td>1268</td>\n",
       "      <td>3.34</td>\n",
       "    </tr>\n",
       "    <tr>\n",
       "      <th>23534</th>\n",
       "      <td>Microsoft</td>\n",
       "      <td>Software Engineer</td>\n",
       "      <td>Seattle, WA</td>\n",
       "      <td>222000</td>\n",
       "      <td>164000</td>\n",
       "      <td>38000.0</td>\n",
       "      <td>20000.0</td>\n",
       "      <td>4.0</td>\n",
       "      <td>4.0</td>\n",
       "      <td>0.0</td>\n",
       "      <td>...</td>\n",
       "      <td>0</td>\n",
       "      <td>0</td>\n",
       "      <td>0</td>\n",
       "      <td>Asian</td>\n",
       "      <td>Master's Degree</td>\n",
       "      <td>32</td>\n",
       "      <td>73.769</td>\n",
       "      <td>8</td>\n",
       "      <td>1070</td>\n",
       "      <td>2.75</td>\n",
       "    </tr>\n",
       "    <tr>\n",
       "      <th>23535</th>\n",
       "      <td>Blend</td>\n",
       "      <td>Software Engineer</td>\n",
       "      <td>San Francisco, CA</td>\n",
       "      <td>187000</td>\n",
       "      <td>165000</td>\n",
       "      <td>22000.0</td>\n",
       "      <td>0.0</td>\n",
       "      <td>5.0</td>\n",
       "      <td>0.0</td>\n",
       "      <td>0.0</td>\n",
       "      <td>...</td>\n",
       "      <td>0</td>\n",
       "      <td>0</td>\n",
       "      <td>0</td>\n",
       "      <td>White</td>\n",
       "      <td>Bachelor's Degree</td>\n",
       "      <td>29</td>\n",
       "      <td>68.710</td>\n",
       "      <td>2</td>\n",
       "      <td>1187</td>\n",
       "      <td>3.23</td>\n",
       "    </tr>\n",
       "    <tr>\n",
       "      <th>...</th>\n",
       "      <td>...</td>\n",
       "      <td>...</td>\n",
       "      <td>...</td>\n",
       "      <td>...</td>\n",
       "      <td>...</td>\n",
       "      <td>...</td>\n",
       "      <td>...</td>\n",
       "      <td>...</td>\n",
       "      <td>...</td>\n",
       "      <td>...</td>\n",
       "      <td>...</td>\n",
       "      <td>...</td>\n",
       "      <td>...</td>\n",
       "      <td>...</td>\n",
       "      <td>...</td>\n",
       "      <td>...</td>\n",
       "      <td>...</td>\n",
       "      <td>...</td>\n",
       "      <td>...</td>\n",
       "      <td>...</td>\n",
       "      <td>...</td>\n",
       "    </tr>\n",
       "    <tr>\n",
       "      <th>61981</th>\n",
       "      <td>Facebook</td>\n",
       "      <td>Software Engineering Manager</td>\n",
       "      <td>Menlo Park, CA</td>\n",
       "      <td>1470000</td>\n",
       "      <td>290000</td>\n",
       "      <td>1100.0</td>\n",
       "      <td>80000.0</td>\n",
       "      <td>9.0</td>\n",
       "      <td>7.0</td>\n",
       "      <td>0.0</td>\n",
       "      <td>...</td>\n",
       "      <td>0</td>\n",
       "      <td>0</td>\n",
       "      <td>0</td>\n",
       "      <td>Asian</td>\n",
       "      <td>Bachelor's Degree</td>\n",
       "      <td>31</td>\n",
       "      <td>68.402</td>\n",
       "      <td>12</td>\n",
       "      <td>1436</td>\n",
       "      <td>3.77</td>\n",
       "    </tr>\n",
       "    <tr>\n",
       "      <th>61982</th>\n",
       "      <td>Google</td>\n",
       "      <td>Product Manager</td>\n",
       "      <td>San Francisco, CA</td>\n",
       "      <td>4500000</td>\n",
       "      <td>450000</td>\n",
       "      <td>3700.0</td>\n",
       "      <td>350000.0</td>\n",
       "      <td>20.0</td>\n",
       "      <td>14.0</td>\n",
       "      <td>0.0</td>\n",
       "      <td>...</td>\n",
       "      <td>0</td>\n",
       "      <td>0</td>\n",
       "      <td>0</td>\n",
       "      <td>Asian</td>\n",
       "      <td>Master's Degree</td>\n",
       "      <td>57</td>\n",
       "      <td>69.195</td>\n",
       "      <td>6</td>\n",
       "      <td>1363</td>\n",
       "      <td>3.50</td>\n",
       "    </tr>\n",
       "    <tr>\n",
       "      <th>61984</th>\n",
       "      <td>Zapier</td>\n",
       "      <td>Software Engineering Manager</td>\n",
       "      <td>Denver, CO</td>\n",
       "      <td>1605000</td>\n",
       "      <td>250000</td>\n",
       "      <td>1305.0</td>\n",
       "      <td>50000.0</td>\n",
       "      <td>16.0</td>\n",
       "      <td>2.0</td>\n",
       "      <td>1.0</td>\n",
       "      <td>...</td>\n",
       "      <td>0</td>\n",
       "      <td>0</td>\n",
       "      <td>0</td>\n",
       "      <td>White</td>\n",
       "      <td>Master's Degree</td>\n",
       "      <td>55</td>\n",
       "      <td>66.902</td>\n",
       "      <td>11</td>\n",
       "      <td>1447</td>\n",
       "      <td>3.77</td>\n",
       "    </tr>\n",
       "    <tr>\n",
       "      <th>61987</th>\n",
       "      <td>Facebook</td>\n",
       "      <td>Software Engineering Manager</td>\n",
       "      <td>Menlo Park, CA</td>\n",
       "      <td>2372000</td>\n",
       "      <td>315000</td>\n",
       "      <td>1933.0</td>\n",
       "      <td>124000.0</td>\n",
       "      <td>22.0</td>\n",
       "      <td>2.0</td>\n",
       "      <td>0.0</td>\n",
       "      <td>...</td>\n",
       "      <td>0</td>\n",
       "      <td>1</td>\n",
       "      <td>0</td>\n",
       "      <td>Black</td>\n",
       "      <td>Master's Degree</td>\n",
       "      <td>50</td>\n",
       "      <td>62.691</td>\n",
       "      <td>8</td>\n",
       "      <td>1513</td>\n",
       "      <td>3.85</td>\n",
       "    </tr>\n",
       "    <tr>\n",
       "      <th>61991</th>\n",
       "      <td>Facebook</td>\n",
       "      <td>Product Manager</td>\n",
       "      <td>Menlo Park, CA</td>\n",
       "      <td>4980000</td>\n",
       "      <td>380000</td>\n",
       "      <td>4400.0</td>\n",
       "      <td>200000.0</td>\n",
       "      <td>17.0</td>\n",
       "      <td>0.0</td>\n",
       "      <td>0.0</td>\n",
       "      <td>...</td>\n",
       "      <td>0</td>\n",
       "      <td>0</td>\n",
       "      <td>0</td>\n",
       "      <td>Asian</td>\n",
       "      <td>Master's Degree</td>\n",
       "      <td>49</td>\n",
       "      <td>65.138</td>\n",
       "      <td>2</td>\n",
       "      <td>1362</td>\n",
       "      <td>3.48</td>\n",
       "    </tr>\n",
       "  </tbody>\n",
       "</table>\n",
       "<p>21483 rows × 27 columns</p>\n",
       "</div>"
      ],
      "text/plain": [
       "         company                         title           location  \\\n",
       "15710     Google             Software Engineer      Sunnyvale, CA   \n",
       "23532  Microsoft             Software Engineer        Redmond, WA   \n",
       "23533     Google             Software Engineer      San Bruno, CA   \n",
       "23534  Microsoft             Software Engineer        Seattle, WA   \n",
       "23535      Blend             Software Engineer  San Francisco, CA   \n",
       "...          ...                           ...                ...   \n",
       "61981   Facebook  Software Engineering Manager     Menlo Park, CA   \n",
       "61982     Google               Product Manager  San Francisco, CA   \n",
       "61984     Zapier  Software Engineering Manager         Denver, CO   \n",
       "61987   Facebook  Software Engineering Manager     Menlo Park, CA   \n",
       "61991   Facebook               Product Manager     Menlo Park, CA   \n",
       "\n",
       "       totalyearlycompensation  basesalary  stockgrantvalue     bonus  \\\n",
       "15710                   400000      210000         145000.0   45000.0   \n",
       "23532                   136000      124000           1000.0   11000.0   \n",
       "23533                   337000      177000         125000.0   36000.0   \n",
       "23534                   222000      164000          38000.0   20000.0   \n",
       "23535                   187000      165000          22000.0       0.0   \n",
       "...                        ...         ...              ...       ...   \n",
       "61981                  1470000      290000           1100.0   80000.0   \n",
       "61982                  4500000      450000           3700.0  350000.0   \n",
       "61984                  1605000      250000           1305.0   50000.0   \n",
       "61987                  2372000      315000           1933.0  124000.0   \n",
       "61991                  4980000      380000           4400.0  200000.0   \n",
       "\n",
       "       yearsofexperience  yearsatcompany gender  ...  Race_Two_Or_More  \\\n",
       "15710                5.0             5.0    0.0  ...                 0   \n",
       "23532                3.0             2.0    0.0  ...                 1   \n",
       "23533                6.0             6.0    0.0  ...                 0   \n",
       "23534                4.0             4.0    0.0  ...                 0   \n",
       "23535                5.0             0.0    0.0  ...                 0   \n",
       "...                  ...             ...    ...  ...               ...   \n",
       "61981                9.0             7.0    0.0  ...                 0   \n",
       "61982               20.0            14.0    0.0  ...                 0   \n",
       "61984               16.0             2.0    1.0  ...                 0   \n",
       "61987               22.0             2.0    0.0  ...                 0   \n",
       "61991               17.0             0.0    0.0  ...                 0   \n",
       "\n",
       "       Race_Black  Race_Hispanic         Race          Education  Age  Height  \\\n",
       "15710           0              0        Asian                PhD   45  68.891   \n",
       "23532           0              0  Two Or More  Bachelor's Degree   24  61.454   \n",
       "23533           0              0        Asian  Bachelor's Degree   25  65.455   \n",
       "23534           0              0        Asian    Master's Degree   32  73.769   \n",
       "23535           0              0        White  Bachelor's Degree   29  68.710   \n",
       "...           ...            ...          ...                ...  ...     ...   \n",
       "61981           0              0        Asian  Bachelor's Degree   31  68.402   \n",
       "61982           0              0        Asian    Master's Degree   57  69.195   \n",
       "61984           0              0        White    Master's Degree   55  66.902   \n",
       "61987           1              0        Black    Master's Degree   50  62.691   \n",
       "61991           0              0        Asian    Master's Degree   49  65.138   \n",
       "\n",
       "       Zodiac   SAT   GPA  \n",
       "15710       9  1166  3.04  \n",
       "23532      12  1175  3.07  \n",
       "23533       1  1268  3.34  \n",
       "23534       8  1070  2.75  \n",
       "23535       2  1187  3.23  \n",
       "...       ...   ...   ...  \n",
       "61981      12  1436  3.77  \n",
       "61982       6  1363  3.50  \n",
       "61984      11  1447  3.77  \n",
       "61987       8  1513  3.85  \n",
       "61991       2  1362  3.48  \n",
       "\n",
       "[21483 rows x 27 columns]"
      ]
     },
     "execution_count": 3,
     "metadata": {},
     "output_type": "execute_result"
    }
   ],
   "source": [
    "#Drop rows w/ NaN values\n",
    "data = data.dropna()\n",
    "\n",
    "# Switch gender to binary for sake of predicition models\n",
    "data.loc[data.gender == 'Male', 'gender'] = 0.0\n",
    "data.loc[data.gender == 'Female', 'gender'] = 1.0\n",
    "data = data.loc[data[\"gender\"] != 'Other']\n",
    "\n",
    "print(data['gender'].value_counts())\n",
    "data"
   ]
  },
  {
   "cell_type": "markdown",
   "id": "61b9f224",
   "metadata": {},
   "source": [
    "## 1. Using multiple linear regression: What is the best predictor of total annual compensation, how much variance is explained by this predictor vs. the full multiple regression model?"
   ]
  },
  {
   "cell_type": "code",
   "execution_count": 4,
   "id": "1d601a41",
   "metadata": {},
   "outputs": [
    {
     "name": "stdout",
     "output_type": "stream",
     "text": [
      "R Squared (full multiple regression model):\n",
      "0.2651132077356605\n"
     ]
    }
   ],
   "source": [
    "#Fit multiple regression with all quanititative predictor variables\n",
    "X = data[['yearsofexperience', 'yearsatcompany','gender', 'Masters_Degree', 'Bachelors_Degree', 'Doctorate_Degree', \n",
    "         'Highschool', 'Some_College', 'Race_Asian', 'Race_White', 'Race_Two_Or_More', 'Race_Black', 'Race_Hispanic',\n",
    "          'Age', 'Height', 'Zodiac', 'SAT', 'GPA']]\n",
    "y = data['totalyearlycompensation']\n",
    "\n",
    "model = LinearRegression().fit(X,y)\n",
    "rSqr_mult_reg = model.score(X,y)\n",
    "print('R Squared (full multiple regression model):')\n",
    "print(rSqr_mult_reg)"
   ]
  },
  {
   "cell_type": "code",
   "execution_count": 5,
   "id": "baf9db9a",
   "metadata": {},
   "outputs": [
    {
     "data": {
      "text/plain": [
       "array([ 8.79165118e+03, -2.30398989e+03, -4.88428956e+03, -1.57360708e+04,\n",
       "       -3.80099855e+04,  5.57373423e+04, -4.95122330e+04, -4.37959538e+04,\n",
       "        1.22538357e+04,  1.59285775e+04,  2.64048020e+04,  1.01719293e+04,\n",
       "        1.14957210e+04, -4.32477763e+01, -2.43163611e+02,  4.86324929e+02,\n",
       "        2.91258901e+02,  7.63268256e+03])"
      ]
     },
     "execution_count": 5,
     "metadata": {},
     "output_type": "execute_result"
    }
   ],
   "source": [
    "model.coef_"
   ]
  },
  {
   "cell_type": "code",
   "execution_count": 6,
   "id": "9b08b397",
   "metadata": {},
   "outputs": [
    {
     "name": "stdout",
     "output_type": "stream",
     "text": [
      "0.16084325849815484\n"
     ]
    }
   ],
   "source": [
    "#Find r-squared of years of experience\n",
    "x_years_of_exp = data[['yearsofexperience']]\n",
    "model_years_of_exp = LinearRegression().fit(x_years_of_exp, y)\n",
    "rSqr_years_of_exp = model_years_of_exp.score(x_years_of_exp, y)\n",
    "print (rSqr_years_of_exp)"
   ]
  },
  {
   "cell_type": "markdown",
   "id": "a204cb01",
   "metadata": {},
   "source": [
    "#### What was done/ describe code\n",
    "I combined all the quantitative variables into one x input and totalyearlycompensation into y outcome variable. I then fit a linear regression model around these x and y. I then checked it r-squared score and printed that out. Next, I printed out the beta values (weights) of each predictor variable in the model. I then fit a linear regression model around the most correlated variable and totalyearlycompensation, calculated the r-squared of the model with the top predictor variable alone, and printed out the r-squared value. I also checked the scatterplots of each variable to the totalyearlycompensation and printed their correlations (seen under what was found/results).\n",
    "\n",
    "#### Why it was done/ rationale to approach\n",
    "I first decided to fit the multiple regression model with all the quantitative variables. I chose these specific variables because they are all the quantitative variables minus the other income indicators such as base salary, stock options and bonuses. As mentioned in the hints section of this assignment, I did this because those three variables combined are a part of compensation, so they are obviously correlated with yearly compensation. I then checked the coefficients of each predictor variable in the model because the beta values would essentially tell me how much each variable contributes to predicting the outcome. Then, I fit one model to the top variable to find the r-square to compare to the r-square of the multiple regression model. \n",
    "\n",
    "#### What was found/ results, facts, numbers, and graph/plot\n",
    "I found that r-squared of the multiple regression model is 0.2651132077356605. The highest coefficient in the model between totalyearlycompensation and a predictor variable was 8.79165118e+03 with yearsofexperience. Also, as seen by the scatterplots and correlations below, we can see that years of experience is most highly correlated with total yearly compensation. The r-squared score for a linear regression model fitted to yearsofexperience and totalyearlycompensation is 0.16084325849815484."
   ]
  },
  {
   "cell_type": "code",
   "execution_count": 7,
   "id": "2c2fbe4c",
   "metadata": {},
   "outputs": [
    {
     "name": "stdout",
     "output_type": "stream",
     "text": [
      "0.4010526879328385\n"
     ]
    },
    {
     "data": {
      "image/png": "[encoded data removed]",
      "text/plain": [
       "<Figure size 432x288 with 1 Axes>"
      ]
     },
     "metadata": {
      "needs_background": "light"
     },
     "output_type": "display_data"
    },
    {
     "name": "stdout",
     "output_type": "stream",
     "text": [
      "0.1675216568473705\n"
     ]
    },
    {
     "data": {
      "image/png": "[encoded data removed]",
      "text/plain": [
       "<Figure size 432x288 with 1 Axes>"
      ]
     },
     "metadata": {
      "needs_background": "light"
     },
     "output_type": "display_data"
    },
    {
     "name": "stdout",
     "output_type": "stream",
     "text": [
      "0.09825898124628274\n"
     ]
    },
    {
     "data": {
      "image/png": "[encoded data removed]",
      "text/plain": [
       "<Figure size 432x288 with 1 Axes>"
      ]
     },
     "metadata": {
      "needs_background": "light"
     },
     "output_type": "display_data"
    },
    {
     "name": "stdout",
     "output_type": "stream",
     "text": [
      "-0.15469912864668073\n"
     ]
    },
    {
     "data": {
      "image/png": "[encoded data removed]",
      "text/plain": [
       "<Figure size 432x288 with 1 Axes>"
      ]
     },
     "metadata": {
      "needs_background": "light"
     },
     "output_type": "display_data"
    },
    {
     "name": "stdout",
     "output_type": "stream",
     "text": [
      "0.14065314640001308\n"
     ]
    },
    {
     "data": {
      "image/png": "[encoded data removed]",
      "text/plain": [
       "<Figure size 432x288 with 1 Axes>"
      ]
     },
     "metadata": {
      "needs_background": "light"
     },
     "output_type": "display_data"
    },
    {
     "name": "stdout",
     "output_type": "stream",
     "text": [
      "-0.010975615596440407\n"
     ]
    },
    {
     "data": {
      "image/png": "[encoded data removed]",
      "text/plain": [
       "<Figure size 432x288 with 1 Axes>"
      ]
     },
     "metadata": {
      "needs_background": "light"
     },
     "output_type": "display_data"
    },
    {
     "name": "stdout",
     "output_type": "stream",
     "text": [
      "0.012755352187298459\n"
     ]
    },
    {
     "data": {
      "image/png": "[encoded data removed]",
      "text/plain": [
       "<Figure size 432x288 with 1 Axes>"
      ]
     },
     "metadata": {
      "needs_background": "light"
     },
     "output_type": "display_data"
    },
    {
     "name": "stdout",
     "output_type": "stream",
     "text": [
      "-0.036084563168993104\n"
     ]
    },
    {
     "data": {
      "image/png": "[encoded data removed]",
      "text/plain": [
       "<Figure size 432x288 with 1 Axes>"
      ]
     },
     "metadata": {
      "needs_background": "light"
     },
     "output_type": "display_data"
    },
    {
     "name": "stdout",
     "output_type": "stream",
     "text": [
      "0.04815716107049476\n"
     ]
    },
    {
     "data": {
      "image/png": "[encoded data removed]",
      "text/plain": [
       "<Figure size 432x288 with 1 Axes>"
      ]
     },
     "metadata": {
      "needs_background": "light"
     },
     "output_type": "display_data"
    },
    {
     "name": "stdout",
     "output_type": "stream",
     "text": [
      "0.006964694371025051\n"
     ]
    },
    {
     "data": {
      "image/png": "[encoded data removed]",
      "text/plain": [
       "<Figure size 432x288 with 1 Axes>"
      ]
     },
     "metadata": {
      "needs_background": "light"
     },
     "output_type": "display_data"
    },
    {
     "name": "stdout",
     "output_type": "stream",
     "text": [
      "-0.02261030152982935\n"
     ]
    },
    {
     "data": {
      "image/png": "[encoded data removed]",
      "text/plain": [
       "<Figure size 432x288 with 1 Axes>"
      ]
     },
     "metadata": {
      "needs_background": "light"
     },
     "output_type": "display_data"
    },
    {
     "name": "stdout",
     "output_type": "stream",
     "text": [
      "-0.0111498249217833\n"
     ]
    },
    {
     "data": {
      "image/png": "[encoded data removed]",
      "text/plain": [
       "<Figure size 432x288 with 1 Axes>"
      ]
     },
     "metadata": {
      "needs_background": "light"
     },
     "output_type": "display_data"
    },
    {
     "name": "stdout",
     "output_type": "stream",
     "text": [
      "0.25337013714063444\n"
     ]
    },
    {
     "data": {
      "image/png": "[encoded data removed]",
      "text/plain": [
       "<Figure size 432x288 with 1 Axes>"
      ]
     },
     "metadata": {
      "needs_background": "light"
     },
     "output_type": "display_data"
    },
    {
     "name": "stdout",
     "output_type": "stream",
     "text": [
      "-0.011299210526956305\n"
     ]
    },
    {
     "data": {
      "image/png": "[encoded data removed]",
      "text/plain": [
       "<Figure size 432x288 with 1 Axes>"
      ]
     },
     "metadata": {
      "needs_background": "light"
     },
     "output_type": "display_data"
    },
    {
     "name": "stdout",
     "output_type": "stream",
     "text": [
      "0.008221668908593396\n"
     ]
    },
    {
     "data": {
      "image/png": "[encoded data removed]",
      "text/plain": [
       "<Figure size 432x288 with 1 Axes>"
      ]
     },
     "metadata": {
      "needs_background": "light"
     },
     "output_type": "display_data"
    },
    {
     "name": "stdout",
     "output_type": "stream",
     "text": [
      "0.3326782417061458\n"
     ]
    },
    {
     "data": {
      "image/png": "[encoded data removed]",
      "text/plain": [
       "<Figure size 432x288 with 1 Axes>"
      ]
     },
     "metadata": {
      "needs_background": "light"
     },
     "output_type": "display_data"
    },
    {
     "name": "stdout",
     "output_type": "stream",
     "text": [
      "0.3056886633677358\n"
     ]
    },
    {
     "data": {
      "image/png": "[encoded data removed]",
      "text/plain": [
       "<Figure size 432x288 with 1 Axes>"
      ]
     },
     "metadata": {
      "needs_background": "light"
     },
     "output_type": "display_data"
    }
   ],
   "source": [
    "pred_vars = ['yearsofexperience', 'yearsatcompany', 'Masters_Degree', 'Bachelors_Degree', 'Doctorate_Degree', \n",
    "         'Highschool', 'Some_College', 'Race_Asian', 'Race_White', 'Race_Two_Or_More', 'Race_Black', 'Race_Hispanic',\n",
    "          'Age', 'Height', 'Zodiac', 'SAT', 'GPA']\n",
    "for i in pred_vars:\n",
    "    plt.scatter(data[i], y, color = 'blue')\n",
    "    plt.title(i)\n",
    "    plt.ylabel('total yearly compensation')\n",
    "    print(data[i].corr(y))\n",
    "    plt.show();"
   ]
  },
  {
   "cell_type": "markdown",
   "id": "87bb642b",
   "metadata": {},
   "source": [
    "#### Interpret findings/ answer question\n",
    "From both the beta value (coefficients) and the correlations, we see that years of experience is the best predictor we have for total yearly compensation out of all the included predictor variables (quantitative variables minus base salary, stock options and bonuses). When comparing the r-squared score of years of experience (0.16084325849815484) and the r-squared score of all the multiple linear regression model (0.2651132077356605), we can see that all the variables combined provides a better prediction than years of experience alone. We know this because r-squared tells us the proportion of the outcome's variance for a given regression that can be acounted for by the independent/predictor variable. This means that all the variables combined can explain a higher proportion of the outcome's variance than years of experience alone. However, I want to note here that even the multiple linear regression model is a poor predictor of total yearly compensation at an r-squared score of 0.285."
   ]
  },
  {
   "cell_type": "markdown",
   "id": "6de6f444",
   "metadata": {},
   "source": [
    "## 2. Using ridge regression to do the same as in 1): How does the model change or improve compared to OLS? What is the optimal lambda? "
   ]
  },
  {
   "cell_type": "code",
   "execution_count": 8,
   "id": "563f4625",
   "metadata": {},
   "outputs": [
    {
     "data": {
      "image/png": "[encoded data removed]",
      "text/plain": [
       "<Figure size 432x288 with 1 Axes>"
      ]
     },
     "metadata": {
      "needs_background": "light"
     },
     "output_type": "display_data"
    },
    {
     "name": "stdout",
     "output_type": "stream",
     "text": [
      "Optimal lambda: 132.43243243243242\n"
     ]
    }
   ],
   "source": [
    "# With yperparameter tuning --> to find optimal lambda\n",
    "lambdas = np.linspace(0,300,1000)\n",
    "cont = np.empty([len(lambdas),2])*np.NaN #list of lambda errors\n",
    "#betasOLS = np.empty([np.size(sata,axis=1),nReps])*np.NaN\n",
    "#betasRidge = np.empty([np.size(data,axis=1),1000])*np.NaN\n",
    "\n",
    "#Create new selection of x leaving out one dummy variable from each race and education binaries \n",
    "#in order to prevent overdetermination of model\n",
    "X2 = data[['yearsofexperience', 'yearsatcompany','gender', 'Masters_Degree', 'Bachelors_Degree', 'Doctorate_Degree', \n",
    "           'Some_College', 'Race_Asian', 'Race_White', 'Race_Black', 'Race_Hispanic',\n",
    "          'Age', 'Height', 'Zodiac', 'SAT', 'GPA']]\n",
    "\n",
    "# Normalize data\n",
    "x_norm = (X2 - np.mean(X2, axis=0))/np.std(X2, axis=0)\n",
    "y_norm = (y - np.mean(y, axis=0))/np.std(y, axis=0)\n",
    "#Split into train, testing sets\n",
    "xTrain, xTest, yTrain, yTest = model_selection.train_test_split(x_norm, y_norm, test_size=0.3, random_state=0)\n",
    "for ii in range(len(lambdas)):\n",
    "    ridgeModel = Ridge(alpha=lambdas[ii]).fit(xTrain, yTrain)\n",
    "    #ridge = Ridge(alpha=lambd).fit(x_norm,y_norm)\n",
    "    #betasRidge[:,ii] = np.concatenate((np.array([ridgeModel.intercept_]), ridgeModel.coef_),axis=0)\n",
    "    cont[ii,0] = lambdas[ii]\n",
    "    error = metrics.mean_squared_error(yTest,ridgeModel.predict(xTest))\n",
    "    cont[ii,1] = error\n",
    "\n",
    "plt.plot(cont[:,0],cont[:,1])\n",
    "plt.xlabel('Lambda')\n",
    "plt.ylabel('RMSE')\n",
    "plt.title('Ridge regression')\n",
    "plt.show()\n",
    "print('Optimal lambda:',lambdas[np.argmax(cont[:,1]==np.min(cont[:,1]))])"
   ]
  },
  {
   "cell_type": "code",
   "execution_count": 14,
   "id": "1276c0c6",
   "metadata": {},
   "outputs": [
    {
     "name": "stdout",
     "output_type": "stream",
     "text": [
      "-2.2081786674709334\n"
     ]
    }
   ],
   "source": [
    "ridgeModelComp = Ridge(alpha=132.432).fit(xTrain, yTrain)\n",
    "score = ridgeModelComp.score(X2, y)\n",
    "print(score)"
   ]
  },
  {
   "attachments": {},
   "cell_type": "markdown",
   "id": "01ddf64f",
   "metadata": {},
   "source": [
    "#### What was done/ describe code\n",
    "I set lambdas between 0 and 300, and sampled 1000 different ones. I created a list to store gthe lambda errors (RMSE) to plot later. I then created a new X variable with the variables in 1, wihtout two dummy variables. Then I normalized the data, split it to training and testing sets, trained a ridgeModel for each lambda  calculated the RMSE of each run through a for loop, stored the RMSE in the list. I then plotted the RMSE of each lambda. I then found the r-squared score for the ridge model with the optimal lambda.\n",
    "\n",
    "#### Why it was done/ rationale to approach\n",
    "I set the linspace to go up to 300 after trial and error to find a reasonable optimal lambda. I chose 1000 lambdas to find the most accurate optimal lambda possible. I chose to take out the more than one race variable and the highschool dummy variable. I created a new selection of x leaving out one dummy variable from each race and education binaries in order to prevent overdetermination of model. I used a for loop to make looping through the lambdas easy, while storing the RMSE of each lambda model along the way. I plotted the ridge regression to see the trend between lambda value and RMSE. I printed out the optimal lambda to have a clear view of the optimal. And I found the r-squared score of the model in order to compare it to the previous OLS score.\n",
    "\n",
    "#### What was found/ results, facts, numbers, and graph/plot\n",
    "Graph as shown above. The Ridge regression plot shows a parabolic-like relationship as shown below between lambda scores and RMSE. What appears to be the vertex stands between 100 and 150. The optimal lambda was calculated to be 132.432. And the r-squared score of a ridge regression model fit to a lambda of 132.432 came out to be -2.208.\n",
    "\n",
    "#### Interpret findings/ Answer question\n",
    "This low point, means it's the lambda with the lowest RMSE, meaning that a model with lambda 132.432, as calculated at the end, is our optimal lambda since it has the smallest average residuals. The r-squared score of -2.208, meaning that it is worse than the OLS, not improving the model. This is interesting to me because generally ridge regressions should help optimize the model."
   ]
  },
  {
   "cell_type": "markdown",
   "id": "bec113c8",
   "metadata": {},
   "source": [
    "## 3. Using Lasso regression to do the same as in 1): How does the model change now? How many of the predictor betas are shrunk to exactly 0? What is the optimal lambda now?"
   ]
  },
  {
   "cell_type": "code",
   "execution_count": 19,
   "id": "60f4ff7f",
   "metadata": {},
   "outputs": [
    {
     "name": "stderr",
     "output_type": "stream",
     "text": [
      "/Users/oviya/opt/anaconda3/lib/python3.7/site-packages/ipykernel_launcher.py:19: UserWarning: With alpha=0, this algorithm does not converge well. You are advised to use the LinearRegression estimator\n",
      "/Users/oviya/opt/anaconda3/lib/python3.7/site-packages/sklearn/linear_model/_coordinate_descent.py:648: UserWarning: Coordinate descent with no regularization may lead to unexpected results and is discouraged.\n",
      "  coef_, l1_reg, l2_reg, X, y, max_iter, tol, rng, random, positive\n",
      "/Users/oviya/opt/anaconda3/lib/python3.7/site-packages/sklearn/linear_model/_coordinate_descent.py:648: ConvergenceWarning: Objective did not converge. You might want to increase the number of iterations, check the scale of the features or consider increasing regularisation. Duality gap: 5.815e+03, tolerance: 1.566e+00 Linear regression models with null weight for the l1 regularization term are more efficiently fitted using one of the solvers implemented in sklearn.linear_model.Ridge/RidgeCV instead.\n",
      "  coef_, l1_reg, l2_reg, X, y, max_iter, tol, rng, random, positive\n"
     ]
    },
    {
     "data": {
      "image/png": "[encoded data removed]",
      "text/plain": [
       "<Figure size 432x288 with 1 Axes>"
      ]
     },
     "metadata": {
      "needs_background": "light"
     },
     "output_type": "display_data"
    },
    {
     "name": "stdout",
     "output_type": "stream",
     "text": [
      "Optimal lambda: 0.0\n"
     ]
    }
   ],
   "source": [
    "# With yperparameter tuning --> to find optimal lambda\n",
    "lambdasL = np.linspace(0,4,1000)\n",
    "contL = np.empty([len(lambdasL),2])*np.NaN #list of lambda errors\n",
    "#betasOLS = np.empty([np.size(sata,axis=1),nReps])*np.NaN\n",
    "#betasRidge = np.empty([np.size(data,axis=1),1000])*np.NaN\n",
    "\n",
    "#Create new selection of x leaving out one dummy variable from each race and education binaries \n",
    "#in order to prevent overdetermination of model\n",
    "X2 = data[['yearsofexperience', 'yearsatcompany','gender', 'Masters_Degree', 'Bachelors_Degree', 'Doctorate_Degree', \n",
    "           'Some_College', 'Race_Asian', 'Race_White', 'Race_Black', 'Race_Hispanic',\n",
    "          'Age', 'Height', 'Zodiac', 'SAT', 'GPA']]\n",
    "\n",
    "# Normalize data\n",
    "x_norm = (X2 - np.mean(X2, axis=0))/np.std(X2, axis=0)\n",
    "y_norm = (y - np.mean(y, axis=0))/np.std(y, axis=0)\n",
    "#Split into train, testing sets\n",
    "xTrain, xTest, yTrain, yTest = model_selection.train_test_split(x_norm, y_norm, test_size=0.3, random_state=0)\n",
    "for ii in range(len(lambdasL)):\n",
    "    lassoModel = Lasso(alpha=lambdasL[ii]).fit(xTrain, yTrain)\n",
    "    #ridge = Ridge(alpha=lambd).fit(x_norm,y_norm)\n",
    "    #betasRidge[:,ii] = np.concatenate((np.array([ridgeModel.intercept_]), ridgeModel.coef_),axis=0)\n",
    "    contL[ii,0] = lambdasL[ii]\n",
    "    error = metrics.mean_squared_error(yTest,lassoModel.predict(xTest))\n",
    "    contL[ii,1] = error\n",
    "\n",
    "plt.plot(contL[:,0],contL[:,1])\n",
    "plt.xlabel('Lambda')\n",
    "plt.ylabel('RMSE')\n",
    "plt.title('Lasso regression')\n",
    "plt.show()\n",
    "print('Optimal lambda:',lambdasL[np.argmax(contL[:,1]==np.min(contL[:,1]))])"
   ]
  },
  {
   "cell_type": "code",
   "execution_count": 21,
   "id": "342ba00c",
   "metadata": {},
   "outputs": [
    {
     "name": "stdout",
     "output_type": "stream",
     "text": [
      "-2.214477464402986\n"
     ]
    }
   ],
   "source": [
    "lassoModelComp = Lasso(alpha=1).fit(xTrain, yTrain)\n",
    "lscore = lassoModelComp.score(X2, y)\n",
    "print(lscore)"
   ]
  },
  {
   "cell_type": "markdown",
   "id": "b50f400a",
   "metadata": {},
   "source": [
    "#### What was done/ describe code\n",
    "I set lambdas between 0 and 4, and sampled 1000 different ones. I created a list to store the lambda errors (RMSE) to plot later. I then created a new X variable with the variables in 1, without two dummy variables. Then I normalized the data, split it to training and testing sets, trained a lasso Model for each lambda  calculated the RMSE of each run through a for loop, stored the RMSE in the list. I then plotted the RMSE of each lambda. I then found the r-squared score for the lasso model with the optimal lambda.\n",
    "\n",
    "#### Why it was done/ rationale to approach\n",
    "I set the linspace to go up to 10 after trial and error to find a reasonable optimal lambda. I chose 1000 lambdas to find the most accurate optimal lambda possible. I chose to take out the more than one race variable and the highschool dummy variable. I created a new selection of x leaving out one dummy variable from each race and education binaries in order to prevent overdetermination of model. I used a for loop to make looping through the lambdas easy, while storing the RMSE of each lambda model along the way. I plotted the lasso regression to see the trend between lambda value and RMSE. I printed out the optimal lambda to have a clear view of the optimal. And I found the r-squared score of the model in order to compare it to the previous OLS score.\n",
    "\n",
    "#### What was found/ results, facts, numbers, and graph/plot\n",
    "The Lasso regression plot shows an interesting logrithmic-like relationship as shown below between lambda scores and RMSE. It appears that the RMSE only increases after lambda 0. The optimal lambda was calculated to be 0. And the r-squared score of a ridge regression model fit to an alpha score of 1 came out to be -2.214.\n",
    "\n",
    "#### Interpret findings/ Answer question\n",
    "This low point, means it's the lambda with the lowest RMSE, meaning that a model with lambda 0, as calculated at the end, is our optimal lambda since it has the smallest average residuals. The r-squared score of -2.214, meaning that it is worse than the OLS, not improving the model. This is interesting to me because generally ridge regressions should help optimize the model."
   ]
  },
  {
   "cell_type": "markdown",
   "id": "966ce5d0",
   "metadata": {},
   "source": [
    "## 4. There is controversy as to the existence of a male/female gender pay gap in tech job compensation. Build a logistic regression model (with gender as the outcome variable) to see if there is an appreciable beta associated with total annual compensation with and without controlling for other factors. "
   ]
  },
  {
   "cell_type": "markdown",
   "id": "6e408d56",
   "metadata": {},
   "source": [
    "## 5. Build a logistic regression model to see if you can predict high and low pay from years of relevant experience, age, height, SAT score and GPA, respectively."
   ]
  },
  {
   "cell_type": "markdown",
   "id": "99c46a1a",
   "metadata": {},
   "source": [
    "# Extra Credit"
   ]
  },
  {
   "cell_type": "markdown",
   "id": "4e4ac3fe",
   "metadata": {},
   "source": [
    "## 1. Is salary, height or age normally distributed? Does this surprise you? Why or why not?"
   ]
  },
  {
   "cell_type": "code",
   "execution_count": 27,
   "id": "fdf7c885",
   "metadata": {},
   "outputs": [
    {
     "data": {
      "image/png": "[encoded data removed]",
      "text/plain": [
       "<Figure size 432x288 with 1 Axes>"
      ]
     },
     "metadata": {
      "needs_background": "light"
     },
     "output_type": "display_data"
    }
   ],
   "source": [
    "salary = data['basesalary']\n",
    "plt.hist(salary, bins=50)\n",
    "plt.gca().set(title='Salary Distribution', ylabel='Frequency');"
   ]
  },
  {
   "cell_type": "code",
   "execution_count": 28,
   "id": "8bc069c8",
   "metadata": {},
   "outputs": [
    {
     "data": {
      "image/png": "[encoded data removed]",
      "text/plain": [
       "<Figure size 432x288 with 1 Axes>"
      ]
     },
     "metadata": {
      "needs_background": "light"
     },
     "output_type": "display_data"
    }
   ],
   "source": [
    "height = data['Height']\n",
    "plt.hist(height, bins=50)\n",
    "plt.gca().set(title='Height Distribution', ylabel='Frequency');"
   ]
  },
  {
   "cell_type": "code",
   "execution_count": 29,
   "id": "16a79b01",
   "metadata": {},
   "outputs": [
    {
     "data": {
      "image/png": "[encoded data removed]",
      "text/plain": [
       "<Figure size 432x288 with 1 Axes>"
      ]
     },
     "metadata": {
      "needs_background": "light"
     },
     "output_type": "display_data"
    }
   ],
   "source": [
    "age = data['Age']\n",
    "plt.hist(age, bins=50)\n",
    "plt.gca().set(title='Age Distribution', ylabel='Frequency');"
   ]
  },
  {
   "attachments": {},
   "cell_type": "markdown",
   "id": "789e3a93",
   "metadata": {},
   "source": [
    "#### What was done/ describe code\n",
    "I created variables for base salary, age, and height and created histrograms for each one.\n",
    "\n",
    "#### Why it was done/ rationale to approach\n",
    "I did this because histograms are the best way to analyze distribution visually. Especially when simply checking if there are normally distributed.\n",
    "\n",
    "#### What was found/ results, facts, numbers, and graph/plot\n",
    "Graphs shown above"
   ]
  },
  {
   "attachments": {},
   "cell_type": "markdown",
   "id": "fadd43d3",
   "metadata": {},
   "source": [
    "\n",
    "#### Interpret findings/ Answer question\n",
    "The distribution of salary has a right skew with very few people making above 200,000, but up to 600,000, and majority making below 200,000. The height distribution appears to be normal with a median and mean around 67 inches. The age distribution has a slight right skew as well with frequency dropping off past 65, which makes sense since this is retirement age. The normsl distribution of height makes sense since height doesn't affect performance in tech corporate world, so the distribution is probably similar to a universal height distribution. And the right skew of salary makes sense because the higher the salary, the less people will be making that salary."
   ]
  },
  {
   "cell_type": "markdown",
   "id": "9eba521d",
   "metadata": {},
   "source": [
    "## 2. Tell us something interesting about this dataset that is not already covered by the questions above and that is not obvious."
   ]
  },
  {
   "cell_type": "code",
   "execution_count": 32,
   "id": "ca878cb8",
   "metadata": {},
   "outputs": [
    {
     "name": "stdout",
     "output_type": "stream",
     "text": [
      "Correlation b/w SAT and total yearly compensation: \n",
      "0.3326782417061458\n",
      "Correlation b/w GPA and total yearly compensation: \n",
      "0.3056886633677358\n"
     ]
    }
   ],
   "source": [
    "print('Correlation b/w SAT and total yearly compensation: ')\n",
    "print(data['SAT'].corr(y))\n",
    "\n",
    "print('Correlation b/w GPA and total yearly compensation: ')\n",
    "print(data['GPA'].corr(y))"
   ]
  },
  {
   "cell_type": "markdown",
   "id": "2e1dfd99",
   "metadata": {},
   "source": [
    "#### What was done/ describe code\n",
    "I calculated the correlation between both SAT and GPA and totaly yearly compensation.\n",
    "\n",
    "#### Why it was done/ rationale to approach\n",
    "I chose to do this to see if SAT score and GPA really matter in terms of future total yearly compensation in one's career.\n",
    "\n",
    "#### What was found/ results, facts, numbers, and graph/plot\n",
    "I found that the correlation between SAT and compensation is 0.333 and between GPA and compensation is 0.306.\n",
    "\n",
    "#### Interpretation\n",
    "With these correlations, we can see that there is low correlation, meaning that this is good news for people who did not necessarily do well academically! This means that SAT and GPA are not indicative of future job earning potential."
   ]
  }
 ],
 "metadata": {
  "kernelspec": {
   "display_name": "Python 3 (ipykernel)",
   "language": "python",
   "name": "python3"
  },
  "language_info": {
   "codemirror_mode": {
    "name": "ipython",
    "version": 3
   },
   "file_extension": ".py",
   "mimetype": "text/x-python",
   "name": "python",
   "nbconvert_exporter": "python",
   "pygments_lexer": "ipython3",
   "version": "3.7.6"
  }
 },
 "nbformat": 4,
 "nbformat_minor": 5
}
