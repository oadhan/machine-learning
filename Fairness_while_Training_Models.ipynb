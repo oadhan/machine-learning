{
  "nbformat": 4,
  "nbformat_minor": 0,
  "metadata": {
    "kernelspec": {
      "display_name": "Python [conda env:rds_env]",
      "language": "python",
      "name": "conda-env-rds_env-py"
    },
    "language_info": {
      "codemirror_mode": {
        "name": "ipython",
        "version": 3
      },
      "file_extension": ".py",
      "mimetype": "text/x-python",
      "name": "python",
      "nbconvert_exporter": "python",
      "pygments_lexer": "ipython3",
      "version": "3.7.6"
    },
    "colab": {
      "name": "Fairness while Training Models",
      "provenance": [],
      "collapsed_sections": []
    }
  },
  "cells": [
    {
      "cell_type": "markdown",
      "metadata": {
        "id": "4DKrcGGhQild"
      },
      "source": [
        "# Lab 3: Exploring Fairness When Training Models"
      ]
    },
    {
      "cell_type": "markdown",
      "metadata": {
        "id": "_SyL9goGBjya"
      },
      "source": [
        "In this lab, we will detect bias that may be introduced while training classifiers. We will mitigate this bias via pre-processing and post-processing.  \n",
        "\n",
        "This notebook has four stages in which we will: \n",
        "1. Import and split the data into train/val/test sets.\n",
        "2. Train a classifier to predict credit using original data with or without sensitive features.\n",
        "3. Preprocess the data using the reweighting algorithm and train a classifier using the reweighted data.\n",
        "4. Post-process the predictions using the calibrated equality of odds algorithm. For each prediction from step 2, 3, and 4, we will measure bias using fairness metrics including mean outcomes, disparate impact, false positive rate, and false negative rate. \n"
      ]
    },
    {
      "cell_type": "code",
      "metadata": {
        "id": "RKooNAay1wNa",
        "colab": {
          "base_uri": "https://localhost:8080/"
        },
        "outputId": "fbafe8f3-d97d-4cd0-fec9-84a3980d3c7a"
      },
      "source": [
        "!pip install numba==0.48\n",
        "!pip install aif360==0.2.2"
      ],
      "execution_count": null,
      "outputs": [
        {
          "output_type": "stream",
          "text": [
            "Collecting numba==0.48\n",
            "\u001b[?25l  Downloading https://files.pythonhosted.org/packages/23/7f/dbe85f5f419dca88509d829df90dfa5aefa39c39f6b7020dfc206a386279/numba-0.48.0-1-cp36-cp36m-manylinux2014_x86_64.whl (3.5MB)\n",
            "\u001b[K     |████████████████████████████████| 3.5MB 9.2MB/s \n",
            "\u001b[?25hRequirement already satisfied: numpy>=1.15 in /usr/local/lib/python3.6/dist-packages (from numba==0.48) (1.19.5)\n",
            "Collecting llvmlite<0.32.0,>=0.31.0dev0\n",
            "\u001b[?25l  Downloading https://files.pythonhosted.org/packages/ad/bb/60d4033d56c9da36490af19caa6c794b72b8aef6f792fdfa8cb95d11e419/llvmlite-0.31.0-cp36-cp36m-manylinux1_x86_64.whl (20.2MB)\n",
            "\u001b[K     |████████████████████████████████| 20.2MB 41.1MB/s \n",
            "\u001b[?25hRequirement already satisfied: setuptools in /usr/local/lib/python3.6/dist-packages (from numba==0.48) (53.0.0)\n",
            "\u001b[31mERROR: umap-learn 0.5.0 has requirement numba>=0.49, but you'll have numba 0.48.0 which is incompatible.\u001b[0m\n",
            "\u001b[31mERROR: pynndescent 0.5.1 has requirement numba>=0.51.2, but you'll have numba 0.48.0 which is incompatible.\u001b[0m\n",
            "Installing collected packages: llvmlite, numba\n",
            "  Found existing installation: llvmlite 0.34.0\n",
            "    Uninstalling llvmlite-0.34.0:\n",
            "      Successfully uninstalled llvmlite-0.34.0\n",
            "  Found existing installation: numba 0.51.2\n",
            "    Uninstalling numba-0.51.2:\n",
            "      Successfully uninstalled numba-0.51.2\n",
            "Successfully installed llvmlite-0.31.0 numba-0.48.0\n",
            "Collecting aif360==0.2.2\n",
            "\u001b[?25l  Downloading https://files.pythonhosted.org/packages/99/54/09e0674fc1370072385d64e0282eff0857e3d78c3abd7d6471200cf7a00d/aif360-0.2.2-py2.py3-none-any.whl (56.4MB)\n",
            "\u001b[K     |████████████████████████████████| 56.4MB 68kB/s \n",
            "\u001b[?25hRequirement already satisfied: scikit-learn in /usr/local/lib/python3.6/dist-packages (from aif360==0.2.2) (0.22.2.post1)\n",
            "Requirement already satisfied: pandas>=0.23.3 in /usr/local/lib/python3.6/dist-packages (from aif360==0.2.2) (1.1.5)\n",
            "Requirement already satisfied: scipy in /usr/local/lib/python3.6/dist-packages (from aif360==0.2.2) (1.4.1)\n",
            "Requirement already satisfied: numpy>=1.16 in /usr/local/lib/python3.6/dist-packages (from aif360==0.2.2) (1.19.5)\n",
            "Requirement already satisfied: joblib>=0.11 in /usr/local/lib/python3.6/dist-packages (from scikit-learn->aif360==0.2.2) (1.0.0)\n",
            "Requirement already satisfied: pytz>=2017.2 in /usr/local/lib/python3.6/dist-packages (from pandas>=0.23.3->aif360==0.2.2) (2018.9)\n",
            "Requirement already satisfied: python-dateutil>=2.7.3 in /usr/local/lib/python3.6/dist-packages (from pandas>=0.23.3->aif360==0.2.2) (2.8.1)\n",
            "Requirement already satisfied: six>=1.5 in /usr/local/lib/python3.6/dist-packages (from python-dateutil>=2.7.3->pandas>=0.23.3->aif360==0.2.2) (1.15.0)\n",
            "Installing collected packages: aif360\n",
            "Successfully installed aif360-0.2.2\n"
          ],
          "name": "stdout"
        }
      ]
    },
    {
      "cell_type": "code",
      "metadata": {
        "id": "iyPDr4QuQilp"
      },
      "source": [
        "import matplotlib.pyplot as plt \n",
        "%matplotlib inline\n",
        "\n",
        "import random\n",
        "random.seed(6)\n",
        "\n",
        "import sys\n",
        "import warnings\n",
        "\n",
        "import numpy as np\n",
        "import pandas as pd\n",
        "\n",
        "from sklearn.linear_model import LogisticRegression\n",
        "from sklearn.metrics import accuracy_score, roc_auc_score\n",
        "\n",
        "from aif360.algorithms.preprocessing import Reweighing\n",
        "from aif360.datasets import GermanDataset, StandardDataset\n",
        "from aif360.metrics import BinaryLabelDatasetMetric, ClassificationMetric\n",
        "from aif360.algorithms.postprocessing import EqOddsPostprocessing\n"
      ],
      "execution_count": null,
      "outputs": []
    },
    {
      "cell_type": "markdown",
      "metadata": {
        "id": "JY7AwOvjQilr"
      },
      "source": [
        "## Step 1: Load the data\n",
        "\n",
        "The German Credit Risk dataset contains 1000 entries with 20 categorial/symbolic attributes prepared by Prof. Hofmann. In this dataset, each entry represents a person who takes a credit by a bank. Each person is classified as good or bad credit risks according to the set of attributes. The original dataset can be found at https://archive.ics.uci.edu/ml/datasets/Statlog+%28German+Credit+Data%29"
      ]
    },
    {
      "cell_type": "markdown",
      "metadata": {
        "id": "HvvwkowuQilr"
      },
      "source": [
        "### 1.1 Read in the aif360 dataset"
      ]
    },
    {
      "cell_type": "code",
      "metadata": {
        "id": "jW9hntAiQils"
      },
      "source": [
        "dataset_orig = GermanDataset(protected_attribute_names=['age'],           \n",
        "                             privileged_classes=[lambda x: x >= 25], \n",
        "                             features_to_drop=['personal_status', 'sex'])      # age >=25 is considered privileged\n",
        "\n",
        "# Store definitions of priviledged and unpriviledged groups\n",
        "privileged_groups = [{'age': 1}]\n",
        "unprivileged_groups = [{'age': 0}]"
      ],
      "execution_count": null,
      "outputs": []
    },
    {
      "cell_type": "markdown",
      "metadata": {
        "id": "3eYd60CSQilt"
      },
      "source": [
        "### 1.2 Split into train/val/test sets"
      ]
    },
    {
      "cell_type": "code",
      "metadata": {
        "id": "9hNDW2gWQilu",
        "colab": {
          "base_uri": "https://localhost:8080/"
        },
        "outputId": "5c1d2b4c-3f96-4b4f-e479-2d64a26697db"
      },
      "source": [
        "# Split original data into train and test data\n",
        "train_orig, test_orig = dataset_orig.split([0.8], shuffle=True, seed=10)\n",
        "# Split training data in to training and validation data for hyperparameter tuning\n",
        "train_orig, val_orig = train_orig.split([0.75], shuffle=True)\n",
        "\n",
        "# Convert to dataframes\n",
        "train_orig_df, _ = train_orig.convert_to_dataframe()\n",
        "val_orig_df, _ = val_orig.convert_to_dataframe()\n",
        "test_orig_df, _ = test_orig.convert_to_dataframe()\n",
        "\n",
        "print(\"Train set: \", train_orig_df.shape)\n",
        "print(\"Val set: \", val_orig_df.shape)\n",
        "print(\"Test set: \", test_orig_df.shape)"
      ],
      "execution_count": null,
      "outputs": [
        {
          "output_type": "stream",
          "text": [
            "Train set:  (600, 58)\n",
            "Val set:  (200, 58)\n",
            "Test set:  (200, 58)\n"
          ],
          "name": "stdout"
        }
      ]
    },
    {
      "cell_type": "code",
      "metadata": {
        "id": "1y1Ubj8DQilw",
        "colab": {
          "base_uri": "https://localhost:8080/",
          "height": 547
        },
        "outputId": "342d6378-91ee-4509-9037-5dff55d09e5c"
      },
      "source": [
        "print(train_orig_df.columns)\n",
        "train_orig_df.head()"
      ],
      "execution_count": null,
      "outputs": [
        {
          "output_type": "stream",
          "text": [
            "Index(['month', 'credit_amount', 'investment_as_income_percentage',\n",
            "       'residence_since', 'age', 'number_of_credits', 'people_liable_for',\n",
            "       'status=A11', 'status=A12', 'status=A13', 'status=A14',\n",
            "       'credit_history=A30', 'credit_history=A31', 'credit_history=A32',\n",
            "       'credit_history=A33', 'credit_history=A34', 'purpose=A40',\n",
            "       'purpose=A41', 'purpose=A410', 'purpose=A42', 'purpose=A43',\n",
            "       'purpose=A44', 'purpose=A45', 'purpose=A46', 'purpose=A48',\n",
            "       'purpose=A49', 'savings=A61', 'savings=A62', 'savings=A63',\n",
            "       'savings=A64', 'savings=A65', 'employment=A71', 'employment=A72',\n",
            "       'employment=A73', 'employment=A74', 'employment=A75',\n",
            "       'other_debtors=A101', 'other_debtors=A102', 'other_debtors=A103',\n",
            "       'property=A121', 'property=A122', 'property=A123', 'property=A124',\n",
            "       'installment_plans=A141', 'installment_plans=A142',\n",
            "       'installment_plans=A143', 'housing=A151', 'housing=A152',\n",
            "       'housing=A153', 'skill_level=A171', 'skill_level=A172',\n",
            "       'skill_level=A173', 'skill_level=A174', 'telephone=A191',\n",
            "       'telephone=A192', 'foreign_worker=A201', 'foreign_worker=A202',\n",
            "       'credit'],\n",
            "      dtype='object')\n"
          ],
          "name": "stdout"
        },
        {
          "output_type": "execute_result",
          "data": {
            "text/html": [
              "<div>\n",
              "<style scoped>\n",
              "    .dataframe tbody tr th:only-of-type {\n",
              "        vertical-align: middle;\n",
              "    }\n",
              "\n",
              "    .dataframe tbody tr th {\n",
              "        vertical-align: top;\n",
              "    }\n",
              "\n",
              "    .dataframe thead th {\n",
              "        text-align: right;\n",
              "    }\n",
              "</style>\n",
              "<table border=\"1\" class=\"dataframe\">\n",
              "  <thead>\n",
              "    <tr style=\"text-align: right;\">\n",
              "      <th></th>\n",
              "      <th>month</th>\n",
              "      <th>credit_amount</th>\n",
              "      <th>investment_as_income_percentage</th>\n",
              "      <th>residence_since</th>\n",
              "      <th>age</th>\n",
              "      <th>number_of_credits</th>\n",
              "      <th>people_liable_for</th>\n",
              "      <th>status=A11</th>\n",
              "      <th>status=A12</th>\n",
              "      <th>status=A13</th>\n",
              "      <th>status=A14</th>\n",
              "      <th>credit_history=A30</th>\n",
              "      <th>credit_history=A31</th>\n",
              "      <th>credit_history=A32</th>\n",
              "      <th>credit_history=A33</th>\n",
              "      <th>credit_history=A34</th>\n",
              "      <th>purpose=A40</th>\n",
              "      <th>purpose=A41</th>\n",
              "      <th>purpose=A410</th>\n",
              "      <th>purpose=A42</th>\n",
              "      <th>purpose=A43</th>\n",
              "      <th>purpose=A44</th>\n",
              "      <th>purpose=A45</th>\n",
              "      <th>purpose=A46</th>\n",
              "      <th>purpose=A48</th>\n",
              "      <th>purpose=A49</th>\n",
              "      <th>savings=A61</th>\n",
              "      <th>savings=A62</th>\n",
              "      <th>savings=A63</th>\n",
              "      <th>savings=A64</th>\n",
              "      <th>savings=A65</th>\n",
              "      <th>employment=A71</th>\n",
              "      <th>employment=A72</th>\n",
              "      <th>employment=A73</th>\n",
              "      <th>employment=A74</th>\n",
              "      <th>employment=A75</th>\n",
              "      <th>other_debtors=A101</th>\n",
              "      <th>other_debtors=A102</th>\n",
              "      <th>other_debtors=A103</th>\n",
              "      <th>property=A121</th>\n",
              "      <th>property=A122</th>\n",
              "      <th>property=A123</th>\n",
              "      <th>property=A124</th>\n",
              "      <th>installment_plans=A141</th>\n",
              "      <th>installment_plans=A142</th>\n",
              "      <th>installment_plans=A143</th>\n",
              "      <th>housing=A151</th>\n",
              "      <th>housing=A152</th>\n",
              "      <th>housing=A153</th>\n",
              "      <th>skill_level=A171</th>\n",
              "      <th>skill_level=A172</th>\n",
              "      <th>skill_level=A173</th>\n",
              "      <th>skill_level=A174</th>\n",
              "      <th>telephone=A191</th>\n",
              "      <th>telephone=A192</th>\n",
              "      <th>foreign_worker=A201</th>\n",
              "      <th>foreign_worker=A202</th>\n",
              "      <th>credit</th>\n",
              "    </tr>\n",
              "  </thead>\n",
              "  <tbody>\n",
              "    <tr>\n",
              "      <th>822</th>\n",
              "      <td>36.0</td>\n",
              "      <td>2712.0</td>\n",
              "      <td>2.0</td>\n",
              "      <td>2.0</td>\n",
              "      <td>1.0</td>\n",
              "      <td>1.0</td>\n",
              "      <td>2.0</td>\n",
              "      <td>1.0</td>\n",
              "      <td>0.0</td>\n",
              "      <td>0.0</td>\n",
              "      <td>0.0</td>\n",
              "      <td>0.0</td>\n",
              "      <td>0.0</td>\n",
              "      <td>1.0</td>\n",
              "      <td>0.0</td>\n",
              "      <td>0.0</td>\n",
              "      <td>0.0</td>\n",
              "      <td>0.0</td>\n",
              "      <td>0.0</td>\n",
              "      <td>1.0</td>\n",
              "      <td>0.0</td>\n",
              "      <td>0.0</td>\n",
              "      <td>0.0</td>\n",
              "      <td>0.0</td>\n",
              "      <td>0.0</td>\n",
              "      <td>0.0</td>\n",
              "      <td>1.0</td>\n",
              "      <td>0.0</td>\n",
              "      <td>0.0</td>\n",
              "      <td>0.0</td>\n",
              "      <td>0.0</td>\n",
              "      <td>0.0</td>\n",
              "      <td>0.0</td>\n",
              "      <td>0.0</td>\n",
              "      <td>0.0</td>\n",
              "      <td>1.0</td>\n",
              "      <td>1.0</td>\n",
              "      <td>0.0</td>\n",
              "      <td>0.0</td>\n",
              "      <td>0.0</td>\n",
              "      <td>1.0</td>\n",
              "      <td>0.0</td>\n",
              "      <td>0.0</td>\n",
              "      <td>1.0</td>\n",
              "      <td>0.0</td>\n",
              "      <td>0.0</td>\n",
              "      <td>0.0</td>\n",
              "      <td>1.0</td>\n",
              "      <td>0.0</td>\n",
              "      <td>0.0</td>\n",
              "      <td>0.0</td>\n",
              "      <td>1.0</td>\n",
              "      <td>0.0</td>\n",
              "      <td>1.0</td>\n",
              "      <td>0.0</td>\n",
              "      <td>1.0</td>\n",
              "      <td>0.0</td>\n",
              "      <td>2.0</td>\n",
              "    </tr>\n",
              "    <tr>\n",
              "      <th>830</th>\n",
              "      <td>24.0</td>\n",
              "      <td>2375.0</td>\n",
              "      <td>4.0</td>\n",
              "      <td>2.0</td>\n",
              "      <td>1.0</td>\n",
              "      <td>2.0</td>\n",
              "      <td>2.0</td>\n",
              "      <td>0.0</td>\n",
              "      <td>0.0</td>\n",
              "      <td>0.0</td>\n",
              "      <td>1.0</td>\n",
              "      <td>0.0</td>\n",
              "      <td>0.0</td>\n",
              "      <td>0.0</td>\n",
              "      <td>1.0</td>\n",
              "      <td>0.0</td>\n",
              "      <td>0.0</td>\n",
              "      <td>0.0</td>\n",
              "      <td>0.0</td>\n",
              "      <td>0.0</td>\n",
              "      <td>0.0</td>\n",
              "      <td>0.0</td>\n",
              "      <td>0.0</td>\n",
              "      <td>0.0</td>\n",
              "      <td>0.0</td>\n",
              "      <td>1.0</td>\n",
              "      <td>0.0</td>\n",
              "      <td>0.0</td>\n",
              "      <td>1.0</td>\n",
              "      <td>0.0</td>\n",
              "      <td>0.0</td>\n",
              "      <td>0.0</td>\n",
              "      <td>0.0</td>\n",
              "      <td>1.0</td>\n",
              "      <td>0.0</td>\n",
              "      <td>0.0</td>\n",
              "      <td>1.0</td>\n",
              "      <td>0.0</td>\n",
              "      <td>0.0</td>\n",
              "      <td>0.0</td>\n",
              "      <td>0.0</td>\n",
              "      <td>1.0</td>\n",
              "      <td>0.0</td>\n",
              "      <td>0.0</td>\n",
              "      <td>0.0</td>\n",
              "      <td>1.0</td>\n",
              "      <td>0.0</td>\n",
              "      <td>1.0</td>\n",
              "      <td>0.0</td>\n",
              "      <td>0.0</td>\n",
              "      <td>0.0</td>\n",
              "      <td>1.0</td>\n",
              "      <td>0.0</td>\n",
              "      <td>0.0</td>\n",
              "      <td>1.0</td>\n",
              "      <td>1.0</td>\n",
              "      <td>0.0</td>\n",
              "      <td>1.0</td>\n",
              "    </tr>\n",
              "    <tr>\n",
              "      <th>703</th>\n",
              "      <td>30.0</td>\n",
              "      <td>2503.0</td>\n",
              "      <td>4.0</td>\n",
              "      <td>2.0</td>\n",
              "      <td>1.0</td>\n",
              "      <td>2.0</td>\n",
              "      <td>1.0</td>\n",
              "      <td>0.0</td>\n",
              "      <td>1.0</td>\n",
              "      <td>0.0</td>\n",
              "      <td>0.0</td>\n",
              "      <td>0.0</td>\n",
              "      <td>0.0</td>\n",
              "      <td>0.0</td>\n",
              "      <td>1.0</td>\n",
              "      <td>0.0</td>\n",
              "      <td>0.0</td>\n",
              "      <td>0.0</td>\n",
              "      <td>0.0</td>\n",
              "      <td>0.0</td>\n",
              "      <td>0.0</td>\n",
              "      <td>0.0</td>\n",
              "      <td>0.0</td>\n",
              "      <td>0.0</td>\n",
              "      <td>0.0</td>\n",
              "      <td>1.0</td>\n",
              "      <td>0.0</td>\n",
              "      <td>1.0</td>\n",
              "      <td>0.0</td>\n",
              "      <td>0.0</td>\n",
              "      <td>0.0</td>\n",
              "      <td>0.0</td>\n",
              "      <td>0.0</td>\n",
              "      <td>0.0</td>\n",
              "      <td>0.0</td>\n",
              "      <td>1.0</td>\n",
              "      <td>1.0</td>\n",
              "      <td>0.0</td>\n",
              "      <td>0.0</td>\n",
              "      <td>0.0</td>\n",
              "      <td>1.0</td>\n",
              "      <td>0.0</td>\n",
              "      <td>0.0</td>\n",
              "      <td>0.0</td>\n",
              "      <td>1.0</td>\n",
              "      <td>0.0</td>\n",
              "      <td>0.0</td>\n",
              "      <td>1.0</td>\n",
              "      <td>0.0</td>\n",
              "      <td>0.0</td>\n",
              "      <td>0.0</td>\n",
              "      <td>1.0</td>\n",
              "      <td>0.0</td>\n",
              "      <td>1.0</td>\n",
              "      <td>0.0</td>\n",
              "      <td>1.0</td>\n",
              "      <td>0.0</td>\n",
              "      <td>1.0</td>\n",
              "    </tr>\n",
              "    <tr>\n",
              "      <th>776</th>\n",
              "      <td>36.0</td>\n",
              "      <td>3535.0</td>\n",
              "      <td>4.0</td>\n",
              "      <td>4.0</td>\n",
              "      <td>1.0</td>\n",
              "      <td>2.0</td>\n",
              "      <td>1.0</td>\n",
              "      <td>0.0</td>\n",
              "      <td>0.0</td>\n",
              "      <td>0.0</td>\n",
              "      <td>1.0</td>\n",
              "      <td>0.0</td>\n",
              "      <td>0.0</td>\n",
              "      <td>0.0</td>\n",
              "      <td>0.0</td>\n",
              "      <td>1.0</td>\n",
              "      <td>1.0</td>\n",
              "      <td>0.0</td>\n",
              "      <td>0.0</td>\n",
              "      <td>0.0</td>\n",
              "      <td>0.0</td>\n",
              "      <td>0.0</td>\n",
              "      <td>0.0</td>\n",
              "      <td>0.0</td>\n",
              "      <td>0.0</td>\n",
              "      <td>0.0</td>\n",
              "      <td>1.0</td>\n",
              "      <td>0.0</td>\n",
              "      <td>0.0</td>\n",
              "      <td>0.0</td>\n",
              "      <td>0.0</td>\n",
              "      <td>0.0</td>\n",
              "      <td>0.0</td>\n",
              "      <td>0.0</td>\n",
              "      <td>1.0</td>\n",
              "      <td>0.0</td>\n",
              "      <td>1.0</td>\n",
              "      <td>0.0</td>\n",
              "      <td>0.0</td>\n",
              "      <td>0.0</td>\n",
              "      <td>0.0</td>\n",
              "      <td>1.0</td>\n",
              "      <td>0.0</td>\n",
              "      <td>0.0</td>\n",
              "      <td>0.0</td>\n",
              "      <td>1.0</td>\n",
              "      <td>0.0</td>\n",
              "      <td>1.0</td>\n",
              "      <td>0.0</td>\n",
              "      <td>0.0</td>\n",
              "      <td>0.0</td>\n",
              "      <td>1.0</td>\n",
              "      <td>0.0</td>\n",
              "      <td>0.0</td>\n",
              "      <td>1.0</td>\n",
              "      <td>1.0</td>\n",
              "      <td>0.0</td>\n",
              "      <td>1.0</td>\n",
              "    </tr>\n",
              "    <tr>\n",
              "      <th>659</th>\n",
              "      <td>18.0</td>\n",
              "      <td>6361.0</td>\n",
              "      <td>2.0</td>\n",
              "      <td>1.0</td>\n",
              "      <td>1.0</td>\n",
              "      <td>1.0</td>\n",
              "      <td>1.0</td>\n",
              "      <td>0.0</td>\n",
              "      <td>1.0</td>\n",
              "      <td>0.0</td>\n",
              "      <td>0.0</td>\n",
              "      <td>0.0</td>\n",
              "      <td>0.0</td>\n",
              "      <td>0.0</td>\n",
              "      <td>0.0</td>\n",
              "      <td>1.0</td>\n",
              "      <td>0.0</td>\n",
              "      <td>0.0</td>\n",
              "      <td>0.0</td>\n",
              "      <td>1.0</td>\n",
              "      <td>0.0</td>\n",
              "      <td>0.0</td>\n",
              "      <td>0.0</td>\n",
              "      <td>0.0</td>\n",
              "      <td>0.0</td>\n",
              "      <td>0.0</td>\n",
              "      <td>1.0</td>\n",
              "      <td>0.0</td>\n",
              "      <td>0.0</td>\n",
              "      <td>0.0</td>\n",
              "      <td>0.0</td>\n",
              "      <td>0.0</td>\n",
              "      <td>0.0</td>\n",
              "      <td>0.0</td>\n",
              "      <td>0.0</td>\n",
              "      <td>1.0</td>\n",
              "      <td>1.0</td>\n",
              "      <td>0.0</td>\n",
              "      <td>0.0</td>\n",
              "      <td>0.0</td>\n",
              "      <td>0.0</td>\n",
              "      <td>0.0</td>\n",
              "      <td>1.0</td>\n",
              "      <td>0.0</td>\n",
              "      <td>0.0</td>\n",
              "      <td>1.0</td>\n",
              "      <td>0.0</td>\n",
              "      <td>1.0</td>\n",
              "      <td>0.0</td>\n",
              "      <td>0.0</td>\n",
              "      <td>0.0</td>\n",
              "      <td>1.0</td>\n",
              "      <td>0.0</td>\n",
              "      <td>0.0</td>\n",
              "      <td>1.0</td>\n",
              "      <td>1.0</td>\n",
              "      <td>0.0</td>\n",
              "      <td>1.0</td>\n",
              "    </tr>\n",
              "  </tbody>\n",
              "</table>\n",
              "</div>"
            ],
            "text/plain": [
              "     month  credit_amount  ...  foreign_worker=A202  credit\n",
              "822   36.0         2712.0  ...                  0.0     2.0\n",
              "830   24.0         2375.0  ...                  0.0     1.0\n",
              "703   30.0         2503.0  ...                  0.0     1.0\n",
              "776   36.0         3535.0  ...                  0.0     1.0\n",
              "659   18.0         6361.0  ...                  0.0     1.0\n",
              "\n",
              "[5 rows x 58 columns]"
            ]
          },
          "metadata": {
            "tags": []
          },
          "execution_count": 6
        }
      ]
    },
    {
      "cell_type": "markdown",
      "metadata": {
        "id": "-9G0RdfbQilw"
      },
      "source": [
        "As a reminder of what we did last week, let's calculate some fairness metrics on the training data (hint, use `BinarylabelDatasetMetric`):"
      ]
    },
    {
      "cell_type": "code",
      "metadata": {
        "id": "BoazzmDQQilx",
        "colab": {
          "base_uri": "https://localhost:8080/"
        },
        "outputId": "bb3b2dd1-d0e3-4985-8762-e22465208003"
      },
      "source": [
        "# write your code here\n",
        "metric_train_orig = BinaryLabelDatasetMetric(\n",
        "     train_orig, \n",
        "     unprivileged_groups = unprivileged_groups,\n",
        "     privileged_groups = privileged_groups\n",
        "  )\n",
        "print(\"Original training dataset\")\n",
        "print(\"Difference in mean outcomes between unprivileged and privileged groups = %f\" % metric_train_orig.mean_difference())\n",
        "print(\"Disparate Impact = %f\" % metric_train_orig.disparate_impact())"
      ],
      "execution_count": null,
      "outputs": [
        {
          "output_type": "stream",
          "text": [
            "Original training dataset\n",
            "Difference in mean outcomes between unprivileged and privileged groups = -0.135481\n",
            "Disparate Impact = 0.814721\n"
          ],
          "name": "stdout"
        }
      ]
    },
    {
      "cell_type": "markdown",
      "metadata": {
        "id": "_vXjQtpLQily"
      },
      "source": [
        "## Step 2: Train a classifier to predict credit using the original data\n",
        "\n",
        "We will be training a logistic regression model to predict good/bad credit, then fine-tuning the model over a set of hyperparameters. Then, we'll see how well this basic model does on some fairness metrics. \n",
        "\n",
        "### 2.1 Training and evaluating a logistic regression model \n",
        "First, we need to split our data up into the explantory variables (x) and the outcome variable (y). We will recode the outcome so that the values are 0 (= bad credit) and 1 (= good credit). This is the format that the sklearn logistic regression function expects."
      ]
    },
    {
      "cell_type": "code",
      "metadata": {
        "id": "eq3P6dXAQilz",
        "colab": {
          "base_uri": "https://localhost:8080/"
        },
        "outputId": "eab3d0be-d19f-4380-c9b4-a5e77304603c"
      },
      "source": [
        "x_train = train_orig_df.drop(\"credit\", axis=1)\n",
        "y_train = train_orig_df.credit.replace({2:0}) \n",
        "print(\"Outcomes: \")\n",
        "y_train.value_counts()"
      ],
      "execution_count": null,
      "outputs": [
        {
          "output_type": "stream",
          "text": [
            "Outcomes: \n"
          ],
          "name": "stdout"
        },
        {
          "output_type": "execute_result",
          "data": {
            "text/plain": [
              "1.0    426\n",
              "0.0    174\n",
              "Name: credit, dtype: int64"
            ]
          },
          "metadata": {
            "tags": []
          },
          "execution_count": 16
        }
      ]
    },
    {
      "cell_type": "markdown",
      "metadata": {
        "id": "SI8BpcTIQil0"
      },
      "source": [
        "Next, we can fit our model."
      ]
    },
    {
      "cell_type": "code",
      "metadata": {
        "id": "CHtshyRkQil1"
      },
      "source": [
        "# Set up the logistic regression model with the given hyperparameters\n",
        "initial_lr = LogisticRegression(C=0.5, penalty=\"l1\", solver='liblinear')\n",
        "    \n",
        "# Fit the model using the training data\n",
        "initial_lr = initial_lr.fit(x_train, y_train, sample_weight=None)"
      ],
      "execution_count": null,
      "outputs": []
    },
    {
      "cell_type": "markdown",
      "metadata": {
        "id": "0QKB7FaGQil2"
      },
      "source": [
        "Now that we have a trained model, we should evaluate it on our validation set. For now, we'll look the AUC as well as accuracy when we use a cutoff of 0.5 (that is, predicted values over 0.5 are interpreted as good credit, and vice versa).\n",
        "\n",
        "Let's write a funciton to do that, too."
      ]
    },
    {
      "cell_type": "code",
      "metadata": {
        "id": "WA-5D7WYQil2"
      },
      "source": [
        "def evaluate(model, X, y_true):\n",
        "    '''Calculates the AUC and accuracy for a trained logistic regression model'''\n",
        "    \n",
        "    # Calculate predicted values\n",
        "    y_pred = model.predict_proba(X)\n",
        "    # This returns a tuple for each observation containing the probability of being in each class.\n",
        "    # Since we're doing binary classification, all we need to know is the probability that the outcome = 1 (good credit)\n",
        "    y_pred = [row[1] for row in y_pred] # This pulls the predicted probability that y = 1 for each observation\n",
        "\n",
        "    # Calculate accuracy\n",
        "    accuracy = accuracy_score(y_true, [pred_prob >= 0.5 for pred_prob in y_pred])\n",
        "    \n",
        "    # Calculate AUC\n",
        "    auc = roc_auc_score(y_true, y_pred)\n",
        "    \n",
        "    return accuracy, auc\n",
        "    "
      ],
      "execution_count": null,
      "outputs": []
    },
    {
      "cell_type": "code",
      "metadata": {
        "id": "xv-4T2iiQil3"
      },
      "source": [
        "# Before we call the function, we need to set up the validation data properly, the way we did for the training data.\n",
        "x_val = val_orig_df.drop(\"credit\", axis=1)\n",
        "y_val = val_orig_df.credit.replace({2:0}) "
      ],
      "execution_count": null,
      "outputs": []
    },
    {
      "cell_type": "code",
      "metadata": {
        "id": "Hc52k1sgQil4",
        "colab": {
          "base_uri": "https://localhost:8080/"
        },
        "outputId": "b71d4d98-0829-45fb-d6c4-bb3a820f51f4"
      },
      "source": [
        "accuracy, auc = evaluate(initial_lr, x_val, y_val)\n",
        "print(\"Accuracy: \", accuracy)\n",
        "print(\"AUC: \", auc)"
      ],
      "execution_count": null,
      "outputs": [
        {
          "output_type": "stream",
          "text": [
            "Accuracy:  0.72\n",
            "AUC:  0.784644415615049\n"
          ],
          "name": "stdout"
        }
      ]
    },
    {
      "cell_type": "markdown",
      "metadata": {
        "id": "a-PyJ6fdQil4"
      },
      "source": [
        "### 2.2 Hyperparameter tuning the logistic regression model \n",
        "\n",
        "For hyperparameter tuning, we want to be able to easily train models with a variety of hyperparameter and determine which one performs the best on the validation data. We can use the functions we wrote above to do this. "
      ]
    },
    {
      "cell_type": "code",
      "metadata": {
        "id": "TJucCUYUQil5"
      },
      "source": [
        "def tune_logistic_regression(train_df, val_df, penalty_types, C_values, weights=None, verbose=True):\n",
        "    '''Tunes logistic regression models over the hyperparameters penalty type and C\n",
        "       to maximize the AUC'''\n",
        "    # Pre-process the training and validation data\n",
        "    x_train = train_df.drop(\"credit\", axis=1)\n",
        "    y_train = train_df.credit.replace({2:0}) \n",
        "    x_val = val_df.drop(\"credit\", axis=1)\n",
        "    y_val = val_df.credit.replace({2:0}) \n",
        "\n",
        "    # Create empty lists where we will store the results of hyperparameter tuning \n",
        "    parameters = []\n",
        "    models = []\n",
        "    val_aucs = []\n",
        "    \n",
        "    # Loop through the hyperparameters of interest\n",
        "    for penalty in penalty_types:\n",
        "        for C in C_values:\n",
        "            \n",
        "            # Train the logistic regression model with the given hyperparameters\n",
        "            lr = LogisticRegression(C=C, penalty=penalty, solver='liblinear')\n",
        "    \n",
        "            # Fit the model using the training data\n",
        "            lr = lr.fit(x_train, y_train, sample_weight=weights)\n",
        "            \n",
        "            # Get the evalution metrics on the validation set \n",
        "            accuracy, auc  = evaluate(lr, x_val, y_val)\n",
        "            \n",
        "            # Store the results\n",
        "            parameters.append({'penalty': penalty, 'C': C})\n",
        "            models.append(lr)\n",
        "            val_aucs.append(auc)\n",
        "            \n",
        "            # Print the results\n",
        "            if verbose:\n",
        "                print(\"\\nParmeters: \\tpenalty={} \\tC={}\".format(penalty, C))\n",
        "                print(\"Validtion AUC: {}\".format(auc))\n",
        "            \n",
        "    \n",
        "    # Determine the best model -- that is, the one with the AUC\n",
        "    best_model_index = np.argmax(val_aucs)\n",
        "    best_model = models[best_model_index]\n",
        "    \n",
        "    print(\"\\nBest model parameters: \", parameters[best_model_index])\n",
        "    print(\"Best model AUC: \", val_aucs[best_model_index])\n",
        "    \n",
        "    # Return best model\n",
        "    return best_model, parameters, models, val_aucs"
      ],
      "execution_count": null,
      "outputs": []
    },
    {
      "cell_type": "code",
      "metadata": {
        "id": "oZDRZopwQil6",
        "colab": {
          "base_uri": "https://localhost:8080/"
        },
        "outputId": "395b6d8f-64bf-41ae-f996-2cecc7f71255"
      },
      "source": [
        "best_lr, parameters, models, val_aucs = tune_logistic_regression(train_orig_df, val_orig_df, penalty_types=[\"l1\", \"l2\"], C_values=[0.001, 0.1, 1, 10, 100, 1000, 10000, 100000])"
      ],
      "execution_count": null,
      "outputs": [
        {
          "output_type": "stream",
          "text": [
            "\n",
            "Parmeters: \tpenalty=l1 \tC=0.001\n",
            "Validtion AUC: 0.4036442976766128\n",
            "\n",
            "Parmeters: \tpenalty=l1 \tC=0.1\n",
            "Validtion AUC: 0.7456067932539214\n",
            "\n",
            "Parmeters: \tpenalty=l1 \tC=1\n",
            "Validtion AUC: 0.7720250029484608\n",
            "\n",
            "Parmeters: \tpenalty=l1 \tC=10\n",
            "Validtion AUC: 0.745135039509376\n",
            "\n",
            "Parmeters: \tpenalty=l1 \tC=100\n",
            "Validtion AUC: 0.7411251326807405\n",
            "\n",
            "Parmeters: \tpenalty=l1 \tC=1000\n",
            "Validtion AUC: 0.741243071116877\n",
            "\n",
            "Parmeters: \tpenalty=l1 \tC=10000\n",
            "Validtion AUC: 0.7411251326807408\n",
            "\n",
            "Parmeters: \tpenalty=l1 \tC=100000\n",
            "Validtion AUC: 0.7424224554782403\n",
            "\n",
            "Parmeters: \tpenalty=l2 \tC=0.001\n",
            "Validtion AUC: 0.6545583205566695\n",
            "\n",
            "Parmeters: \tpenalty=l2 \tC=0.1\n",
            "Validtion AUC: 0.7965561976648191\n",
            "\n",
            "Parmeters: \tpenalty=l2 \tC=1\n",
            "Validtion AUC: 0.7690765420450525\n",
            "\n",
            "Parmeters: \tpenalty=l2 \tC=10\n",
            "Validtion AUC: 0.7648307583441443\n",
            "\n",
            "Parmeters: \tpenalty=l2 \tC=100\n",
            "Validtion AUC: 0.7653025120886896\n",
            "\n",
            "Parmeters: \tpenalty=l2 \tC=1000\n",
            "Validtion AUC: 0.7668357117584621\n",
            "\n",
            "Parmeters: \tpenalty=l2 \tC=10000\n",
            "Validtion AUC: 0.7648307583441444\n",
            "\n",
            "Parmeters: \tpenalty=l2 \tC=100000\n",
            "Validtion AUC: 0.7676612808114164\n",
            "\n",
            "Best model parameters:  {'penalty': 'l2', 'C': 0.1}\n",
            "Best model AUC:  0.7965561976648191\n"
          ],
          "name": "stdout"
        }
      ]
    },
    {
      "cell_type": "markdown",
      "metadata": {
        "id": "1j05GktrQil7"
      },
      "source": [
        "Let's plot the results so that we understand what hyperparameter tuning actually did."
      ]
    },
    {
      "cell_type": "code",
      "metadata": {
        "id": "Bz0veGCfQil7",
        "colab": {
          "base_uri": "https://localhost:8080/",
          "height": 283
        },
        "outputId": "58cd707d-6c5c-49b7-aed3-d61e4e7e7a4d"
      },
      "source": [
        "val_aucs_l1 = [val_aucs[i] for i in range(len(val_aucs)) if parameters[i]['penalty']==\"l1\"]\n",
        "val_aucs_l2 = [val_aucs[i] for i in range(len(val_aucs)) if parameters[i]['penalty']==\"l2\"]\n",
        "C_values = [parameters[i]['C'] for i in range(len(parameters)) if parameters[i]['penalty']==\"l2\"]\n",
        "\n",
        "fig, ax = plt.subplots()\n",
        "ax.semilogx( C_values, val_aucs_l1, marker='.', markerfacecolor='blue', markersize=12, color='blue', linewidth=4, label='L1 Penalty')\n",
        "ax.semilogx( C_values, val_aucs_l2, marker='.', markerfacecolor='red', markersize=12, color='red', linewidth=4, label='L2 Penalty')\n",
        "ax.set_xlabel(\"C\")\n",
        "ax.set_ylabel(\"AUC\")\n",
        "plt.legend()\n",
        "plt.show()"
      ],
      "execution_count": null,
      "outputs": [
        {
          "output_type": "display_data",
          "data": {
            "image/png": "[encoded data removed]",
            "text/plain": [
              "<Figure size 432x288 with 1 Axes>"
            ]
          },
          "metadata": {
            "tags": [],
            "needs_background": "light"
          }
        }
      ]
    },
    {
      "cell_type": "markdown",
      "metadata": {
        "id": "Mzab0o-5Qil8"
      },
      "source": [
        "### 2.3 Evaluating bias in our predictions\n",
        "\n",
        "Let's put our data back into a aif360 dataset format, so that we can use all of the fairness metrics provided by the package. For now, we'll evaluate bias on the training data. This mimics the development process we'd use in any real application.\n",
        "\n",
        "First, we'll get predicted values using the best model and attach them as a new column in the data frame. We'll use 0.5 as the threshold as before."
      ]
    },
    {
      "cell_type": "code",
      "metadata": {
        "id": "0Xhb_wlGQil8"
      },
      "source": [
        "# Copy the dataset\n",
        "train_preds_df = train_orig_df.copy()\n",
        "# Calculate predicted values\n",
        "train_preds_df['credit'] = best_lr.predict(x_train)\n",
        "# Recode the predictions so that they match the format that the dataset was originally provided in \n",
        "# (1 = good credit, 2 = bad credit)\n",
        "train_preds_df['credit'] = train_preds_df.credit.replace({0:2})"
      ],
      "execution_count": null,
      "outputs": []
    },
    {
      "cell_type": "markdown",
      "metadata": {
        "id": "R-PK4GJ-Qil9"
      },
      "source": [
        "Then we'll create an object of the aif360 StandardDataset class. You can read more about this in the documentation:\n",
        "https://aif360.readthedocs.io/en/latest/modules/standard_datasets.html#aif360.datasets.StandardDataset"
      ]
    },
    {
      "cell_type": "code",
      "metadata": {
        "id": "A5rMozURQil-"
      },
      "source": [
        "orig_aif360 = StandardDataset(train_orig_df, label_name='credit', protected_attribute_names=['age'], \n",
        "                privileged_classes=[[1]], favorable_classes=[1])\n",
        "preds_aif360 = StandardDataset(train_preds_df, label_name='credit', protected_attribute_names=['age'], \n",
        "                privileged_classes=[[1]], favorable_classes=[1])"
      ],
      "execution_count": null,
      "outputs": []
    },
    {
      "cell_type": "markdown",
      "metadata": {
        "id": "QclM1irQQil_"
      },
      "source": [
        "Now, let's calculate some fairness metrics!"
      ]
    },
    {
      "cell_type": "code",
      "metadata": {
        "id": "TLv4s4agQimA",
        "colab": {
          "base_uri": "https://localhost:8080/"
        },
        "outputId": "70f4e1e2-25fa-4eca-8850-dee37ce33bd2"
      },
      "source": [
        "# write your code here\n",
        "metric_train_orig = BinaryLabelDatasetMetric(\n",
        "     orig_aif360, \n",
        "     unprivileged_groups = unprivileged_groups,\n",
        "     privileged_groups = privileged_groups\n",
        "  )\n",
        "print(\"Original training dataset\")\n",
        "print(\"Difference in mean outcomes between unprivileged and privileged groups = %f\" % metric_train_orig.mean_difference())\n",
        "print(\"Disparate Impact = %f\" % metric_train_orig.disparate_impact())\n",
        "\n",
        "metric_train_preds = BinaryLabelDatasetMetric(\n",
        "     preds_aif360, \n",
        "     unprivileged_groups = unprivileged_groups,\n",
        "     privileged_groups = privileged_groups\n",
        "  )\n",
        "print(\"\\nPrediction training dataset\")\n",
        "print(\"Difference in mean outcomes between unprivileged and privileged groups = %f\" % metric_train_preds.mean_difference())\n",
        "print(\"Disparate Impact = %f\" % metric_train_preds.disparate_impact())\n"
      ],
      "execution_count": null,
      "outputs": [
        {
          "output_type": "stream",
          "text": [
            "Original training dataset\n",
            "Difference in mean outcomes between unprivileged and privileged groups = -0.135481\n",
            "Disparate Impact = 0.814721\n",
            "\n",
            "Prediction training dataset\n",
            "Difference in mean outcomes between unprivileged and privileged groups = -0.221386\n",
            "Disparate Impact = 0.742480\n"
          ],
          "name": "stdout"
        }
      ]
    },
    {
      "cell_type": "markdown",
      "metadata": {
        "id": "7df8vbdGQimC"
      },
      "source": [
        "Recall from last week that we identified bias in the training data. We should therefore not find it surprising that we have bias in a model trained on that data.\n",
        "\n",
        "Now, since we have true values and predicted values, let's compare the true positive rate and false positive rate by group. This is similar to the analysis ProPublica did. \n",
        "\n",
        "Note that aif360 is pretty picky about what goes into this ClassificationMetric class, which is the reason for all the inefficient copying of datasets above. "
      ]
    },
    {
      "cell_type": "code",
      "metadata": {
        "id": "bcQplgqVQimD",
        "colab": {
          "base_uri": "https://localhost:8080/"
        },
        "outputId": "bf1e6c13-3861-4a67-f069-88836965da21"
      },
      "source": [
        "orig_vs_preds_metrics = ClassificationMetric(orig_aif360, preds_aif360,\n",
        "                                                   unprivileged_groups=unprivileged_groups,\n",
        "                                                   privileged_groups=privileged_groups)\n",
        "\n",
        "print(\"\\nError rate difference (unprivileged error rate - privileged error rate)= %f\" % orig_vs_preds_metrics.error_rate_difference())\n",
        "\n",
        "\n",
        "print(\"\\nFalse negative rate for privledged groups = %f\" % orig_vs_preds_metrics.false_negative_rate(privileged=True))\n",
        "print(\"False negative rate for unprivledged groups = %f\" % orig_vs_preds_metrics.false_negative_rate(privileged=False))\n",
        "print(\"False negative rate ratio = %f\" % orig_vs_preds_metrics.false_negative_rate_ratio())\n",
        "\n",
        "\n",
        "print(\"\\nFalse positive rate for privledged groups = %f\" % orig_vs_preds_metrics.false_positive_rate(privileged=True))\n",
        "print(\"False positive rate for unprivledged groups = %f\" % orig_vs_preds_metrics.false_positive_rate(privileged=False))\n",
        "print(\"False positive rate ratio = %f\" % orig_vs_preds_metrics.false_positive_rate_ratio())\n",
        "\n",
        "\n"
      ],
      "execution_count": null,
      "outputs": [
        {
          "output_type": "stream",
          "text": [
            "\n",
            "Error rate difference (unprivileged error rate - privileged error rate)= 0.090362\n",
            "\n",
            "False negative rate for privledged groups = 0.054054\n",
            "False negative rate for unprivledged groups = 0.214286\n",
            "False negative rate ratio = 3.964286\n",
            "\n",
            "False positive rate for privledged groups = 0.625000\n",
            "False positive rate for unprivledged groups = 0.421053\n",
            "False positive rate ratio = 0.673684\n"
          ],
          "name": "stdout"
        }
      ]
    },
    {
      "cell_type": "markdown",
      "metadata": {
        "id": "QpZ6MIDRQimE"
      },
      "source": [
        "This confirms it: our model is even *more* biased than the original credit scores.  \n",
        "\n",
        "Let's try to fix that."
      ]
    },
    {
      "cell_type": "markdown",
      "metadata": {
        "id": "wOv7pZhwQimF"
      },
      "source": [
        "## Step 3: Train a classifier to predict credit using the original data, excluding the sensitive feature\n",
        "\n",
        "We've talked several times in class about how removing a sensitive attribute is not enough. Let's see if that's true in action."
      ]
    },
    {
      "cell_type": "code",
      "metadata": {
        "id": "KrCaX_SXQimG",
        "colab": {
          "base_uri": "https://localhost:8080/"
        },
        "outputId": "26a314da-e7b4-42e6-8a2e-03fc20e4dfa9"
      },
      "source": [
        "best_lr_noage, _, _, _ = tune_logistic_regression(train_orig_df.drop('age', axis=1), val_orig_df.drop('age', axis=1),\n",
        "                                                                       penalty_types=[\"l1\", \"l2\"], C_values=[0.001, 0.1, 1, 10, 100, 1000, 10000, 100000], verbose=False)\n"
      ],
      "execution_count": null,
      "outputs": [
        {
          "output_type": "stream",
          "text": [
            "\n",
            "Best model parameters:  {'penalty': 'l2', 'C': 0.1}\n",
            "Best model AUC:  0.7816959547116406\n"
          ],
          "name": "stdout"
        }
      ]
    },
    {
      "cell_type": "markdown",
      "metadata": {
        "id": "XcN-PxAcQimH"
      },
      "source": [
        "Note that the AUC of our best model is *slightly* worse than before: by excluding a feature, we've lost some predictive power."
      ]
    },
    {
      "cell_type": "markdown",
      "metadata": {
        "id": "koTe6gNlQimH"
      },
      "source": [
        "Now let's check the same bias metrics again."
      ]
    },
    {
      "cell_type": "code",
      "metadata": {
        "id": "BedpLxvSQimH"
      },
      "source": [
        "preds_df_noage = train_orig_df.copy()\n",
        "preds_df_noage['credit'] = best_lr_noage.predict(x_train.drop('age', axis=1))\n",
        "preds_df_noage['credit'] = preds_df_noage.credit.replace({0:2})"
      ],
      "execution_count": null,
      "outputs": []
    },
    {
      "cell_type": "code",
      "metadata": {
        "id": "6O0TMLAmQimI",
        "colab": {
          "base_uri": "https://localhost:8080/"
        },
        "outputId": "2a299eb7-de94-4c93-eb0b-41415a0a5093"
      },
      "source": [
        "noage_preds_aif360 = StandardDataset(preds_df_noage, label_name='credit', protected_attribute_names=['age'], \n",
        "                privileged_classes=[[1]], favorable_classes=[1])\n",
        "\n",
        "\n",
        "noage_preds_metrics = BinaryLabelDatasetMetric(noage_preds_aif360, \n",
        "                                             unprivileged_groups=unprivileged_groups,\n",
        "                                             privileged_groups=privileged_groups)\n",
        "print(\"Mean difference = %f\" % noage_preds_metrics.mean_difference())\n",
        "print(\"Disparate Impact = %f\" % noage_preds_metrics.disparate_impact())\n",
        "\n",
        "orig_vs_noage_preds_metrics = ClassificationMetric(orig_aif360, noage_preds_aif360,\n",
        "                                                   unprivileged_groups=unprivileged_groups,\n",
        "                                                   privileged_groups=privileged_groups)\n",
        "\n",
        "print(\"\\nError rate difference (unprivileged error rate - privileged error rate)= %f\" % orig_vs_noage_preds_metrics.error_rate_difference())\n",
        "\n",
        "\n",
        "print(\"\\nFalse negative rate for privledged groups = %f\" % orig_vs_noage_preds_metrics.false_negative_rate(privileged=True))\n",
        "print(\"False negative rate for unprivledged groups = %f\" % orig_vs_noage_preds_metrics.false_negative_rate(privileged=False))\n",
        "print(\"False negative rate ratio = %f\" % orig_vs_noage_preds_metrics.false_negative_rate_ratio())\n",
        "\n",
        "\n",
        "print(\"\\nFalse positive rate for privledged groups = %f\" % orig_vs_noage_preds_metrics.false_positive_rate(privileged=True))\n",
        "print(\"False positive rate for unprivledged groups = %f\" % orig_vs_noage_preds_metrics.false_positive_rate(privileged=False))\n",
        "print(\"False positive rate ratio = %f\" % orig_vs_noage_preds_metrics.false_positive_rate_ratio())\n",
        "\n"
      ],
      "execution_count": null,
      "outputs": [
        {
          "output_type": "stream",
          "text": [
            "Mean difference = -0.156337\n",
            "Disparate Impact = 0.815603\n",
            "\n",
            "Error rate difference (unprivileged error rate - privileged error rate)= 0.079724\n",
            "\n",
            "False negative rate for privledged groups = 0.062162\n",
            "False negative rate for unprivledged groups = 0.160714\n",
            "False negative rate ratio = 2.585404\n",
            "\n",
            "False positive rate for privledged groups = 0.602941\n",
            "False positive rate for unprivledged groups = 0.473684\n",
            "False positive rate ratio = 0.785623\n"
          ],
          "name": "stdout"
        }
      ]
    },
    {
      "cell_type": "markdown",
      "metadata": {
        "id": "Jx5z3o5BQimI"
      },
      "source": [
        "Scroll up -- how do these numbers for our model that doesn't use age compare to the model that *does* use it?"
      ]
    },
    {
      "cell_type": "markdown",
      "metadata": {
        "id": "WjBBTBfXDufF"
      },
      "source": [
        "**Write your comparison in this text cell:** The false negative rate ratio goes down, but the false positive rate ratio goes up indicating that there is less and more bias for the respective false negative and false positive rate ratio outcomes. There is also not much drastic change with the mean difference and disparate impact, indicating that filtering out age does not impact the bias of the prediction results of the model."
      ]
    },
    {
      "cell_type": "markdown",
      "metadata": {
        "id": "sAw3h8fUQimJ"
      },
      "source": [
        "## Step 4: Preprocess the data using the reweighting algorithm, then train a classifier to predict credit using the re-weighted data"
      ]
    },
    {
      "cell_type": "code",
      "metadata": {
        "id": "APqjkl5aQimJ"
      },
      "source": [
        "# Fit the weights to our training data\n",
        "RW = Reweighing(unprivileged_groups=unprivileged_groups,\n",
        "                privileged_groups=privileged_groups)\n",
        "RW_fit = RW.fit(train_orig)\n"
      ],
      "execution_count": null,
      "outputs": []
    },
    {
      "cell_type": "code",
      "metadata": {
        "id": "ziXVHt8uQimK",
        "colab": {
          "base_uri": "https://localhost:8080/"
        },
        "outputId": "51257c9a-229e-4811-a27e-1ae149f6bd2c"
      },
      "source": [
        "# Pull the actual values of the weights for the training data\n",
        "train_reweighed = RW_fit.transform(train_orig)\n",
        "training_weights = train_reweighed.instance_weights\n",
        "training_weights"
      ],
      "execution_count": null,
      "outputs": [
        {
          "output_type": "execute_result",
          "data": {
            "text/plain": [
              "array([1.07897059, 0.97097297, 0.97097297, 0.97097297, 0.97097297,\n",
              "       0.71736842, 1.07897059, 0.97097297, 1.19178571, 0.97097297,\n",
              "       0.97097297, 0.71736842, 1.07897059, 0.97097297, 0.97097297,\n",
              "       0.97097297, 1.07897059, 0.97097297, 1.07897059, 0.97097297,\n",
              "       1.19178571, 0.97097297, 0.97097297, 1.07897059, 1.19178571,\n",
              "       0.71736842, 0.97097297, 1.19178571, 1.07897059, 0.97097297,\n",
              "       0.97097297, 0.97097297, 0.97097297, 0.97097297, 0.97097297,\n",
              "       0.97097297, 0.97097297, 0.97097297, 1.07897059, 1.19178571,\n",
              "       0.97097297, 1.07897059, 0.97097297, 0.97097297, 0.97097297,\n",
              "       0.97097297, 0.97097297, 0.97097297, 0.97097297, 1.07897059,\n",
              "       0.97097297, 0.97097297, 1.07897059, 0.97097297, 1.19178571,\n",
              "       0.97097297, 0.97097297, 1.19178571, 0.97097297, 0.97097297,\n",
              "       0.97097297, 1.19178571, 0.97097297, 1.07897059, 0.97097297,\n",
              "       0.97097297, 0.97097297, 0.71736842, 0.97097297, 0.97097297,\n",
              "       0.97097297, 0.97097297, 0.97097297, 0.97097297, 1.19178571,\n",
              "       0.97097297, 0.97097297, 0.97097297, 0.97097297, 1.07897059,\n",
              "       0.97097297, 1.07897059, 0.71736842, 1.07897059, 0.97097297,\n",
              "       0.71736842, 1.07897059, 0.97097297, 1.07897059, 0.71736842,\n",
              "       0.97097297, 0.97097297, 1.19178571, 0.97097297, 1.19178571,\n",
              "       1.07897059, 1.07897059, 0.97097297, 0.97097297, 0.97097297,\n",
              "       0.97097297, 0.97097297, 0.71736842, 0.97097297, 0.97097297,\n",
              "       0.97097297, 0.97097297, 1.07897059, 0.97097297, 0.97097297,\n",
              "       1.19178571, 1.19178571, 1.07897059, 0.97097297, 1.07897059,\n",
              "       0.97097297, 0.97097297, 0.97097297, 0.97097297, 0.97097297,\n",
              "       1.07897059, 0.97097297, 0.97097297, 1.07897059, 0.71736842,\n",
              "       0.97097297, 0.97097297, 0.97097297, 1.07897059, 0.97097297,\n",
              "       0.97097297, 0.97097297, 0.97097297, 0.97097297, 1.07897059,\n",
              "       1.07897059, 0.71736842, 1.19178571, 1.07897059, 1.07897059,\n",
              "       1.19178571, 1.07897059, 1.07897059, 1.07897059, 0.97097297,\n",
              "       0.97097297, 0.97097297, 0.97097297, 1.07897059, 1.07897059,\n",
              "       0.97097297, 0.97097297, 1.07897059, 0.97097297, 0.97097297,\n",
              "       1.07897059, 0.97097297, 1.07897059, 0.97097297, 0.97097297,\n",
              "       0.97097297, 0.97097297, 1.07897059, 1.19178571, 0.97097297,\n",
              "       0.71736842, 1.19178571, 0.71736842, 0.97097297, 1.07897059,\n",
              "       1.07897059, 1.07897059, 0.97097297, 1.07897059, 0.97097297,\n",
              "       0.97097297, 0.97097297, 0.97097297, 0.97097297, 0.97097297,\n",
              "       0.97097297, 0.97097297, 0.97097297, 0.97097297, 0.71736842,\n",
              "       0.97097297, 0.97097297, 1.07897059, 0.97097297, 0.97097297,\n",
              "       0.97097297, 0.71736842, 1.07897059, 0.97097297, 0.97097297,\n",
              "       1.07897059, 1.07897059, 0.97097297, 0.97097297, 1.07897059,\n",
              "       1.07897059, 0.97097297, 1.19178571, 0.97097297, 0.97097297,\n",
              "       0.97097297, 0.97097297, 0.71736842, 1.19178571, 0.97097297,\n",
              "       0.97097297, 1.07897059, 1.07897059, 1.19178571, 1.07897059,\n",
              "       0.97097297, 1.07897059, 0.97097297, 1.19178571, 0.97097297,\n",
              "       1.07897059, 0.97097297, 1.07897059, 0.97097297, 0.97097297,\n",
              "       0.97097297, 0.71736842, 1.07897059, 0.97097297, 0.97097297,\n",
              "       0.97097297, 1.07897059, 0.97097297, 0.97097297, 1.07897059,\n",
              "       1.07897059, 0.97097297, 1.19178571, 0.97097297, 0.97097297,\n",
              "       0.97097297, 0.97097297, 0.97097297, 0.97097297, 0.97097297,\n",
              "       1.07897059, 0.97097297, 0.97097297, 0.97097297, 0.97097297,\n",
              "       0.97097297, 0.97097297, 1.07897059, 0.97097297, 0.97097297,\n",
              "       0.71736842, 0.97097297, 0.97097297, 0.97097297, 0.97097297,\n",
              "       0.97097297, 0.97097297, 0.97097297, 0.71736842, 0.71736842,\n",
              "       1.07897059, 0.97097297, 1.07897059, 0.97097297, 0.97097297,\n",
              "       0.97097297, 0.97097297, 0.97097297, 0.97097297, 0.97097297,\n",
              "       0.97097297, 0.97097297, 0.97097297, 0.97097297, 1.07897059,\n",
              "       1.07897059, 1.07897059, 0.97097297, 0.97097297, 0.97097297,\n",
              "       0.97097297, 1.07897059, 0.97097297, 0.97097297, 0.97097297,\n",
              "       1.07897059, 0.71736842, 0.97097297, 1.19178571, 0.97097297,\n",
              "       1.07897059, 0.97097297, 0.97097297, 0.97097297, 1.19178571,\n",
              "       0.71736842, 0.97097297, 1.07897059, 1.07897059, 1.19178571,\n",
              "       0.97097297, 0.97097297, 0.97097297, 0.97097297, 0.97097297,\n",
              "       0.97097297, 0.71736842, 0.97097297, 0.97097297, 0.97097297,\n",
              "       1.07897059, 0.97097297, 0.97097297, 0.97097297, 0.97097297,\n",
              "       0.97097297, 0.97097297, 0.97097297, 1.07897059, 0.97097297,\n",
              "       1.19178571, 0.97097297, 0.97097297, 0.97097297, 0.97097297,\n",
              "       1.07897059, 0.97097297, 0.97097297, 0.97097297, 0.97097297,\n",
              "       0.97097297, 1.07897059, 1.07897059, 1.07897059, 0.97097297,\n",
              "       1.07897059, 0.97097297, 1.07897059, 1.19178571, 0.97097297,\n",
              "       0.97097297, 0.97097297, 1.07897059, 1.07897059, 1.19178571,\n",
              "       1.19178571, 0.97097297, 0.97097297, 0.97097297, 0.97097297,\n",
              "       1.19178571, 0.97097297, 1.07897059, 0.97097297, 0.97097297,\n",
              "       0.97097297, 0.97097297, 0.97097297, 0.97097297, 0.71736842,\n",
              "       0.97097297, 0.97097297, 1.19178571, 1.07897059, 0.97097297,\n",
              "       1.07897059, 1.07897059, 0.97097297, 1.07897059, 1.19178571,\n",
              "       0.97097297, 1.07897059, 0.97097297, 0.97097297, 0.97097297,\n",
              "       0.97097297, 0.97097297, 0.97097297, 0.71736842, 1.07897059,\n",
              "       0.71736842, 0.97097297, 0.71736842, 0.97097297, 1.19178571,\n",
              "       0.97097297, 0.97097297, 0.97097297, 0.97097297, 0.97097297,\n",
              "       1.19178571, 1.07897059, 0.97097297, 0.71736842, 0.97097297,\n",
              "       0.97097297, 1.07897059, 1.19178571, 0.97097297, 0.97097297,\n",
              "       1.19178571, 0.97097297, 1.07897059, 0.97097297, 0.97097297,\n",
              "       0.97097297, 1.07897059, 1.07897059, 0.97097297, 0.97097297,\n",
              "       0.97097297, 0.97097297, 1.07897059, 0.97097297, 0.97097297,\n",
              "       0.97097297, 0.97097297, 0.97097297, 0.97097297, 0.97097297,\n",
              "       1.07897059, 0.97097297, 1.07897059, 0.71736842, 0.71736842,\n",
              "       1.19178571, 0.97097297, 0.97097297, 0.97097297, 0.97097297,\n",
              "       1.07897059, 0.97097297, 0.97097297, 1.19178571, 0.97097297,\n",
              "       1.07897059, 0.71736842, 0.97097297, 0.97097297, 1.07897059,\n",
              "       1.07897059, 1.07897059, 0.97097297, 0.97097297, 1.07897059,\n",
              "       0.71736842, 1.07897059, 0.97097297, 0.97097297, 0.97097297,\n",
              "       1.07897059, 1.07897059, 0.97097297, 0.71736842, 0.97097297,\n",
              "       1.07897059, 1.07897059, 0.97097297, 0.97097297, 0.97097297,\n",
              "       0.97097297, 0.97097297, 1.19178571, 0.97097297, 0.97097297,\n",
              "       0.97097297, 0.97097297, 0.97097297, 0.97097297, 1.19178571,\n",
              "       0.97097297, 0.97097297, 1.19178571, 0.97097297, 0.97097297,\n",
              "       0.97097297, 0.97097297, 0.97097297, 1.07897059, 0.97097297,\n",
              "       0.97097297, 0.97097297, 0.97097297, 1.07897059, 0.71736842,\n",
              "       0.97097297, 0.97097297, 1.19178571, 0.97097297, 0.97097297,\n",
              "       0.97097297, 1.19178571, 0.97097297, 0.97097297, 1.07897059,\n",
              "       1.19178571, 0.97097297, 0.97097297, 0.97097297, 0.97097297,\n",
              "       0.97097297, 0.97097297, 1.07897059, 0.71736842, 0.71736842,\n",
              "       0.97097297, 1.19178571, 1.19178571, 1.19178571, 1.19178571,\n",
              "       1.07897059, 0.97097297, 0.97097297, 0.97097297, 0.97097297,\n",
              "       0.97097297, 0.97097297, 1.07897059, 0.97097297, 1.19178571,\n",
              "       1.07897059, 1.19178571, 0.97097297, 1.07897059, 0.97097297,\n",
              "       1.19178571, 0.71736842, 0.97097297, 0.97097297, 0.97097297,\n",
              "       0.97097297, 1.07897059, 0.97097297, 0.97097297, 0.97097297,\n",
              "       0.71736842, 0.97097297, 0.97097297, 0.97097297, 0.97097297,\n",
              "       1.07897059, 0.97097297, 1.19178571, 1.07897059, 0.97097297,\n",
              "       1.19178571, 1.07897059, 1.07897059, 0.97097297, 0.97097297,\n",
              "       0.97097297, 1.07897059, 1.07897059, 0.97097297, 1.19178571,\n",
              "       0.97097297, 0.97097297, 0.97097297, 0.71736842, 1.07897059,\n",
              "       1.19178571, 1.07897059, 1.19178571, 0.97097297, 1.07897059,\n",
              "       0.97097297, 0.97097297, 1.07897059, 0.97097297, 0.97097297,\n",
              "       0.97097297, 1.07897059, 1.07897059, 1.07897059, 0.97097297,\n",
              "       1.07897059, 1.07897059, 1.07897059, 0.97097297, 1.07897059,\n",
              "       0.97097297, 0.97097297, 1.07897059, 0.97097297, 0.97097297,\n",
              "       0.97097297, 1.07897059, 0.97097297, 0.97097297, 0.97097297,\n",
              "       0.97097297, 1.07897059, 0.97097297, 1.07897059, 0.97097297])"
            ]
          },
          "metadata": {
            "tags": []
          },
          "execution_count": 36
        }
      ]
    },
    {
      "cell_type": "code",
      "metadata": {
        "id": "K3pXwJ_AQimK",
        "colab": {
          "base_uri": "https://localhost:8080/"
        },
        "outputId": "10123c64-1a90-47c7-e249-789928d34857"
      },
      "source": [
        "# Train a model using weights\n",
        "best_lr_weights, _, _, _ = tune_logistic_regression(train_orig_df.drop('age', axis=1), val_orig_df.drop('age', axis=1),\n",
        "                                                                       penalty_types=[\"l1\", \"l2\"], C_values=[0.001, 0.1, 1, 10, 100, 1000, 10000, 100000], \n",
        "                                                                       weights=training_weights, verbose=False)"
      ],
      "execution_count": null,
      "outputs": [
        {
          "output_type": "stream",
          "text": [
            "\n",
            "Best model parameters:  {'penalty': 'l2', 'C': 0.1}\n",
            "Best model AUC:  0.775209340724142\n"
          ],
          "name": "stdout"
        }
      ]
    },
    {
      "cell_type": "markdown",
      "metadata": {
        "id": "tvcEwpwPQimL"
      },
      "source": [
        "Hey look-- our AUC fell again. As we've discussed, there's often a tradeoff between fairness and other metrics that stakeholders care about. \n",
        "\n",
        "Let's see if the fairness metrics changed. "
      ]
    },
    {
      "cell_type": "code",
      "metadata": {
        "id": "3ej_9ovOQimL"
      },
      "source": [
        "train_preds_df_weights = train_orig_df.copy()\n",
        "train_preds_df_weights['credit'] = best_lr_weights.predict(x_train.drop('age', axis=1))\n",
        "train_preds_df_weights['credit'] = train_preds_df_weights.credit.replace({0:2})"
      ],
      "execution_count": null,
      "outputs": []
    },
    {
      "cell_type": "code",
      "metadata": {
        "id": "aQi9TyYNQimL",
        "colab": {
          "base_uri": "https://localhost:8080/"
        },
        "outputId": "a973e0b7-e8dc-4ca8-a5b9-a9728eb29ffc"
      },
      "source": [
        "preds_weights_aif360 = StandardDataset(train_preds_df_weights, label_name='credit', protected_attribute_names=['age'], \n",
        "                privileged_classes=[[1]], favorable_classes=[1])\n",
        "preds_weights_metrics = BinaryLabelDatasetMetric(preds_weights_aif360, \n",
        "                                             unprivileged_groups=unprivileged_groups,\n",
        "                                             privileged_groups=privileged_groups)\n",
        "print(\"Mean difference = %f\" % preds_weights_metrics.mean_difference())\n",
        "print(\"Disparate Impact = %f\" % preds_weights_metrics.disparate_impact())\n",
        "\n",
        "orig_vs_preds_weights_metrics = ClassificationMetric(orig_aif360, preds_weights_aif360,\n",
        "                                                   unprivileged_groups=unprivileged_groups,\n",
        "                                                   privileged_groups=privileged_groups)\n",
        "\n",
        "print(\"\\nError rate difference (unprivileged error rate - privileged error rate)= %f\" % orig_vs_preds_weights_metrics.error_rate_difference())\n",
        "\n",
        "print(\"\\nFalse negative rate for privledged groups = %f\" % orig_vs_preds_weights_metrics.false_negative_rate(privileged=True))\n",
        "print(\"False negative rate for unprivledged groups = %f\" % orig_vs_preds_weights_metrics.false_negative_rate(privileged=False))\n",
        "print(\"False negative rate ratio = %f\" % orig_vs_preds_weights_metrics.false_negative_rate_ratio())\n",
        "\n",
        "\n",
        "print(\"\\nFalse positive rate for privledged groups = %f\" % orig_vs_preds_weights_metrics.false_positive_rate(privileged=True))\n",
        "print(\"False positive rate for unprivledged groups = %f\" % orig_vs_preds_weights_metrics.false_positive_rate(privileged=False))\n",
        "print(\"False positive rate ratio = %f\" % orig_vs_preds_weights_metrics.false_positive_rate_ratio())\n",
        "\n"
      ],
      "execution_count": null,
      "outputs": [
        {
          "output_type": "stream",
          "text": [
            "Mean difference = -0.079892\n",
            "Disparate Impact = 0.905548\n",
            "\n",
            "Error rate difference (unprivileged error rate - privileged error rate)= 0.067110\n",
            "\n",
            "False negative rate for privledged groups = 0.064865\n",
            "False negative rate for unprivledged groups = 0.089286\n",
            "False negative rate ratio = 1.376488\n",
            "\n",
            "False positive rate for privledged groups = 0.602941\n",
            "False positive rate for unprivledged groups = 0.552632\n",
            "False positive rate ratio = 0.916560\n"
          ],
          "name": "stdout"
        }
      ]
    },
    {
      "cell_type": "markdown",
      "metadata": {
        "id": "JE9Fq1HXQimM"
      },
      "source": [
        "How do these numbers compare to the numbers above?"
      ]
    },
    {
      "cell_type": "markdown",
      "metadata": {
        "id": "M9ghCQm7pUUo"
      },
      "source": [
        "**These numbers appear to be far less bias than simply filtering out age. Both the false positive and negative rate ratios are close to one, indicating an almost even false prediction rate among unprivileged and privileged groups. Even the the mean difference has gone down and the disparate impact has moved far closer to one, indicating less bias in the amount of favorable outcomes between privileged and unprivileged groups.** "
      ]
    },
    {
      "cell_type": "markdown",
      "metadata": {
        "id": "7316kh6-QimM"
      },
      "source": [
        "## Step 5: Post-process the predictions from the model that we trained using weights by using the calibrated equality of odds algorithm \n",
        "\n",
        "The equality of odds algorithm is a method for adjusting predicted probabilities to ensure that the false negative rate is equal for the privilged and unprivilged groups. (This also ensures that the true positive rate is equal.) To do so, the algorithm uses the predicted probabilities and determines *two* threshold probabilitties for each group. Above the upper threshold, all members of the group are assigned to the positive class, and below the lower threshold, all members of the group are assigned to the negative class. But between the two thresholds, individuals are randomly assigned a class. \n",
        "\n",
        "For details, see M. Hardt, E. Price, and N. Srebro, “Equality of Opportunity in Supervised Learning,” Conference on Neural Information Processing Systems, 2016.\n",
        "\n",
        "Which definitions of fairness does this post-processing algorithm contradict?"
      ]
    },
    {
      "cell_type": "code",
      "metadata": {
        "id": "f5aLfsvnQimN",
        "colab": {
          "base_uri": "https://localhost:8080/"
        },
        "outputId": "6a36534e-c6a5-4a38-e483-2a71bd6fabdb"
      },
      "source": [
        "# Transform our predictions using the aif360 implementation of the equality of odds algorithm\n",
        "eq_odds = EqOddsPostprocessing(unprivileged_groups=unprivileged_groups, privileged_groups=privileged_groups, seed=47)\n",
        "preds_weights_eq_odds_aif360 = eq_odds.fit_predict(orig_aif360, preds_weights_aif360)"
      ],
      "execution_count": null,
      "outputs": [
        {
          "output_type": "stream",
          "text": [
            "/usr/local/lib/python3.6/dist-packages/numpy/core/fromnumeric.py:87: VisibleDeprecationWarning: Creating an ndarray from ragged nested sequences (which is a list-or-tuple of lists-or-tuples-or ndarrays with different lengths or shapes) is deprecated. If you meant to do this, you must specify 'dtype=object' when creating the ndarray\n",
            "  return ufunc.reduce(obj, axis, dtype, out, **passkwargs)\n"
          ],
          "name": "stderr"
        }
      ]
    },
    {
      "cell_type": "markdown",
      "metadata": {
        "id": "ah9hMQguEcmM"
      },
      "source": [
        "Again, calculate fairness metrics:"
      ]
    },
    {
      "cell_type": "code",
      "metadata": {
        "id": "V_jogmsyQimN",
        "colab": {
          "base_uri": "https://localhost:8080/"
        },
        "outputId": "87446de7-788a-4140-d453-99ec919b12a6"
      },
      "source": [
        "# write code to calculate fairness metrics here (see end of step 4, above)\n",
        "preds_weights_eq_odds_metrics = BinaryLabelDatasetMetric(\n",
        "     preds_weights_eq_odds_aif360, \n",
        "     unprivileged_groups = unprivileged_groups,\n",
        "     privileged_groups = privileged_groups\n",
        "  )\n",
        "\n",
        "orig_vs_preds_weights_eq_odds_metrics = ClassificationMetric(\n",
        "     orig_aif360, preds_weights_eq_odds_aif360,\n",
        "     unprivileged_groups = unprivileged_groups,\n",
        "     privileged_groups = privileged_groups\n",
        "  )\n",
        "\n",
        "\n",
        "# print the metrics\n",
        "print(\"Mean difference = %f\" % preds_weights_eq_odds_metrics.mean_difference())\n",
        "print(\"Disparate Impact = %f\" % preds_weights_eq_odds_metrics.disparate_impact())\n",
        "\n",
        "print(\"\\nError rate difference (unprivileged error rate - privileged error rate)= %f\" % orig_vs_preds_weights_eq_odds_metrics.error_rate_difference())\n",
        "\n",
        "print(\"\\nFalse negative rate for privledged groups = %f\" % orig_vs_preds_weights_eq_odds_metrics.false_negative_rate(privileged=True))\n",
        "print(\"False negative rate for unprivledged groups = %f\" % orig_vs_preds_weights_eq_odds_metrics.false_negative_rate(privileged=False))\n",
        "print(\"False negative rate ratio = %f\" % orig_vs_preds_weights_eq_odds_metrics.false_negative_rate_ratio())\n",
        "\n",
        "\n",
        "print(\"\\nFalse positive rate for privledged groups = %f\" % orig_vs_preds_weights_eq_odds_metrics.false_positive_rate(privileged=True))\n",
        "print(\"False positive rate for unprivledged groups = %f\" % orig_vs_preds_weights_eq_odds_metrics.false_positive_rate(privileged=False))\n",
        "print(\"False positive rate ratio = %f\" % orig_vs_preds_weights_eq_odds_metrics.false_positive_rate_ratio())"
      ],
      "execution_count": null,
      "outputs": [
        {
          "output_type": "stream",
          "text": [
            "Mean difference = 0.008662\n",
            "Disparate Impact = 5.382979\n",
            "\n",
            "Error rate difference (unprivileged error rate - privileged error rate)= -0.126819\n",
            "\n",
            "False negative rate for privledged groups = 1.000000\n",
            "False negative rate for unprivledged groups = 1.000000\n",
            "False negative rate ratio = 1.000000\n",
            "\n",
            "False positive rate for privledged groups = 0.007353\n",
            "False positive rate for unprivledged groups = 0.026316\n",
            "False positive rate ratio = 3.578947\n"
          ],
          "name": "stdout"
        }
      ]
    },
    {
      "cell_type": "markdown",
      "metadata": {
        "id": "pTz1Iq2iQimO"
      },
      "source": [
        "What's changed in these metrics? How could the algorithm have caused that? "
      ]
    },
    {
      "cell_type": "code",
      "metadata": {
        "id": "KP-8BAK8QimO",
        "colab": {
          "base_uri": "https://localhost:8080/"
        },
        "outputId": "22aec8aa-b3aa-46bb-8650-7efde785cb2a"
      },
      "source": [
        "# Test how accuracy has changed\n",
        "print(\"\\nAccuracy (on training data) before equality of odds algorithm = %f\" % orig_vs_preds_weights_metrics.accuracy())\n",
        "print(\"\\nAccuracy (on training data) after equality of odds algorithm = %f\" % orig_vs_preds_weights_eq_odds_metrics.accuracy())"
      ],
      "execution_count": null,
      "outputs": [
        {
          "output_type": "stream",
          "text": [
            "\n",
            "Accuracy (on training data) before equality of odds algorithm = 0.780000\n",
            "\n",
            "Accuracy (on training data) after equality of odds algorithm = 0.286667\n"
          ],
          "name": "stdout"
        }
      ]
    },
    {
      "cell_type": "markdown",
      "metadata": {
        "id": "hmtPedyUE3Pi"
      },
      "source": [
        "**Write your answer in this text cell:** The mean difference dropped to an almost insignificant level indicating a more fair favorable outcome distribution, disparate impact is >1 indicating that the unprivileged group recieved far more favorable outcomes to the privileged group, the false negative rate ratio indicates an even false negative rate between the two groups, and the rather high false positive rate still indicates a probable bias against the unprivileged group. After the equality of odds algorithm was included, the accuracy of the training data obviously went down because the training data does not necessarily reflect the original data/ realistic data."
      ]
    }
  ]
}